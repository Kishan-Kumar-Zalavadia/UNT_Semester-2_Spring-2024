{
  "nbformat": 4,
  "nbformat_minor": 0,
  "metadata": {
    "colab": {
      "provenance": []
    },
    "kernelspec": {
      "name": "python3",
      "display_name": "Python 3"
    },
    "language_info": {
      "name": "python"
    }
  },
  "cells": [
    {
      "cell_type": "markdown",
      "source": [
        "# **Activity 1: Introduction to NLP basic techniques**\n",
        "\n",
        "\n",
        "\n",
        "**Instructions:**\n",
        "\n",
        "---\n",
        "\n",
        "* Provide explanations for cells which you code in the tutorial by adding a text below the code cell.\n",
        "\n",
        "* Note: your explanation must include how the code works and libraries used and why they are used.\n",
        "\n",
        "* Submit **.ipynb and pdf**(do not use Ctrl+p to generate pdf, use some external ipynb to pdf converters Ex:onlineconvertfree.com, vertopal.com.etc ) to canvas.\n",
        "\n",
        "* The similarity score should be less than 15%\n",
        "\n",
        "\n",
        "\n",
        "# **Good Luck with the first NLP In class tasks ✌**"
      ],
      "metadata": {
        "id": "bAYOcgcD7F43"
      }
    },
    {
      "cell_type": "markdown",
      "source": [
        "# Fundamentals of NLP: Tokenization\n",
        "\n",
        "\n",
        "Natural language processing (NLP) has made substantial advances in the past few years due to the success of [modern techniques](https://nlpoverview.com/) that are based on [deep learning](https://en.wikipedia.org/wiki/Deep_learning). With the rise of the popularity of NLP and the availability of different forms of large-scale data, it is now even more imperative to understand the inner workings of NLP techniques and concepts, from first principles, as they find their way into real-world usage and applications that affect society at large. Building intuitions and having a solid grasp of concepts are both important for coming up with innovative techniques, improving research, and building safe, human-centered AI and NLP technologies.\n",
        "\n",
        "In this first chapter, which is part of a series called **Fundamentals of NLP**, we will learn about some of the most important **basic concepts** that power NLP techniques used for research and building real-world applications. Some of these techniques include *lemmatization*, *stemming*, *tokenization*, and *sentence segmentation*. These are all important techniques to train efficient and effective NLP models. Along the way, we will also cover best practices and common mistakes to avoid when training and building NLP models. We also provide some exercises for you to keep practicing and exploring some ideas.\n",
        "\n",
        "\n",
        "In every chapter, we will introduce the theoretical aspect and motivation of each concept covered. Then we will obtain hands-on experience by using bootstrap methods, industry-standard tools, and other open-source libraries to implement the different techniques. Along the way, we will also cover best practices, share important references, point out common mistakes to avoid when training and building NLP models, and discuss what lies ahead.\n",
        "\n",
        "---"
      ],
      "metadata": {
        "id": "t7X4dLtV6uFY"
      }
    },
    {
      "cell_type": "markdown",
      "source": [
        "## Tokenization\n",
        "\n",
        "\n",
        "\n",
        "With any typical NLP task, one of the first steps is to tokenize your pieces of text into its individual words/tokens (process demonstrated in the figure above), the result of which is used to create so-called vocabularies that will be used in the langauge model you plan to build. This is actually one of the techniques that we will use the most throughout this series but here we stick to the basics. Tokenization is a foundational step that transforms raw text into a structured format suitable for various NLP tasks and machine learning applications\n",
        "\n",
        "Below I am showing you an example of a simple tokenizer without any following any standards. All it does is extract tokens based on a white space seperator.\n",
        "\n",
        "Try to running the following code blocks."
      ],
      "metadata": {
        "id": "7QLoizzj66rf"
      }
    },
    {
      "cell_type": "code",
      "metadata": {
        "id": "vUhMRrhFGfqJ",
        "outputId": "a3962814-dfb7-4e62-ce98-954522693b1d",
        "colab": {
          "base_uri": "https://localhost:8080/"
        }
      },
      "source": [
        "doc = \"I love coding and writing\"\n",
        "for i, w in enumerate(doc.split(\" \")):#enumerate() is used to iterate over a sequence while keeping track of both the index and corresponding value\n",
        "    print(\"Token \" + str(i) + \": \" + w)"
      ],
      "execution_count": 1,
      "outputs": [
        {
          "output_type": "stream",
          "name": "stdout",
          "text": [
            "Token 0: I\n",
            "Token 1: love\n",
            "Token 2: coding\n",
            "Token 3: and\n",
            "Token 4: writing\n"
          ]
        }
      ]
    },
    {
      "cell_type": "markdown",
      "metadata": {
        "id": "Med-k0CeG8Ke"
      },
      "source": [
        "All the code does is separate the sentence into individual tokens. The above simple block of code works well on the text I have provided. But typically, text is a lot noisier and complex than the example I used. For instance, if I used the word \"so-called\" is that one word or two words? For such scenarios, you may need more advanced approaches for tokenization. You can consider stripping away the \"-\" and splitting into two tokens or just combining into one token but this all depends on the problem and domain you are working on.\n",
        "\n",
        "Another problem with our simple algorithm is that it cannot deal with extra whitespaces in the text. In addition, how do we deal with cities like \"New York\" and \"San Francisco\"?\n"
      ]
    },
    {
      "cell_type": "markdown",
      "metadata": {
        "id": "z0qxNrl191NS"
      },
      "source": [
        "---\n",
        "**Q 1**: Copy the code from above and add extra whitespaces to the string value assigned to the `doc` variable and identify the issue with the code. Then try to fix the issue. Hint: Use `text.strip()` to fix the problem."
      ]
    },
    {
      "cell_type": "code",
      "metadata": {
        "id": "bx22yqPJQCQc",
        "colab": {
          "base_uri": "https://localhost:8080/"
        },
        "outputId": "a652d8ad-bf28-4fce-d4ff-abf6ed3c213b"
      },
      "source": [
        "###  ENTER CODE HERE\n",
        "doc = \"   I love coding and writing.  \"\n",
        "# doc = doc.strip();\n",
        "for i, w in enumerate(doc.strip().split(\" \")):  #enumerate() is used to iterate over a sequence while keeping track of both the index and corresponding value\n",
        "    print(\"Token \" + str(i) + \": \" + w)\n",
        "###"
      ],
      "execution_count": 2,
      "outputs": [
        {
          "output_type": "stream",
          "name": "stdout",
          "text": [
            "Token 0: I\n",
            "Token 1: love\n",
            "Token 2: coding\n",
            "Token 3: and\n",
            "Token 4: writing.\n"
          ]
        }
      ]
    },
    {
      "cell_type": "markdown",
      "source": [
        "- strip() method removes all the extra spaces at the beginning and end of the string."
      ],
      "metadata": {
        "id": "c7sGm8_iz6CT"
      }
    },
    {
      "cell_type": "markdown",
      "metadata": {
        "id": "QpYLDmLu9379"
      },
      "source": [
        "---"
      ]
    },
    {
      "cell_type": "markdown",
      "metadata": {
        "id": "kSQwXKwrQAp0"
      },
      "source": [
        "Tokenization can also come in different forms. For instance, more recently a lot of state-of-the-art NLP models such as [BERT](https://arxiv.org/pdf/1810.04805.pdf) make use of `subword` tokens in which frequent combinations of characters also form part of the vocabulary. This helps to deal with the so-called out of vocabulary (OOV) problem. We will discuss this in upcoming chapters, but if you are interested in reading more about this now, check this [paper](https://static.googleusercontent.com/media/research.google.com/en//pubs/archive/37842.pdf).\n",
        "\n",
        "To demonstrate how you can achieve more reliable tokenization, we are going to use [spaCy](https://spacy.io/), which is an impressive and robust Python library for natural language processing. In particular, we are going to use the built-in tokenizer found [here](https://spacy.io/usage/linguistic-features#sbd-custom).\n",
        "\n",
        "Run the code block below."
      ]
    },
    {
      "cell_type": "markdown",
      "source": [
        "**spaCy**: spaCy is an open-source Python library for natural language processing (NLP). It provides tools to efficiently process and analyze text data, offering features like tokenization, part-of-speech tagging, named entity recognition, and more. Known for its speed and accuracy, spaCy is widely used in NLP tasks for extracting insights and information from text."
      ],
      "metadata": {
        "id": "8lc6_hmeIQe5"
      }
    },
    {
      "cell_type": "code",
      "source": [
        "## required libraries that need to be installed\n",
        "%%capture\n",
        "!pip install -U spacy\n",
        "#!pip install -U spacy-lookups-data\n",
        "!python -m spacy download en_core_web_sm"
      ],
      "metadata": {
        "id": "mLYJdZ-eINXp"
      },
      "execution_count": 3,
      "outputs": []
    },
    {
      "cell_type": "code",
      "metadata": {
        "id": "Cpinv_FjoyVx",
        "outputId": "0763ff5c-ebf7-467b-b9fa-3c6c64272aff",
        "colab": {
          "base_uri": "https://localhost:8080/"
        }
      },
      "source": [
        "## import the libraries\n",
        "import spacy #opensource lib used for tokenization,lemmatization and provides pre trained models\n",
        "## load the pre trained language model\n",
        "nlp = spacy.load(\"en_core_web_sm\") #\"en\" indicates English, \"core\" suggests that it's a core language model, \"web\" refers to the source of the training data, and \"sm\" stands for \"small\"\n",
        "\n",
        "## tokenization\n",
        "doc = nlp(\"This is the so-called lemmatization\")\n",
        "for token in doc:\n",
        "    print(token.text)"
      ],
      "execution_count": 4,
      "outputs": [
        {
          "output_type": "stream",
          "name": "stdout",
          "text": [
            "This\n",
            "is\n",
            "the\n",
            "so\n",
            "-\n",
            "called\n",
            "lemmatization\n"
          ]
        }
      ]
    },
    {
      "cell_type": "markdown",
      "source": [
        "---\n",
        "**NLTK** (Natural Language Toolkit) is a Python library that provides tools and resources for working with human language data, enabling tasks like text processing, analysis, and understanding. It's widely used for various natural language processing tasks, offering functions for tasks like tokenization, part-of-speech tagging, and more"
      ],
      "metadata": {
        "id": "6Band6VELIpG"
      }
    },
    {
      "cell_type": "code",
      "source": [
        "import nltk\n",
        "nltk.download('punkt')#Punkt is a pre-trained sentence tokenizer provided by NLTK that can intelligently split text into individual sentences\n",
        "from nltk.tokenize import word_tokenize #word_tokenize function is used to split a piece of text into individual words or tokens\n",
        "sentence = \"\"\"At eight o'clock on Thursday morning Arthur didn't feel very good.\"\"\"\n",
        "tokens = nltk.word_tokenize(sentence)\n",
        "tokens"
      ],
      "metadata": {
        "id": "mAL5s1ddKrBv",
        "colab": {
          "base_uri": "https://localhost:8080/"
        },
        "outputId": "aaadb9bb-867e-4673-b577-c6773f4510a3"
      },
      "execution_count": 5,
      "outputs": [
        {
          "output_type": "stream",
          "name": "stderr",
          "text": [
            "[nltk_data] Downloading package punkt to /root/nltk_data...\n",
            "[nltk_data]   Unzipping tokenizers/punkt.zip.\n"
          ]
        },
        {
          "output_type": "execute_result",
          "data": {
            "text/plain": [
              "['At',\n",
              " 'eight',\n",
              " \"o'clock\",\n",
              " 'on',\n",
              " 'Thursday',\n",
              " 'morning',\n",
              " 'Arthur',\n",
              " 'did',\n",
              " \"n't\",\n",
              " 'feel',\n",
              " 'very',\n",
              " 'good',\n",
              " '.']"
            ]
          },
          "metadata": {},
          "execution_count": 5
        }
      ]
    },
    {
      "cell_type": "markdown",
      "source": [
        "**Q 2**: Copy the code from above and extend  the code to print tokens from the given sentence that have a length greater than 5?"
      ],
      "metadata": {
        "id": "Jnyu2UQWLuAs"
      }
    },
    {
      "cell_type": "code",
      "source": [
        "##CODE HERE\n",
        "import nltk\n",
        "nltk.download('punkt')#Punkt is a pre-trained sentence tokenizer provided by NLTK that can intelligently split text into individual sentences\n",
        "from nltk.tokenize import word_tokenize #word_tokenize function is used to split a piece of text into individual words or tokens\n",
        "sentence = \"\"\"At eight o'clock on Thursday morning Arthur didn't feel very good.\"\"\"\n",
        "tokens = nltk.word_tokenize(sentence)\n",
        "tokens"
      ],
      "metadata": {
        "id": "1snxEU2PMIIF",
        "colab": {
          "base_uri": "https://localhost:8080/"
        },
        "outputId": "855020ba-f124-4f09-a45a-9970eeb2fc5d"
      },
      "execution_count": 6,
      "outputs": [
        {
          "output_type": "stream",
          "name": "stderr",
          "text": [
            "[nltk_data] Downloading package punkt to /root/nltk_data...\n",
            "[nltk_data]   Package punkt is already up-to-date!\n"
          ]
        },
        {
          "output_type": "execute_result",
          "data": {
            "text/plain": [
              "['At',\n",
              " 'eight',\n",
              " \"o'clock\",\n",
              " 'on',\n",
              " 'Thursday',\n",
              " 'morning',\n",
              " 'Arthur',\n",
              " 'did',\n",
              " \"n't\",\n",
              " 'feel',\n",
              " 'very',\n",
              " 'good',\n",
              " '.']"
            ]
          },
          "metadata": {},
          "execution_count": 6
        }
      ]
    },
    {
      "cell_type": "code",
      "source": [
        "# for token in tokens:\n",
        "#     if len(token) > 5:\n",
        "#         print(token)\n",
        "# <-or->\n",
        "new_tokens = [token for token in tokens if len(token) > 5]\n",
        "new_tokens"
      ],
      "metadata": {
        "colab": {
          "base_uri": "https://localhost:8080/"
        },
        "id": "72LsPQVX2sRn",
        "outputId": "5d9981fb-91b6-498c-9594-7fd2d4019f37"
      },
      "execution_count": 7,
      "outputs": [
        {
          "output_type": "execute_result",
          "data": {
            "text/plain": [
              "[\"o'clock\", 'Thursday', 'morning', 'Arthur']"
            ]
          },
          "metadata": {},
          "execution_count": 7
        }
      ]
    },
    {
      "cell_type": "markdown",
      "source": [
        "---\n",
        "**Gensim** is a Python library designed for topic modeling and document similarity analysis. It specializes in handling large text corpora efficiently. Gensim provides tools for tasks like topic modeling, word embedding, and document similarity calculation. It's widely used for uncovering hidden patterns in text data and generating insights from unstructured text.\n",
        "\n",
        "In summary, Gensim is a powerful library in the field of natural language processing (NLP) that focuses on tasks related to text analysis and modeling, such as extracting topics from documents and creating word embeddings."
      ],
      "metadata": {
        "id": "fqKqRVSXNCZD"
      }
    },
    {
      "cell_type": "code",
      "source": [
        "#genism work tokenization\n",
        "!pip install gensim\n",
        "from gensim.utils import tokenize\n",
        "text = \"\"\"Founded in 2002, SpaceX’s mission is to enable humans to become a spacefaring civilization and a multi-planet\n",
        "species by building a self-sustaining city on Mars. In 2008, SpaceX’s Falcon 1 became the first privately developed\n",
        "liquid-fuel launch vehicle to orbit the Earth.\"\"\"\n",
        "list(tokenize(text))"
      ],
      "metadata": {
        "id": "TaKOpJByNBYL",
        "colab": {
          "base_uri": "https://localhost:8080/"
        },
        "outputId": "b593572e-378d-4681-9b7a-c55ff933f7bb"
      },
      "execution_count": 8,
      "outputs": [
        {
          "output_type": "stream",
          "name": "stdout",
          "text": [
            "Requirement already satisfied: gensim in /usr/local/lib/python3.10/dist-packages (4.3.2)\n",
            "Requirement already satisfied: numpy>=1.18.5 in /usr/local/lib/python3.10/dist-packages (from gensim) (1.23.5)\n",
            "Requirement already satisfied: scipy>=1.7.0 in /usr/local/lib/python3.10/dist-packages (from gensim) (1.11.4)\n",
            "Requirement already satisfied: smart-open>=1.8.1 in /usr/local/lib/python3.10/dist-packages (from gensim) (6.4.0)\n"
          ]
        },
        {
          "output_type": "execute_result",
          "data": {
            "text/plain": [
              "['Founded',\n",
              " 'in',\n",
              " 'SpaceX',\n",
              " 's',\n",
              " 'mission',\n",
              " 'is',\n",
              " 'to',\n",
              " 'enable',\n",
              " 'humans',\n",
              " 'to',\n",
              " 'become',\n",
              " 'a',\n",
              " 'spacefaring',\n",
              " 'civilization',\n",
              " 'and',\n",
              " 'a',\n",
              " 'multi',\n",
              " 'planet',\n",
              " 'species',\n",
              " 'by',\n",
              " 'building',\n",
              " 'a',\n",
              " 'self',\n",
              " 'sustaining',\n",
              " 'city',\n",
              " 'on',\n",
              " 'Mars',\n",
              " 'In',\n",
              " 'SpaceX',\n",
              " 's',\n",
              " 'Falcon',\n",
              " 'became',\n",
              " 'the',\n",
              " 'first',\n",
              " 'privately',\n",
              " 'developed',\n",
              " 'liquid',\n",
              " 'fuel',\n",
              " 'launch',\n",
              " 'vehicle',\n",
              " 'to',\n",
              " 'orbit',\n",
              " 'the',\n",
              " 'Earth']"
            ]
          },
          "metadata": {},
          "execution_count": 8
        }
      ]
    },
    {
      "cell_type": "markdown",
      "source": [
        "**Q 3**. Now based on above word tokenizations perform a **sentence** tokenization using spacy or nltk?"
      ],
      "metadata": {
        "id": "A6CXDnOeRlvX"
      }
    },
    {
      "cell_type": "code",
      "source": [
        "##CODE HERE\n",
        "from nltk.tokenize import sent_tokenize\n",
        "text = \"\"\"Founded in 2002, SpaceX’s mission is to enable humans to become a spacefaring civilization and a multi-planet\n",
        "species by building a self-sustaining city on Mars. In 2008, SpaceX’s Falcon 1 became the first privately developed\n",
        "liquid-fuel launch vehicle to orbit the Earth.\"\"\"\n",
        "sentence_tokens = sent_tokenize(text)\n",
        "sentence_tokens"
      ],
      "metadata": {
        "id": "XpYXY2cgRl9G",
        "colab": {
          "base_uri": "https://localhost:8080/"
        },
        "outputId": "8dd854e7-91f8-4b86-a7d5-d32f72b35829"
      },
      "execution_count": 9,
      "outputs": [
        {
          "output_type": "execute_result",
          "data": {
            "text/plain": [
              "['Founded in 2002, SpaceX’s mission is to enable humans to become a spacefaring civilization and a multi-planet\\nspecies by building a self-sustaining city on Mars.',\n",
              " 'In 2008, SpaceX’s Falcon 1 became the first privately developed\\nliquid-fuel launch vehicle to orbit the Earth.']"
            ]
          },
          "metadata": {},
          "execution_count": 9
        }
      ]
    },
    {
      "cell_type": "markdown",
      "source": [
        "- nltk library provides sent_tokenize which can be used to perform sentence tokenization."
      ],
      "metadata": {
        "id": "Qf-3oR_G5X1j"
      }
    },
    {
      "cell_type": "markdown",
      "metadata": {
        "id": "Zl6JG5yirhn0"
      },
      "source": [
        "All the code does is tokenize the text based on a pre-built language model.\n",
        "\n",
        "Try putting different running text into the `nlp()` part of the code above. The tokenizer is quiet robust and it includes a series of built-in rules that deal with exceptions and special cases such as those tokens that contain puctuations like \"`\" and \".\", \"-\", etc. You can even add your own rules, find out how [here](https://spacy.io/usage/linguistic-features#special-cases).\n",
        "\n",
        "In a later chapter of the series, we will do a deep dive on tokenization and the different tools that exist out there that can simplify and speed up the process of tokenization to build vocabularies. Some of the tools we will explore are the [Keras Tokenizer API](https://www.tensorflow.org/api_docs/python/tf/keras/preprocessing/text/Tokenizer) and [Hugging Face Tokenizer](https://github.com/huggingface/tokenizers).  \n",
        "\n",
        "---"
      ]
    },
    {
      "cell_type": "markdown",
      "source": [
        "**BeautifulSoup**: Beautiful Soup is a Python library used for web scraping. It helps extract data from HTML and XML documents by providing methods to parse and navigate their content. Beautiful Soup simplifies the process of extracting information from web pages, making it accessible for various data collection and analysis tasks."
      ],
      "metadata": {
        "id": "Jm3BnqMw1VbK"
      }
    },
    {
      "cell_type": "code",
      "source": [
        "#code block 1\n",
        "#import the required libraries\n",
        "\n",
        "from bs4 import BeautifulSoup\n",
        "import urllib.request\n",
        "import nltk\n",
        "from nltk.corpus import stopwords\n",
        "nltk.download('stopwords')"
      ],
      "metadata": {
        "colab": {
          "base_uri": "https://localhost:8080/"
        },
        "id": "b9IYeaL83fge",
        "outputId": "048a433c-0f07-4e4a-e11c-176f139d90bf"
      },
      "execution_count": 10,
      "outputs": [
        {
          "output_type": "stream",
          "name": "stderr",
          "text": [
            "[nltk_data] Downloading package stopwords to /root/nltk_data...\n",
            "[nltk_data]   Unzipping corpora/stopwords.zip.\n"
          ]
        },
        {
          "output_type": "execute_result",
          "data": {
            "text/plain": [
              "True"
            ]
          },
          "metadata": {},
          "execution_count": 10
        }
      ]
    },
    {
      "cell_type": "markdown",
      "source": [
        "First, we will grab a web page content then we will analyze the text to see what the page is about.\n",
        "We will use the urllib module to crawl the web page:"
      ],
      "metadata": {
        "id": "m1ITOcdI81gn"
      }
    },
    {
      "cell_type": "code",
      "source": [
        "#code block 2\n",
        "\n",
        "import urllib.request\n",
        "\n",
        "#open and read the spacex data\n",
        "response = urllib.request.urlopen('http://php.net/')\n",
        "html = response.read()\n",
        "print(html)"
      ],
      "metadata": {
        "id": "VzJX6IyZ86Xi",
        "colab": {
          "base_uri": "https://localhost:8080/"
        },
        "outputId": "f7408836-9700-4d14-928f-8d3582a1e919"
      },
      "execution_count": 11,
      "outputs": [
        {
          "output_type": "stream",
          "name": "stdout",
          "text": [
            "b'<!DOCTYPE html>\\n<html xmlns=\"http://www.w3.org/1999/xhtml\" lang=\"en\">\\n<head>\\n\\n  <meta charset=\"utf-8\">\\n  <meta name=\"viewport\" content=\"width=device-width, initial-scale=1.0\">\\n\\n  <title>PHP: Hypertext Preprocessor</title>\\n\\n <link rel=\"icon\" type=\"image/svg+xml\" sizes=\"any\" href=\"https://www.php.net/favicon.svg?v=2\">\\n <link rel=\"icon\" type=\"image/png\" sizes=\"196x196\" href=\"https://www.php.net/favicon-196x196.png?v=2\">\\n <link rel=\"icon\" type=\"image/png\" sizes=\"32x32\" href=\"https://www.php.net/favicon-32x32.png?v=2\">\\n <link rel=\"icon\" type=\"image/png\" sizes=\"16x16\" href=\"https://www.php.net/favicon-16x16.png?v=2\">\\n <link rel=\"shortcut icon\" href=\"https://www.php.net/favicon.ico?v=2\">\\n\\n <link rel=\"search\" type=\"application/opensearchdescription+xml\" href=\"http://php.net/phpnetimprovedsearch.src\" title=\"Add PHP.net search\">\\n <link rel=\"alternate\" type=\"application/atom+xml\" href=\"https://www.php.net/releases/feed.php\" title=\"PHP Release feed\">\\n <link rel=\"alternate\" type=\"application/atom+xml\" href=\"https://www.php.net/feed.atom\" title=\"PHP: Hypertext Preprocessor\">\\n\\n <link rel=\"canonical\" href=\"https://www.php.net/index.php\">\\n <link rel=\"shorturl\" href=\"https://www.php.net/index\">\\n <link rel=\"alternate\" href=\"https://www.php.net/index\" hreflang=\"x-default\">\\n\\n\\n\\n<link rel=\"stylesheet\" type=\"text/css\" href=\"/cached.php?t=1689765002&amp;f=/fonts/Fira/fira.css\" media=\"screen\">\\n<link rel=\"stylesheet\" type=\"text/css\" href=\"/cached.php?t=1700771401&amp;f=/fonts/Font-Awesome/css/fontello.css\" media=\"screen\">\\n<link rel=\"stylesheet\" type=\"text/css\" href=\"/cached.php?t=1705413607&amp;f=/styles/theme-base.css\" media=\"screen\">\\n<link rel=\"stylesheet\" type=\"text/css\" href=\"/cached.php?t=1701958202&amp;f=/styles/theme-medium.css\" media=\"screen\">\\n<link rel=\"stylesheet\" type=\"text/css\" href=\"/cached.php?t=1706863801&amp;f=/styles/home.css\" media=\"screen\">\\n\\n <base href=\"https://www.php.net/index.php\">\\n\\n<meta name=\"Description\" content=\"PHP is a popular general-purpose scripting language that powers everything from your blog to the most popular websites in the world.\" />\\n\\n<meta name=\"twitter:card\" content=\"summary_large_image\" />\\n<meta name=\"twitter:site\" content=\"@official_php\" />\\n<meta name=\"twitter:title\" content=\"PHP: Hypertext Preprocessor\" />\\n<meta name=\"twitter:description\" content=\"PHP is a popular general-purpose scripting language that powers everything from your blog to the most popular websites in the world.\" />\\n<meta name=\"twitter:creator\" content=\"@official_php\" />\\n<meta name=\"twitter:image:src\" content=\"https://www.php.net/images/meta-image.png\" />\\n\\n<meta itemprop=\"name\" content=\"PHP: Hypertext Preprocessor\" />\\n<meta itemprop=\"description\" content=\"PHP is a popular general-purpose scripting language that powers everything from your blog to the most popular websites in the world.\" />\\n<meta itemprop=\"image\" content=\"https://www.php.net/images/meta-image.png\" />\\n\\n<meta property=\"og:image\" content=\"https://www.php.net/images/meta-image.png\" />\\n<meta property=\"og:description\" content=\"PHP is a popular general-purpose scripting language that powers everything from your blog to the most popular websites in the world.\" />\\n\\n<link href=\"https://fosstodon.org/@php\" rel=\"me\" />\\n</head>\\n<body class=\"home \">\\n\\n<nav id=\"head-nav\" class=\"navbar navbar-fixed-top\">\\n  <div class=\"navbar-inner clearfix\">\\n    <a href=\"/\" class=\"brand\"><img src=\"/images/logos/php-logo.svg\" width=\"48\" height=\"24\" alt=\"php\"></a>\\n    <div id=\"mainmenu-toggle-overlay\"></div>\\n    <input type=\"checkbox\" id=\"mainmenu-toggle\">\\n    <ul class=\"nav\">\\n      <li class=\"\"><a href=\"/downloads\">Downloads</a></li>\\n      <li class=\"\"><a href=\"/docs.php\">Documentation</a></li>\\n      <li class=\"\"><a href=\"/get-involved\" >Get Involved</a></li>\\n      <li class=\"\"><a href=\"/support\">Help</a></li>\\n      <li class=\"\">\\n        <a href=\"/releases/8.3/index.php\">\\n          <img src=\"/images/php8/logo_php8_3.svg\" alt=\"php8.3\" height=\"22\" width=\"60\">\\n        </a>\\n      </li>\\n    </ul>\\n    <form class=\"navbar-search\" id=\"topsearch\" action=\"/search.php\">\\n      <input type=\"hidden\" name=\"show\" value=\"quickref\">\\n      <input type=\"search\" name=\"pattern\" class=\"search-query\" placeholder=\"Search\" accesskey=\"s\">\\n    </form>\\n  </div>\\n  <div id=\"flash-message\"></div>\\n</nav>\\n<nav id=\"trick\"><div><dl>\\n<dt><a href=\\'/manual/en/getting-started.php\\'>Getting Started</a></dt>\\n\\t<dd><a href=\\'/manual/en/introduction.php\\'>Introduction</a></dd>\\n\\t<dd><a href=\\'/manual/en/tutorial.php\\'>A simple tutorial</a></dd>\\n<dt><a href=\\'/manual/en/langref.php\\'>Language Reference</a></dt>\\n\\t<dd><a href=\\'/manual/en/language.basic-syntax.php\\'>Basic syntax</a></dd>\\n\\t<dd><a href=\\'/manual/en/language.types.php\\'>Types</a></dd>\\n\\t<dd><a href=\\'/manual/en/language.variables.php\\'>Variables</a></dd>\\n\\t<dd><a href=\\'/manual/en/language.constants.php\\'>Constants</a></dd>\\n\\t<dd><a href=\\'/manual/en/language.expressions.php\\'>Expressions</a></dd>\\n\\t<dd><a href=\\'/manual/en/language.operators.php\\'>Operators</a></dd>\\n\\t<dd><a href=\\'/manual/en/language.control-structures.php\\'>Control Structures</a></dd>\\n\\t<dd><a href=\\'/manual/en/language.functions.php\\'>Functions</a></dd>\\n\\t<dd><a href=\\'/manual/en/language.oop5.php\\'>Classes and Objects</a></dd>\\n\\t<dd><a href=\\'/manual/en/language.namespaces.php\\'>Namespaces</a></dd>\\n\\t<dd><a href=\\'/manual/en/language.enumerations.php\\'>Enumerations</a></dd>\\n\\t<dd><a href=\\'/manual/en/language.errors.php\\'>Errors</a></dd>\\n\\t<dd><a href=\\'/manual/en/language.exceptions.php\\'>Exceptions</a></dd>\\n\\t<dd><a href=\\'/manual/en/language.fibers.php\\'>Fibers</a></dd>\\n\\t<dd><a href=\\'/manual/en/language.generators.php\\'>Generators</a></dd>\\n\\t<dd><a href=\\'/manual/en/language.attributes.php\\'>Attributes</a></dd>\\n\\t<dd><a href=\\'/manual/en/language.references.php\\'>References Explained</a></dd>\\n\\t<dd><a href=\\'/manual/en/reserved.variables.php\\'>Predefined Variables</a></dd>\\n\\t<dd><a href=\\'/manual/en/reserved.exceptions.php\\'>Predefined Exceptions</a></dd>\\n\\t<dd><a href=\\'/manual/en/reserved.interfaces.php\\'>Predefined Interfaces and Classes</a></dd>\\n\\t<dd><a href=\\'/manual/en/reserved.attributes.php\\'>Predefined Attributes</a></dd>\\n\\t<dd><a href=\\'/manual/en/context.php\\'>Context options and parameters</a></dd>\\n\\t<dd><a href=\\'/manual/en/wrappers.php\\'>Supported Protocols and Wrappers</a></dd>\\n</dl>\\n<dl>\\n<dt><a href=\\'/manual/en/security.php\\'>Security</a></dt>\\n\\t<dd><a href=\\'/manual/en/security.intro.php\\'>Introduction</a></dd>\\n\\t<dd><a href=\\'/manual/en/security.general.php\\'>General considerations</a></dd>\\n\\t<dd><a href=\\'/manual/en/security.cgi-bin.php\\'>Installed as CGI binary</a></dd>\\n\\t<dd><a href=\\'/manual/en/security.apache.php\\'>Installed as an Apache module</a></dd>\\n\\t<dd><a href=\\'/manual/en/security.sessions.php\\'>Session Security</a></dd>\\n\\t<dd><a href=\\'/manual/en/security.filesystem.php\\'>Filesystem Security</a></dd>\\n\\t<dd><a href=\\'/manual/en/security.database.php\\'>Database Security</a></dd>\\n\\t<dd><a href=\\'/manual/en/security.errors.php\\'>Error Reporting</a></dd>\\n\\t<dd><a href=\\'/manual/en/security.variables.php\\'>User Submitted Data</a></dd>\\n\\t<dd><a href=\\'/manual/en/security.hiding.php\\'>Hiding PHP</a></dd>\\n\\t<dd><a href=\\'/manual/en/security.current.php\\'>Keeping Current</a></dd>\\n<dt><a href=\\'/manual/en/features.php\\'>Features</a></dt>\\n\\t<dd><a href=\\'/manual/en/features.http-auth.php\\'>HTTP authentication with PHP</a></dd>\\n\\t<dd><a href=\\'/manual/en/features.cookies.php\\'>Cookies</a></dd>\\n\\t<dd><a href=\\'/manual/en/features.sessions.php\\'>Sessions</a></dd>\\n\\t<dd><a href=\\'/manual/en/features.xforms.php\\'>Dealing with XForms</a></dd>\\n\\t<dd><a href=\\'/manual/en/features.file-upload.php\\'>Handling file uploads</a></dd>\\n\\t<dd><a href=\\'/manual/en/features.remote-files.php\\'>Using remote files</a></dd>\\n\\t<dd><a href=\\'/manual/en/features.connection-handling.php\\'>Connection handling</a></dd>\\n\\t<dd><a href=\\'/manual/en/features.persistent-connections.php\\'>Persistent Database Connections</a></dd>\\n\\t<dd><a href=\\'/manual/en/features.commandline.php\\'>Command line usage</a></dd>\\n\\t<dd><a href=\\'/manual/en/features.gc.php\\'>Garbage Collection</a></dd>\\n\\t<dd><a href=\\'/manual/en/features.dtrace.php\\'>DTrace Dynamic Tracing</a></dd>\\n</dl>\\n<dl>\\n<dt><a href=\\'/manual/en/funcref.php\\'>Function Reference</a></dt>\\n\\t<dd><a href=\\'/manual/en/refs.basic.php.php\\'>Affecting PHP\\'s Behaviour</a></dd>\\n\\t<dd><a href=\\'/manual/en/refs.utilspec.audio.php\\'>Audio Formats Manipulation</a></dd>\\n\\t<dd><a href=\\'/manual/en/refs.remote.auth.php\\'>Authentication Services</a></dd>\\n\\t<dd><a href=\\'/manual/en/refs.utilspec.cmdline.php\\'>Command Line Specific Extensions</a></dd>\\n\\t<dd><a href=\\'/manual/en/refs.compression.php\\'>Compression and Archive Extensions</a></dd>\\n\\t<dd><a href=\\'/manual/en/refs.crypto.php\\'>Cryptography Extensions</a></dd>\\n\\t<dd><a href=\\'/manual/en/refs.database.php\\'>Database Extensions</a></dd>\\n\\t<dd><a href=\\'/manual/en/refs.calendar.php\\'>Date and Time Related Extensions</a></dd>\\n\\t<dd><a href=\\'/manual/en/refs.fileprocess.file.php\\'>File System Related Extensions</a></dd>\\n\\t<dd><a href=\\'/manual/en/refs.international.php\\'>Human Language and Character Encoding Support</a></dd>\\n\\t<dd><a href=\\'/manual/en/refs.utilspec.image.php\\'>Image Processing and Generation</a></dd>\\n\\t<dd><a href=\\'/manual/en/refs.remote.mail.php\\'>Mail Related Extensions</a></dd>\\n\\t<dd><a href=\\'/manual/en/refs.math.php\\'>Mathematical Extensions</a></dd>\\n\\t<dd><a href=\\'/manual/en/refs.utilspec.nontext.php\\'>Non-Text MIME Output</a></dd>\\n\\t<dd><a href=\\'/manual/en/refs.fileprocess.process.php\\'>Process Control Extensions</a></dd>\\n\\t<dd><a href=\\'/manual/en/refs.basic.other.php\\'>Other Basic Extensions</a></dd>\\n\\t<dd><a href=\\'/manual/en/refs.remote.other.php\\'>Other Services</a></dd>\\n\\t<dd><a href=\\'/manual/en/refs.search.php\\'>Search Engine Extensions</a></dd>\\n\\t<dd><a href=\\'/manual/en/refs.utilspec.server.php\\'>Server Specific Extensions</a></dd>\\n\\t<dd><a href=\\'/manual/en/refs.basic.session.php\\'>Session Extensions</a></dd>\\n\\t<dd><a href=\\'/manual/en/refs.basic.text.php\\'>Text Processing</a></dd>\\n\\t<dd><a href=\\'/manual/en/refs.basic.vartype.php\\'>Variable and Type Related Extensions</a></dd>\\n\\t<dd><a href=\\'/manual/en/refs.webservice.php\\'>Web Services</a></dd>\\n\\t<dd><a href=\\'/manual/en/refs.utilspec.windows.php\\'>Windows Only Extensions</a></dd>\\n\\t<dd><a href=\\'/manual/en/refs.xml.php\\'>XML Manipulation</a></dd>\\n\\t<dd><a href=\\'/manual/en/refs.ui.php\\'>GUI Extensions</a></dd>\\n</dl>\\n<dl>\\n<dt>Keyboard Shortcuts</dt><dt>?</dt>\\n<dd>This help</dd>\\n<dt>j</dt>\\n<dd>Next menu item</dd>\\n<dt>k</dt>\\n<dd>Previous menu item</dd>\\n<dt>g p</dt>\\n<dd>Previous man page</dd>\\n<dt>g n</dt>\\n<dd>Next man page</dd>\\n<dt>G</dt>\\n<dd>Scroll to bottom</dd>\\n<dt>g g</dt>\\n<dd>Scroll to top</dd>\\n<dt>g h</dt>\\n<dd>Goto homepage</dd>\\n<dt>g s</dt>\\n<dd>Goto search<br>(current page)</dd>\\n<dt>/</dt>\\n<dd>Focus search box</dd>\\n</dl></div></nav>\\n<div id=\"goto\">\\n    <div class=\"search\">\\n         <div class=\"text\"></div>\\n         <div class=\"results\"><ul></ul></div>\\n   </div>\\n</div>\\n\\n\\n\\n<div id=\"intro\" class=\"clearfix\">\\n  <div class=\"container\">\\n      <div class=\"hero\">\\n    <img class=\"hero-logo\" src=\"/images/logos/php-logo-white.svg\" alt=\"php\" width=\"240\" height=\"120\">\\n    <p class=\"hero-text\">A <strong>popular general-purpose scripting language</strong> that is especially suited to web development.<br />Fast, flexible and pragmatic, PHP powers everything from your blog to the most popular websites in the world.</p>\\n    <div class=\"hero-actions\">\\n      <a href=\"/releases/8.3/index.php\" class=\"hero-btn hero-btn-primary\">What\\'s new in 8.3</a>\\n      <a href=\"/downloads.php\" class=\"hero-btn hero-btn-secondary\">Download</a>\\n    </div><ul class=\\'hero-versions\\'>\\n\\n            <li class=\\'hero-version\\'><a class=\\'hero-version-link\\' href=\\'/downloads.php#v8.3.2\\'>8.3.2</a> &middot; <a class=\\'notes\\' href=\\'/ChangeLog-8.php#8.3.2\\'>Changelog</a> &middot; <a class=\\'notes\\' href=\\'/migration83\\'>Upgrading</a></li>\\n\\n            <li class=\\'hero-version\\'><a class=\\'hero-version-link\\' href=\\'/downloads.php#v8.2.15\\'>8.2.15</a> &middot; <a class=\\'notes\\' href=\\'/ChangeLog-8.php#8.2.15\\'>Changelog</a> &middot; <a class=\\'notes\\' href=\\'/migration82\\'>Upgrading</a></li>\\n\\n            <li class=\\'hero-version\\'><a class=\\'hero-version-link\\' href=\\'/downloads.php#v8.1.27\\'>8.1.27</a> &middot; <a class=\\'notes\\' href=\\'/ChangeLog-8.php#8.1.27\\'>Changelog</a> &middot; <a class=\\'notes\\' href=\\'/migration81\\'>Upgrading</a></li>\\n</ul>\\n  </div>  </div>\\n</div>\\n\\n\\n<div id=\"layout\" class=\"clearfix\">\\n  <section id=\"layout-content\">\\n<div class=\\'home-content\\'><article class=\"newsentry\">\\n  <header class=\"title\">\\n    <time datetime=\"2024-01-18T15:35:45+00:00\">18 Jan 2024</time>\\n    <h2 class=\"newstitle\">\\n      <a href=\"https://www.php.net/archive/2024.php#2024-01-18-2\" id=\"2024-01-18-2\">PHP 8.2.15 Released!</a>\\n    </h2>\\n  </header>\\n  <div class=\"newscontent\">\\n    <div><p>The PHP development team announces the immediate availability of PHP 8.2.15. This is a bug fix release.</p>\\n\\n<p>All PHP 8.2 users are encouraged to upgrade to this version.</p>\\n\\n<p>For source downloads of PHP 8.2.15 please visit our <a href=\"https://www.php.net/downloads.php\">downloads page</a>,\\nWindows source and binaries can be found on <a href=\"https://windows.php.net/download/\">windows.php.net/download/</a>.\\nThe list of changes is recorded in the <a href=\"https://www.php.net/ChangeLog-8.php#8.2.15\">ChangeLog</a>.\\n</p>    </div>\\n  \\n  </div>\\n</article><article class=\"newsentry\">\\n  <header class=\"title\">\\n    <time datetime=\"2024-01-18T14:47:41+00:00\">18 Jan 2024</time>\\n    <h2 class=\"newstitle\">\\n      <a href=\"https://www.php.net/archive/2024.php#2024-01-18-1\" id=\"2024-01-18-1\">PHP 8.3.2 Released!</a>\\n    </h2>\\n  </header>\\n  <div class=\"newscontent\">\\n    <div><p>The PHP development team announces the immediate availability of PHP 8.3.2. This is a bug fix release.</p>\\n\\n<p>All PHP 8.3 users are encouraged to upgrade to this version.</p>\\n\\n<p>For source downloads of PHP 8.3.2 please visit our <a href=\"https://www.php.net/downloads.php\">downloads page</a>,\\nWindows source and binaries can be found on <a href=\"https://windows.php.net/download/\">windows.php.net/download/</a>.\\nThe list of changes is recorded in the <a href=\"https://www.php.net/ChangeLog-8.php#8.3.2\">ChangeLog</a>.\\n</p>    </div>\\n  \\n  </div>\\n</article><article class=\"newsentry\">\\n  <header class=\"title\">\\n    <time datetime=\"2023-12-21T14:28:29-05:00\">21 Dec 2023</time>\\n    <h2 class=\"newstitle\">\\n      <a href=\"https://www.php.net/archive/2023.php#2023-12-21-3\" id=\"2023-12-21-3\">PHP 8.2.14 Released!</a>\\n    </h2>\\n  </header>\\n  <div class=\"newscontent\">\\n    <div><p>The PHP development team announces the immediate availability of PHP 8.2.14. This is a bug fix release.</p>\\n\\n<p>All PHP 8.2 users are encouraged to upgrade to this version.</p>\\n\\n<p>For source downloads of PHP 8.2.14 please visit our <a href=\"https://www.php.net/downloads.php\">downloads page</a>,\\nWindows source and binaries can be found on <a href=\"https://windows.php.net/download/\">windows.php.net/download/</a>.\\nThe list of changes is recorded in the <a href=\"https://www.php.net/ChangeLog-8.php#8.2.14\">ChangeLog</a>.\\n</p>    </div>\\n  \\n  </div>\\n</article><article class=\"newsentry\">\\n  <header class=\"title\">\\n    <time datetime=\"2023-12-21T16:12:41+00:00\">21 Dec 2023</time>\\n    <h2 class=\"newstitle\">\\n      <a href=\"https://www.php.net/archive/2023.php#2023-12-21-2\" id=\"2023-12-21-2\">PHP 8.1.27 Released!</a>\\n    </h2>\\n  </header>\\n  <div class=\"newscontent\">\\n    <div><p>The PHP development team announces the immediate availability of PHP 8.1.27. This is a bug fix release.</p>\\n\\n<p>All PHP 8.1 users are encouraged to upgrade to this version.</p>\\n\\n<p>For source downloads of PHP 8.1.27 please visit our <a href=\"https://www.php.net/downloads.php\">downloads page</a>,\\nWindows source and binaries can be found on <a href=\"https://windows.php.net/download/\">windows.php.net/download/</a>.\\nThe list of changes is recorded in the <a href=\"https://www.php.net/ChangeLog-8.php#8.1.27\">ChangeLog</a>.\\n</p>    </div>\\n  \\n  </div>\\n</article><article class=\"newsentry\">\\n  <header class=\"title\">\\n    <time datetime=\"2023-12-21T07:48:56-08:00\">21 Dec 2023</time>\\n    <h2 class=\"newstitle\">\\n      <a href=\"https://www.php.net/archive/2023.php#2023-12-21-1\" id=\"2023-12-21-1\">PHP 8.3.1 Released!</a>\\n    </h2>\\n  </header>\\n  <div class=\"newscontent\">\\n    <div><p>The PHP development team announces the immediate availability of PHP 8.3.1. This is a bug fix release.</p>\\n\\n<p>All PHP 8.3 users are encouraged to upgrade to this version.</p>\\n\\n<p>For source downloads of PHP 8.3.1 please visit our <a href=\"https://www.php.net/downloads.php\">downloads page</a>,\\nWindows source and binaries can be found on <a href=\"https://windows.php.net/download/\">windows.php.net/download/</a>.\\nThe list of changes is recorded in the <a href=\"https://www.php.net/ChangeLog-8.php#8.3.1\">ChangeLog</a>.\\n</p>    </div>\\n  \\n  </div>\\n</article><article class=\"newsentry\">\\n  <header class=\"title\">\\n    <time datetime=\"2023-11-23T18:24:51+00:00\">23 Nov 2023</time>\\n    <h2 class=\"newstitle\">\\n      <a href=\"https://www.php.net/archive/2023.php#2023-11-23-3\" id=\"2023-11-23-3\">PHP 8.1.26 Released!</a>\\n    </h2>\\n  </header>\\n  <div class=\"newscontent\">\\n    <div><p>The PHP development team announces the immediate availability of PHP 8.1.26. This is a bug fix release.</p>\\n\\n<p>All PHP 8.1 users are encouraged to upgrade to this version.</p>\\n\\n<p>For source downloads of PHP 8.1.26 please visit our <a href=\"https://www.php.net/downloads.php\">downloads page</a>,\\nWindows source and binaries can be found on <a href=\"https://windows.php.net/download/\">windows.php.net/download/</a>.\\nThe list of changes is recorded in the <a href=\"https://www.php.net/ChangeLog-8.php#8.1.26\">ChangeLog</a>.\\n</p>    </div>\\n  \\n  </div>\\n</article><article class=\"newsentry\">\\n  <header class=\"title\">\\n    <time datetime=\"2023-11-23T15:43:03+00:00\">23 Nov 2023</time>\\n    <h2 class=\"newstitle\">\\n      <a href=\"https://www.php.net/archive/2023.php#2023-11-23-2\" id=\"2023-11-23-2\">PHP 8.3.0 Released!</a>\\n    </h2>\\n  </header>\\n  <div class=\"newscontent\">\\n    <div>\\n      <p>The PHP development team announces the immediate availability of PHP 8.3.0. This release marks the latest minor release of the PHP language.</p>\\n      <p>PHP 8.3 comes with numerous improvements and new features such as:</p>\\n      <ul>\\n        <li><a href=\"https://www.php.net/manual/en/migration83.new-features.php#migration83.new-features.core.typed-class-constants\">Typed Class Constants</a></li>\\n        <li><a href=\"https://www.php.net/manual/en/migration83.new-features.php#migration83.new-features.core.fetch-class-constant-dynamically-syntax\">Fetch class constant dynamically syntax</a></li>\\n        <li><a href=\"https://www.php.net/manual/en/migration83.new-features.php#migration83.new-features.core.readonly-modifier-improvements\">Readonly Amendments</a></li>\\n        <li><a href=\"https://www.php.net/manual/en/migration83.new-features.php#migration83.new-features.core.override-attribute\">Override Attribute</a></li>\\n        <li><a href=\"https://www.php.net/manual/en/random-randomizer.getbytesfromstring.php\">New Randomizer method Random\\\\Randomizer::getBytesFromString</a></li>\\n        <li><a href=\"https://www.php.net/manual/en/function.json-validate.php\">New function json_validate</a></li>\\n        <li>And much much more...</li>\\n      </ul>\\n      <p>\\n        For source downloads of PHP 8.3.0 please visit our <a href=\"https://www.php.net/downloads.php\">downloads page</a>,\\n        Windows source and binaries can be found on <a href=\"https://windows.php.net/download/\">windows.php.net/download/</a>.\\n        The list of changes is recorded in the <a href=\"https://www.php.net/ChangeLog-8.php#8.3.0\">ChangeLog</a>.\\n      </p>\\n      <p>\\n        The <a href=\"https://php.net/manual/en/migration83.php\">migration guide</a> is available in the PHP Manual.\\n        Please consult it for the detailed list of new features and backward incompatible changes.\\n      </p>\\n      <p>Kudos to all the contributors and supporters!</p>\\n   </div>\\n  \\n  </div>\\n</article><article class=\"newsentry\">\\n  <header class=\"title\">\\n    <time datetime=\"2023-11-23T12:24:42+00:00\">23 Nov 2023</time>\\n    <h2 class=\"newstitle\">\\n      <a href=\"https://www.php.net/archive/2023.php#2023-11-23-1\" id=\"2023-11-23-1\">PHP 8.2.13 Released!</a>\\n    </h2>\\n  </header>\\n  <div class=\"newscontent\">\\n    <div>\\n      <p>The PHP development team announces the immediate availability of PHP 8.2.13. This is a bug fix release.</p>\\n\\n      <p>All PHP 8.2 users are encouraged to upgrade to this version.</p>\\n\\n      <p>For source downloads of PHP 8.2.13 please visit our <a href=\"https://www.php.net/downloads.php\">downloads page</a>,\\n        Windows source and binaries can be found on <a href=\"https://windows.php.net/download/\">windows.php.net/download/</a>.\\n        The list of changes is recorded in the <a href=\"https://www.php.net/ChangeLog-8.php#8.2.13\">ChangeLog</a>.\\n      </p>\\n    </div>\\n  \\n  </div>\\n</article><article class=\"newsentry\">\\n  <header class=\"title\">\\n    <time datetime=\"2023-11-09T09:33:47-08:00\">09 Nov 2023</time>\\n    <h2 class=\"newstitle\">\\n      <a href=\"https://www.php.net/archive/2023.php#2023-11-09-1\" id=\"2023-11-09-1\">PHP 8.3.0 RC 6 available for testing</a>\\n    </h2>\\n  </header>\\n  <div class=\"newscontent\">\\n    <div>\\n      <p>\\n         The PHP team is pleased to announce the release of PHP 8.3.0, RC 6.\\n         This is the sixth and final release candidate, continuing the PHP 8.3 release cycle, the rough outline of which is specified in the <a href=\"https://wiki.php.net/todo/php83\">PHP Wiki</a>.\\n       </p>\\n       <p>\\n         For source downloads of PHP 8.3.0, RC 6 please visit the <a href=\"https://downloads.php.net/~eric\">download page</a>.\\n       </p>\\n       <p>\\n         Please carefully test this version and report any issues found in the <a href=\"http://bugs.php.net\">bug reporting system</a>.\\n       </p>\\n       <p><b>Please DO NOT use this version in production, it is an early test version.</b></p>\\n       <p>\\n         For more information on the new features and other changes, you can read the <a href=\"https://github.com/php/php-src/blob/php-8.3.0RC6/NEWS\">NEWS</a> file or the <a href=\"https://github.com/php/php-src/blob/php-8.3.0RC6/UPGRADING\">UPGRADING</a> file for a complete list of upgrading notes. These files can also be found in the release archive.\\n       </p>\\n       <p>\\n         The next release will be the production-ready, general availability release, planned for 23 November 2023.\\n       </p>\\n       <p>\\n         The signatures for the release can be found in <a href=\"https://gist.github.com/ericmann/ceaadbc09bdbb49efb74212a6c8cf02a\">the manifest</a> or on <a href=\"https://qa.php.net/\">the QA site</a>.\\n       </p>\\n       <p>Thank you for helping us make PHP better.</p>\\n    </div>\\n  \\n  </div>\\n</article><article class=\"newsentry\">\\n  <header class=\"title\">\\n    <time datetime=\"2023-10-26T23:49:55+00:00\">26 Oct 2023</time>\\n    <h2 class=\"newstitle\">\\n      <a href=\"https://www.php.net/archive/2023.php#2023-10-26-3\" id=\"2023-10-26-3\">PHP 8.1.25 Released!</a>\\n    </h2>\\n  </header>\\n  <div class=\"newscontent\">\\n    <div><p>The PHP development team announces the immediate availability of PHP 8.1.25. This is a bug fix release.</p>\\n\\n<p>All PHP 8.1 users are encouraged to upgrade to this version.</p>\\n\\n<p>For source downloads of PHP 8.1.25 please visit our <a href=\"https://www.php.net/downloads.php\">downloads page</a>,\\nWindows source and binaries can be found on <a href=\"https://windows.php.net/download/\">windows.php.net/download/</a>.\\nThe list of changes is recorded in the <a href=\"https://www.php.net/ChangeLog-8.php#8.1.25\">ChangeLog</a>.\\n</p>    </div>\\n  \\n  </div>\\n</article><article class=\"newsentry\">\\n  <header class=\"title\">\\n    <time datetime=\"2023-10-26T16:39:13+00:00\">26 Oct 2023</time>\\n    <h2 class=\"newstitle\">\\n      <a href=\"https://www.php.net/archive/2023.php#2023-10-26-2\" id=\"2023-10-26-2\">PHP 8.2.12 Released!</a>\\n    </h2>\\n  </header>\\n  <div class=\"newscontent\">\\n    <div><p>The PHP development team announces the immediate availability of PHP 8.2.12. This is a bug fix release.</p>\\n\\n<p>All PHP 8.2 users are encouraged to upgrade to this version.</p>\\n\\n<p>For source downloads of PHP 8.2.12 please visit our <a href=\"https://www.php.net/downloads.php\">downloads page</a>,\\nWindows source and binaries can be found on <a href=\"https://windows.php.net/download/\">windows.php.net/download/</a>.\\nThe list of changes is recorded in the <a href=\"https://www.php.net/ChangeLog-8.php#8.2.12\">ChangeLog</a>.\\n</p>    </div>\\n  \\n  </div>\\n</article><article class=\"newsentry\">\\n  <header class=\"title\">\\n    <time datetime=\"2023-10-26T15:00:24+00:00\">26 Oct 2023</time>\\n    <h2 class=\"newstitle\">\\n      <a href=\"https://www.php.net/archive/2023.php#2023-10-26-1\" id=\"2023-10-26-1\">PHP 8.3.0 RC 5 available for testing</a>\\n    </h2>\\n  </header>\\n  <div class=\"newscontent\">\\n    <div>\\n      <p>\\n        The PHP team is pleased to announce the release of PHP 8.3.0, RC 5.\\n        This is the fifth release candidate, continuing the PHP 8.3 release cycle,\\n        the rough outline of which is specified in the\\n        <a href=\"https://wiki.php.net/todo/php83\">PHP Wiki</a>.\\n      </p>\\n      <p>\\n        For source downloads of PHP 8.3.0, RC 5 please visit the\\n        <a href=\"https://downloads.php.net/~jakub/\">download page</a>.\\n      </p>\\n      <p>\\n        Please carefully test this version and report any issues found in the\\n        <a href=\"https://github.com/php/php-src/issues\">bug reporting system</a>.\\n      </p>\\n      <p><b>Please DO NOT use this version in production, it is an early test version.</b></p>\\n      <p>\\n        For more information on the new features and other changes, you can read the\\n        <a href=\"https://github.com/php/php-src/blob/php-8.3.0RC5/NEWS\">NEWS</a> file\\n        or the <a href=\"https://github.com/php/php-src/blob/php-8.3.0RC5/UPGRADING\">UPGRADING</a>\\n        file for a complete list of upgrading notes. These files can also be\\n        found in the release archive.\\n      </p>\\n      <p>\\n        The next release will be the fourth release candidate (RC 5), planned\\n        for 26 October 2023.\\n      </p>\\n      <p>\\n        The signatures for the release can be found in\\n        <a href=\"https://gist.github.com/bukka/c11ab353c69443c482219515838ed15a\">the manifest</a>\\n        or on <a href=\"https://qa.php.net/\">the QA site</a>.\\n      </p>\\n     <p>Thank you for helping us make PHP better.</p>\\n    </div>\\n  \\n  </div>\\n</article><article class=\"newsentry\">\\n  <header class=\"title\">\\n    <time datetime=\"2023-10-12T07:45:43-07:00\">12 Oct 2023</time>\\n    <h2 class=\"newstitle\">\\n      <a href=\"https://www.php.net/archive/2023.php#2023-10-12-1\" id=\"2023-10-12-1\">PHP 8.3.0 RC 4 available for testing</a>\\n    </h2>\\n  </header>\\n  <div class=\"newscontent\">\\n    <div>\\n     <p>\\n       The PHP team is pleased to announce the release of PHP 8.3.0, RC 4.\\n       This is the fourth release candidate, continuing the PHP 8.3 release cycle,\\n       the rough outline of which is specified in the\\n       <a href=\"https://wiki.php.net/todo/php83\">PHP Wiki</a>.\\n     </p>\\n     <p>\\n       For source downloads of PHP 8.3.0, RC 4 please visit the\\n       <a href=\"https://downloads.php.net/~eric/\">download page</a>.\\n     </p>\\n     <p>\\n       Please carefully test this version and report any issues found in the\\n       <a href=\"https://github.com/php/php-src/issues\">bug reporting system</a>.\\n     </p>\\n     <p><b>Please DO NOT use this version in production, it is an early test version.</b></p>\\n     <p>\\n       For more information on the new features and other changes, you can read the\\n       <a href=\"https://github.com/php/php-src/blob/php-8.3.0RC4/NEWS\">NEWS</a> file\\n       or the <a href=\"https://github.com/php/php-src/blob/php-8.3.0RC4/UPGRADING\">UPGRADING</a>\\n       file for a complete list of upgrading notes. These files can also be\\n       found in the release archive.\\n     </p>\\n     <p>\\n       The next release will be the fifth release candidate (RC 5), planned\\n       for 26 October 2023.\\n     </p>\\n     <p>\\n       The signatures for the release can be found in\\n       <a href=\"https://gist.github.com/ericmann/5531915317a5186bb4359bdd6c10e299\">the manifest</a>\\n       or on <a href=\"https://qa.php.net/\">the QA site</a>.\\n     </p>\\n     <p>Thank you for helping us make PHP better.</p>\\n    </div>\\n  \\n  </div>\\n</article><article class=\"newsentry\">\\n  <header class=\"title\">\\n    <time datetime=\"2023-09-28T18:04:30+00:00\">28 Sep 2023</time>\\n    <h2 class=\"newstitle\">\\n      <a href=\"https://www.php.net/archive/2023.php#2023-09-28-3\" id=\"2023-09-28-3\">PHP 8.1.24 Released!</a>\\n    </h2>\\n  </header>\\n  <div class=\"newscontent\">\\n    <div><p>The PHP development team announces the immediate availability of PHP 8.1.24. This is a bug fix release.</p>\\n\\n<p>All PHP 8.1 users are encouraged to upgrade to this version.</p>\\n\\n<p>For source downloads of PHP 8.1.24 please visit our <a href=\"https://www.php.net/downloads.php\">downloads page</a>,\\nWindows source and binaries can be found on <a href=\"https://windows.php.net/download/\">windows.php.net/download/</a>.\\nThe list of changes is recorded in the <a href=\"https://www.php.net/ChangeLog-8.php#8.1.24\">ChangeLog</a>.\\n</p>    </div>\\n  \\n  </div>\\n</article><article class=\"newsentry\">\\n  <header class=\"title\">\\n    <time datetime=\"2023-09-28T15:52:06+00:00\">28 Sep 2023</time>\\n    <h2 class=\"newstitle\">\\n      <a href=\"https://www.php.net/archive/2023.php#2023-09-28-2\" id=\"2023-09-28-2\">PHP 8.3.0 RC 3 available for testing</a>\\n    </h2>\\n  </header>\\n  <div class=\"newscontent\">\\n    <div>\\n     <p>\\n       The PHP team is pleased to announce the release of PHP 8.3.0, RC 3.\\n       This is the third release candidate, continuing the PHP 8.3 release cycle,\\n       the rough outline of which is specified in the\\n       <a href=\"https://wiki.php.net/todo/php83\">PHP Wiki</a>.\\n     </p>\\n     <p>\\n       For source downloads of PHP 8.3.0, RC 3 please visit the\\n       <a href=\"https://downloads.php.net/~jakub/\">download page</a>.\\n     </p>\\n     <p>\\n       Please carefully test this version and report any issues found in the\\n       <a href=\"https://github.com/php/php-src/issues\">bug reporting system</a>.\\n     </p>\\n     <p><b>Please DO NOT use this version in production, it is an early test version.</b></p>\\n     <p>\\n       For more information on the new features and other changes, you can read the\\n       <a href=\"https://github.com/php/php-src/blob/php-8.3.0RC3/NEWS\">NEWS</a> file\\n       or the <a href=\"https://github.com/php/php-src/blob/php-8.3.0RC3/UPGRADING\">UPGRADING</a>\\n       file for a complete list of upgrading notes. These files can also be\\n       found in the release archive.\\n     </p>\\n     <p>\\n       The next release will be the fourth release candidate (RC 4), planned\\n       for 12 October 2023.\\n     </p>\\n     <p>\\n       The signatures for the release can be found in\\n       <a href=\"https://gist.github.com/bukka/20e2e90e1ef16eb24c333f375203292e\">the manifest</a>\\n       or on <a href=\"https://qa.php.net/\">the QA site</a>.\\n     </p>\\n     <p>Thank you for helping us make PHP better.</p>\\n    </div>\\n  \\n  </div>\\n</article><article class=\"newsentry\">\\n  <header class=\"title\">\\n    <time datetime=\"2023-09-28T14:31:39+00:00\">28 Sep 2023</time>\\n    <h2 class=\"newstitle\">\\n      <a href=\"https://www.php.net/archive/2023.php#2023-09-28-1\" id=\"2023-09-28-1\">PHP 8.2.11 Released!</a>\\n    </h2>\\n  </header>\\n  <div class=\"newscontent\">\\n    <div>\\n      <p>The PHP development team announces the immediate availability of PHP 8.2.11. This is a bug fix release.</p>\\n\\n      <p>All PHP 8.2 users are encouraged to upgrade to this version.</p>\\n\\n      <p>\\n        For source downloads of PHP 8.2.11 please visit our <a href=\"https://www.php.net/downloads.php\">downloads page</a>,\\n        Windows source and binaries can be found on <a href=\"https://windows.php.net/download/\">windows.php.net/download/</a>.\\n        The list of changes is recorded in the <a href=\"https://www.php.net/ChangeLog-8.php#8.2.11\">ChangeLog</a>.\\n      </p>\\n    </div>\\n  \\n  </div>\\n</article><article class=\"newsentry\">\\n  <header class=\"title\">\\n    <time datetime=\"2023-09-14T03:51:40-07:00\">14 Sep 2023</time>\\n    <h2 class=\"newstitle\">\\n      <a href=\"https://www.php.net/archive/2023.php#2023-09-14-1\" id=\"2023-09-14-1\">PHP 8.3.0 RC 2 available for testing</a>\\n    </h2>\\n  </header>\\n  <div class=\"newscontent\">\\n    <div>\\n           <p>\\n             The PHP team is pleased to announce the release of PHP 8.3.0, RC 2. This is the second release candidate, continuing the PHP 8.3 release cycle, the rough outline of which is specified in the <a href=\"https://wiki.php.net/todo/php83\">PHP Wiki</a>.\\n           </p>\\n           <p>\\n             For source downloads of PHP 8.3.0, RC 2 please visit the <a href=\"https://downloads.php.net/~eric/\">download page</a>.\\n           </p>\\n           <p>\\n             Please carefully test this version and report any issues found in the <a href=\"http://bugs.php.net\">bug reporting system</a>.\\n           </p>\\n           <p><b>Please DO NOT use this version in production, it is an early test version.</b></p>\\n           <p>\\n             For more information on the new features and other changes, you can read the <a href=\"https://github.com/php/php-src/blob/php-8.3.0RC2/NEWS\">NEWS</a> file or the <a href=\"https://github.com/php/php-src/blob/php-8.3.0RC2/UPGRADING\">UPGRADING</a> file for a complete list of upgrading notes. These files can also be found in the release archive.\\n           </p>\\n           <p>\\n             The next release will be the third release candidate (RC 3), planned for 28 September 2023.\\n           </p>\\n           <p>\\n             The signatures for the release can be found in <a href=\"https://gist.github.com/ericmann/d8c56e1244679ab41672dcfdbea2b0a6\">the manifest</a> or on <a href=\"https://qa.php.net/\">the QA site</a>.\\n           </p>\\n           <p>Thank you for helping us make PHP better.</p>\\n    </div>\\n  \\n  </div>\\n</article><article class=\"newsentry\">\\n  <header class=\"title\">\\n    <time datetime=\"2023-08-31T16:37:56+00:00\">31 Aug 2023</time>\\n    <h2 class=\"newstitle\">\\n      <a href=\"https://www.php.net/archive/2023.php#2023-08-31-3\" id=\"2023-08-31-3\">PHP 8.1.23 Released!</a>\\n    </h2>\\n  </header>\\n  <div class=\"newscontent\">\\n    <div><p>The PHP development team announces the immediate availability of PHP 8.1.23. This is a bug fix release.</p>\\n\\n<p>All PHP 8.1 users are encouraged to upgrade to this version.</p>\\n\\n<p>For source downloads of PHP 8.1.23 please visit our <a href=\"https://www.php.net/downloads.php\">downloads page</a>,\\nWindows source and binaries can be found on <a href=\"https://windows.php.net/download/\">windows.php.net/download/</a>.\\nThe list of changes is recorded in the <a href=\"https://www.php.net/ChangeLog-8.php#8.1.23\">ChangeLog</a>.\\n</p>    </div>\\n  \\n  </div>\\n</article><article class=\"newsentry\">\\n  <header class=\"title\">\\n    <time datetime=\"2023-08-31T16:15:39+00:00\">31 Aug 2023</time>\\n    <h2 class=\"newstitle\">\\n      <a href=\"https://www.php.net/archive/2023.php#2023-08-31-2\" id=\"2023-08-31-2\">PHP 8.2.10 Released!</a>\\n    </h2>\\n  </header>\\n  <div class=\"newscontent\">\\n    <div><p>The PHP development team announces the immediate availability of PHP 8.2.10. This is a bug fix release.</p>\\n\\n<p>All PHP 8.2 users are encouraged to upgrade to this version.</p>\\n\\n<p>For source downloads of PHP 8.2.10 please visit our <a href=\"https://www.php.net/downloads.php\">downloads page</a>,\\nWindows source and binaries can be found on <a href=\"https://windows.php.net/download/\">windows.php.net/download/</a>.\\nThe list of changes is recorded in the <a href=\"https://www.php.net/ChangeLog-8.php#8.2.10\">ChangeLog</a>.\\n</p>    </div>\\n  \\n  </div>\\n</article><article class=\"newsentry\">\\n  <header class=\"title\">\\n    <time datetime=\"2023-08-31T11:23:53+00:00\">31 Aug 2023</time>\\n    <h2 class=\"newstitle\">\\n      <a href=\"https://www.php.net/archive/2023.php#2023-08-31-1\" id=\"2023-08-31-1\">PHP 8.3.0 RC 1 available for testing</a>\\n    </h2>\\n  </header>\\n  <div class=\"newscontent\">\\n    <div>\\n      <p>\\n        The PHP team is pleased to announce the release of PHP 8.3.0, RC 1.\\n        This is the first release candidate, continuing the PHP 8.3 release cycle,\\n        the rough outline of which is specified in the\\n        <a href=\"https://wiki.php.net/todo/php83\">PHP Wiki</a>.\\n      </p>\\n      <p>\\n        For source downloads of PHP 8.3.0, RC 1 please visit the\\n        <a href=\"https://downloads.php.net/~jakub/\">download page</a>.\\n      </p>\\n      <p>\\n        Please carefully test this version and report any issues found in the\\n        <a href=\"http://bugs.php.net\">bug reporting system</a>.\\n      </p>\\n      <p><b>Please DO NOT use this version in production, it is an early test version.</b></p>\\n      <p>\\n        For more information on the new features and other changes, you can read the\\n        <a href=\"https://github.com/php/php-src/blob/php-8.3.0RC1/NEWS\">NEWS</a> file\\n        or the <a href=\"https://github.com/php/php-src/blob/php-8.3.0RC1/UPGRADING\">UPGRADING</a>\\n        file for a complete list of upgrading notes. These files can also be\\n        found in the release archive.\\n      </p>\\n      <p>\\n        The next release will be the second release candidate (RC 2), planned\\n        for 14 September 2023.\\n      </p>\\n      <p>\\n        The signatures for the release can be found in\\n        <a href=\"https://gist.github.com/bukka/b5d4f8f27d1f013837e1f596d90ea1fc\">the manifest</a>\\n        or on <a href=\"https://qa.php.net/\">the QA site</a>.\\n      </p>\\n      <p>Thank you for helping us make PHP better.</p>\\n    </div>\\n  \\n  </div>\\n</article><article class=\"newsentry\">\\n  <header class=\"title\">\\n    <time datetime=\"2023-08-17T07:26:35-07:00\">17 Aug 2023</time>\\n    <h2 class=\"newstitle\">\\n      <a href=\"https://www.php.net/archive/2023.php#2023-08-17-1\" id=\"2023-08-17-1\">PHP 8.3.0 Beta 3 available for testing</a>\\n    </h2>\\n  </header>\\n  <div class=\"newscontent\">\\n    <div>\\n      <p>\\n        The PHP team is pleased to announce the third beta release of PHP 8.3.0, Beta 3.\\n        This continues the PHP 8.3 release cycle, the rough outline of which is specified in the\\n        <a href=\"https://wiki.php.net/todo/php83\">PHP Wiki</a>.\\n      </p>\\n      <p>For source downloads of PHP 8.3.0 Beta 3 please visit the <a href=\"https://downloads.php.net/~eric\">download page</a>.</p>\\n      <p>Please carefully test this version and report any issues found in the <a href=\"https://github.com/php/php-src/issues\">bug reporting system</a>.</p>\\n      <p><b>Please DO NOT use this version in production, it is an early test version.</b></p>\\n      <p>\\n        For more information on the new features and other changes, you can read the\\n        <a href=\"https://github.com/php/php-src/blob/php-8.3.0beta3/NEWS\">NEWS</a> file,\\n        or the <a href=\"https://github.com/php/php-src/blob/php-8.3.0beta3/UPGRADING\">UPGRADING</a>\\n        file for a complete list of upgrading notes. These files can also be found in the release archive.\\n      </p>\\n      <p>The next release will be RC 1, planned for Aug 31 2023.</p>\\n      <p>The signatures for the release can be found in <a href=\"https://gist.github.com/ericmann/8ea0c14efef9b0e0a7e4222e06ed5097\">the manifest</a> or on <a href=\"https://qa.php.net/\">the QA site</a>.</p>\\n      <p>Thank you for helping us make PHP better.</p>\\n    </div>\\n  \\n  </div>\\n</article><article class=\"newsentry\">\\n  <header class=\"title\">\\n    <time datetime=\"2023-08-16T18:06:57+00:00\">16 Aug 2023</time>\\n    <h2 class=\"newstitle\">\\n      <a href=\"https://www.php.net/archive/2023.php#2023-08-16-1\" id=\"2023-08-16-1\">PHP 8.2.9 Released!</a>\\n    </h2>\\n  </header>\\n  <div class=\"newscontent\">\\n    <div>\\n      <p>The PHP development team announces the immediate availability of PHP 8.2.9. This is a security release.</p>\\n\\n      <p>All PHP 8.2 users are encouraged to upgrade to this version.</p>\\n\\n      <p><b>Windows source and binaries are not synchronized and do not contain a fix for GH-11854.</b></p>\\n\\n      <p>For source downloads of PHP 8.2.9 please visit our <a href=\"https://www.php.net/downloads.php\">downloads page</a>,\\n        Windows source and binaries can be found on <a href=\"https://windows.php.net/download/\">windows.php.net/download/</a>.\\n        The list of changes is recorded in the <a href=\"https://www.php.net/ChangeLog-8.php#8.2.9\">ChangeLog</a>.\\n      </p>\\n    </div>\\n  \\n  </div>\\n</article><article class=\"newsentry\">\\n  <header class=\"title\">\\n    <time datetime=\"2023-08-04T18:29:29+00:00\">04 Aug 2023</time>\\n    <h2 class=\"newstitle\">\\n      <a href=\"https://www.php.net/archive/2023.php#2023-08-04-1\" id=\"2023-08-04-1\">PHP 8.0.30 Released!</a>\\n    </h2>\\n  </header>\\n  <div class=\"newscontent\">\\n    <div><p>The PHP development team announces the immediate availability of PHP 8.0.30. This is a security release.</p>\\n\\n<p>All PHP 8.0 users are encouraged to upgrade to this version.</p>\\n\\n<p>For source downloads of PHP 8.0.30 please visit our <a href=\"https://www.php.net/downloads.php\">downloads page</a>,\\nWindows source and binaries can be found on <a href=\"https://windows.php.net/download/\">windows.php.net/download/</a>.\\nThe list of changes is recorded in the <a href=\"https://www.php.net/ChangeLog-8.php#8.0.30\">ChangeLog</a>.\\n</p>    </div>\\n  \\n  </div>\\n</article><article class=\"newsentry\">\\n  <header class=\"title\">\\n    <time datetime=\"2023-08-03T11:50:26-07:00\">03 Aug 2023</time>\\n    <h2 class=\"newstitle\">\\n      <a href=\"https://www.php.net/archive/2023.php#2023-08-03-2\" id=\"2023-08-03-2\">PHP 8.3.0 Beta 2 available for testing</a>\\n    </h2>\\n  </header>\\n  <div class=\"newscontent\">\\n    <div>\\n      <p>\\n        The PHP team is pleased to announce the second beta release of PHP 8.3.0, Beta 2.\\n        This continues the PHP 8.3 release cycle, the rough outline of which is specified in the\\n        <a href=\"https://wiki.php.net/todo/php83\">PHP Wiki</a>.\\n      </p>\\n      <p>For source downloads of PHP 8.3.0 Beta 2 please visit the <a href=\"https://downloads.php.net/~jakub\">download page</a>.</p>\\n      <p>Please carefully test this version and report any issues found in the <a href=\"https://github.com/php/php-src/issues\">bug reporting system</a>.</p>\\n      <p><b>Please DO NOT use this version in production, it is an early test version.</b></p>\\n      <p>\\n        For more information on the new features and other changes, you can read the\\n        <a href=\"https://github.com/php/php-src/blob/php-8.3.0beta2/NEWS\">NEWS</a> file,\\n        or the <a href=\"https://github.com/php/php-src/blob/php-8.3.0beta2/UPGRADING\">UPGRADING</a>\\n        file for a complete list of upgrading notes. These files can also be found in the release archive.\\n      </p>\\n      <p>The next release will be Beta 3, planned for Aug 17 2023.</p>\\n      <p>The signatures for the release can be found in <a href=\"https://gist.github.com/bukka/31646ada5b94b4d2b78e0551905f5745\">the manifest</a> or on <a href=\"https://qa.php.net/\">the QA site</a>.</p>\\n      <p>Thank you for helping us make PHP better.</p>\\n    </div>\\n  \\n  </div>\\n</article><article class=\"newsentry\">\\n  <header class=\"title\">\\n    <time datetime=\"2023-08-03T15:07:49+00:00\">03 Aug 2023</time>\\n    <h2 class=\"newstitle\">\\n      <a href=\"https://www.php.net/archive/2023.php#2023-08-03-1\" id=\"2023-08-03-1\">PHP 8.1.22 Released!</a>\\n    </h2>\\n  </header>\\n  <div class=\"newscontent\">\\n    <div><p>The PHP development team announces the immediate availability of PHP 8.1.22. This is a security release.</p>\\n\\n<p>All PHP 8.1 users are encouraged to upgrade to this version.</p>\\n\\n<p>For source downloads of PHP 8.1.22 please visit our <a href=\"https://www.php.net/downloads.php\">downloads page</a>,\\nWindows source and binaries can be found on <a href=\"https://windows.php.net/download/\">windows.php.net/download/</a>.\\nThe list of changes is recorded in the <a href=\"https://www.php.net/ChangeLog-8.php#8.1.22\">ChangeLog</a>.\\n</p>    </div>\\n  \\n  </div>\\n</article><p class=\"archive\"><a href=\"/archive/\">Older News Entries</a></p></div>    </section><!-- layout-content -->\\n    \\n<aside class=\"tips\">\\n    <div class=\"inner\">\\n    <div class=\\'panel\\'>\\n      <a href=\\'https://thephp.foundation/\\' class=\\'headline\\'>The PHP Foundation</a>\\n      <div class=\\'body\\'>\\n        <p>The PHP Foundation is a collective of people and organizations, united in the mission to ensure the long-term prosperity of the PHP language.\\n        <p><a href=\\'https://thephp.foundation/donate/\\' class=\\'btn btn-primary\\'>Donate</a></p>\\n      </div>\\n    </div>\\n<div class=\"panel\">  <a href=\"/conferences\" class=\"headline\" title=\"Upcoming conferences\">Upcoming conferences</a><div class=\"body\"><ul><li><a href=\\'https://www.php.net/conferences/index.php#2024-01-24-1\\' title=\\'PHP UK Conference 2024\\'>PHP UK Conference 2024</a></li><li><a href=\\'https://www.php.net/conferences/index.php#2024-01-20-1\\' title=\\'PHP Conference Odawara 2024\\'>PHP Conference Odawara 2024</a></li><li><a href=\\'https://www.php.net/conferences/index.php#id2024-01-15-3\\' title=\\'SymfonyCon Vienna 2024\\'>SymfonyCon Vienna 2024</a></li><li><a href=\\'https://www.php.net/conferences/index.php#id2024-01-15-2\\' title=\\'SymfonyLive Paris 2024\\'>SymfonyLive Paris 2024</a></li></ul></div></div>\\n    <p class=\\'panel\\'><a href=\\'/cal.php\\'>User Group Events</a></p>\\n    <p class=\\'panel\\'><a href=\\'/thanks.php\\'>Special Thanks</a></p>\\n    <div class=\\'panel social-media\\'>\\n      <span class=\\'headline\\'>Social media</span>\\n      <div class=\\'body\\'>\\n        <ul>\\n          <li>\\n            <a href=\"https://twitter.com/official_php\">\\n              <i class=\"icon-x-twitter\"></i>\\n              @official_php\\n            </a>\\n          </li>\\n          <li>\\n            <a href=\"https://fosstodon.org/@php\">\\n              <i class=\"icon-mastodon\"></i>\\n              @php@fosstodon.org\\n            </a>\\n          </li>\\n        </ul>\\n      </div>\\n    </div>\\n</div>\\n</aside>\\n\\n  </div><!-- layout -->\\n\\n  <footer>\\n    <div class=\"container footer-content\">\\n      <div class=\"row-fluid\">\\n      <ul class=\"footmenu\">\\n        <li><a href=\"/copyright.php\">Copyright &copy; 2001-2024 The PHP Group</a></li>\\n        <li><a href=\"/my.php\">My PHP.net</a></li>\\n        <li><a href=\"/contact.php\">Contact</a></li>\\n        <li><a href=\"/sites.php\">Other PHP.net sites</a></li>\\n        <li><a href=\"/privacy.php\">Privacy policy</a></li>\\n        <li><a href=\"https://github.com/php/web-php/blob/master/index.php\">View Source</a></li>\\n      </ul>\\n      </div>\\n    </div>\\n  </footer>\\n\\n    <div class=\\'elephpants\\'><div class=images></div></div>\\n <!-- External and third party libraries. -->\\n <script src=\"https://code.jquery.com/jquery-3.6.0.min.js\" integrity=\"sha256-/xUj+3OJU5yExlq6GSYGSHk7tPXikynS7ogEvDej/m4=\" crossorigin=\"anonymous\"></script>\\n<script src=\"/cached.php?t=1657730402&amp;f=/js/ext/hogan-3.0.2.min.js\"></script>\\n<script src=\"/cached.php?t=1421837618&amp;f=/js/ext/typeahead.min.js\"></script>\\n<script src=\"/cached.php?t=1657876202&amp;f=/js/ext/mousetrap.min.js\"></script>\\n<script src=\"/cached.php?t=1657730402&amp;f=/js/ext/jquery.scrollTo.min.js\"></script>\\n<script src=\"/cached.php?t=1701958202&amp;f=/js/search.js\"></script>\\n<script src=\"/cached.php?t=1701958202&amp;f=/js/common.js\"></script>\\n\\n<a id=\"toTop\" href=\"javascript:;\"><span id=\"toTopHover\"></span><img width=\"40\" height=\"40\" alt=\"To Top\" src=\"/images/to-top@2x.png\"></a>\\n\\n</body>\\n</html>\\n'\n"
          ]
        }
      ]
    },
    {
      "cell_type": "markdown",
      "source": [
        "As you can see from the printed output, the result contains a lot of HTML tags that need to be\n",
        "cleaned. We can use BeautifulSoup to clean the grabbed text like this:"
      ],
      "metadata": {
        "id": "YV4y57nS87zY"
      }
    },
    {
      "cell_type": "code",
      "source": [
        "#code block 3\n",
        "#apply beautifulsoap(used for web scraping) and split the text\n",
        "soup = BeautifulSoup(html,\"html5lib\") #\"html5lib\" parser is a robust parser that can handle poorly formatted HTML and produces a consistent and accurate representation of the document's structure.\n",
        "text = soup.get_text(strip=True)\n",
        "print(text)"
      ],
      "metadata": {
        "id": "dk_qoT6x9ALr",
        "colab": {
          "base_uri": "https://localhost:8080/"
        },
        "outputId": "df797bb9-b82a-4c72-ab86-16ae39e07449"
      },
      "execution_count": 12,
      "outputs": [
        {
          "output_type": "stream",
          "name": "stdout",
          "text": [
            "PHP: Hypertext PreprocessorDownloadsDocumentationGet InvolvedHelpGetting StartedIntroductionA simple tutorialLanguage ReferenceBasic syntaxTypesVariablesConstantsExpressionsOperatorsControl StructuresFunctionsClasses and ObjectsNamespacesEnumerationsErrorsExceptionsFibersGeneratorsAttributesReferences ExplainedPredefined VariablesPredefined ExceptionsPredefined Interfaces and ClassesPredefined AttributesContext options and parametersSupported Protocols and WrappersSecurityIntroductionGeneral considerationsInstalled as CGI binaryInstalled as an Apache moduleSession SecurityFilesystem SecurityDatabase SecurityError ReportingUser Submitted DataHiding PHPKeeping CurrentFeaturesHTTP authentication with PHPCookiesSessionsDealing with XFormsHandling file uploadsUsing remote filesConnection handlingPersistent Database ConnectionsCommand line usageGarbage CollectionDTrace Dynamic TracingFunction ReferenceAffecting PHP's BehaviourAudio Formats ManipulationAuthentication ServicesCommand Line Specific ExtensionsCompression and Archive ExtensionsCryptography ExtensionsDatabase ExtensionsDate and Time Related ExtensionsFile System Related ExtensionsHuman Language and Character Encoding SupportImage Processing and GenerationMail Related ExtensionsMathematical ExtensionsNon-Text MIME OutputProcess Control ExtensionsOther Basic ExtensionsOther ServicesSearch Engine ExtensionsServer Specific ExtensionsSession ExtensionsText ProcessingVariable and Type Related ExtensionsWeb ServicesWindows Only ExtensionsXML ManipulationGUI ExtensionsKeyboard Shortcuts?This helpjNext menu itemkPrevious menu itemg pPrevious man pageg nNext man pageGScroll to bottomg gScroll to topg hGoto homepageg sGoto search(current page)/Focus search boxApopular general-purpose scripting languagethat is especially suited to web development.Fast, flexible and pragmatic, PHP powers everything from your blog to the most popular websites in the world.What's new in 8.3Download8.3.2·Changelog·Upgrading8.2.15·Changelog·Upgrading8.1.27·Changelog·Upgrading18 Jan 2024PHP 8.2.15 Released!The PHP development team announces the immediate availability of PHP 8.2.15. This is a bug fix release.All PHP 8.2 users are encouraged to upgrade to this version.For source downloads of PHP 8.2.15 please visit ourdownloads page,\n",
            "Windows source and binaries can be found onwindows.php.net/download/.\n",
            "The list of changes is recorded in theChangeLog.18 Jan 2024PHP 8.3.2 Released!The PHP development team announces the immediate availability of PHP 8.3.2. This is a bug fix release.All PHP 8.3 users are encouraged to upgrade to this version.For source downloads of PHP 8.3.2 please visit ourdownloads page,\n",
            "Windows source and binaries can be found onwindows.php.net/download/.\n",
            "The list of changes is recorded in theChangeLog.21 Dec 2023PHP 8.2.14 Released!The PHP development team announces the immediate availability of PHP 8.2.14. This is a bug fix release.All PHP 8.2 users are encouraged to upgrade to this version.For source downloads of PHP 8.2.14 please visit ourdownloads page,\n",
            "Windows source and binaries can be found onwindows.php.net/download/.\n",
            "The list of changes is recorded in theChangeLog.21 Dec 2023PHP 8.1.27 Released!The PHP development team announces the immediate availability of PHP 8.1.27. This is a bug fix release.All PHP 8.1 users are encouraged to upgrade to this version.For source downloads of PHP 8.1.27 please visit ourdownloads page,\n",
            "Windows source and binaries can be found onwindows.php.net/download/.\n",
            "The list of changes is recorded in theChangeLog.21 Dec 2023PHP 8.3.1 Released!The PHP development team announces the immediate availability of PHP 8.3.1. This is a bug fix release.All PHP 8.3 users are encouraged to upgrade to this version.For source downloads of PHP 8.3.1 please visit ourdownloads page,\n",
            "Windows source and binaries can be found onwindows.php.net/download/.\n",
            "The list of changes is recorded in theChangeLog.23 Nov 2023PHP 8.1.26 Released!The PHP development team announces the immediate availability of PHP 8.1.26. This is a bug fix release.All PHP 8.1 users are encouraged to upgrade to this version.For source downloads of PHP 8.1.26 please visit ourdownloads page,\n",
            "Windows source and binaries can be found onwindows.php.net/download/.\n",
            "The list of changes is recorded in theChangeLog.23 Nov 2023PHP 8.3.0 Released!The PHP development team announces the immediate availability of PHP 8.3.0. This release marks the latest minor release of the PHP language.PHP 8.3 comes with numerous improvements and new features such as:Typed Class ConstantsFetch class constant dynamically syntaxReadonly AmendmentsOverride AttributeNew Randomizer method Random\\Randomizer::getBytesFromStringNew function json_validateAnd much much more...For source downloads of PHP 8.3.0 please visit ourdownloads page,\n",
            "        Windows source and binaries can be found onwindows.php.net/download/.\n",
            "        The list of changes is recorded in theChangeLog.Themigration guideis available in the PHP Manual.\n",
            "        Please consult it for the detailed list of new features and backward incompatible changes.Kudos to all the contributors and supporters!23 Nov 2023PHP 8.2.13 Released!The PHP development team announces the immediate availability of PHP 8.2.13. This is a bug fix release.All PHP 8.2 users are encouraged to upgrade to this version.For source downloads of PHP 8.2.13 please visit ourdownloads page,\n",
            "        Windows source and binaries can be found onwindows.php.net/download/.\n",
            "        The list of changes is recorded in theChangeLog.09 Nov 2023PHP 8.3.0 RC 6 available for testingThe PHP team is pleased to announce the release of PHP 8.3.0, RC 6.\n",
            "         This is the sixth and final release candidate, continuing the PHP 8.3 release cycle, the rough outline of which is specified in thePHP Wiki.For source downloads of PHP 8.3.0, RC 6 please visit thedownload page.Please carefully test this version and report any issues found in thebug reporting system.Please DO NOT use this version in production, it is an early test version.For more information on the new features and other changes, you can read theNEWSfile or theUPGRADINGfile for a complete list of upgrading notes. These files can also be found in the release archive.The next release will be the production-ready, general availability release, planned for 23 November 2023.The signatures for the release can be found inthe manifestor onthe QA site.Thank you for helping us make PHP better.26 Oct 2023PHP 8.1.25 Released!The PHP development team announces the immediate availability of PHP 8.1.25. This is a bug fix release.All PHP 8.1 users are encouraged to upgrade to this version.For source downloads of PHP 8.1.25 please visit ourdownloads page,\n",
            "Windows source and binaries can be found onwindows.php.net/download/.\n",
            "The list of changes is recorded in theChangeLog.26 Oct 2023PHP 8.2.12 Released!The PHP development team announces the immediate availability of PHP 8.2.12. This is a bug fix release.All PHP 8.2 users are encouraged to upgrade to this version.For source downloads of PHP 8.2.12 please visit ourdownloads page,\n",
            "Windows source and binaries can be found onwindows.php.net/download/.\n",
            "The list of changes is recorded in theChangeLog.26 Oct 2023PHP 8.3.0 RC 5 available for testingThe PHP team is pleased to announce the release of PHP 8.3.0, RC 5.\n",
            "        This is the fifth release candidate, continuing the PHP 8.3 release cycle,\n",
            "        the rough outline of which is specified in thePHP Wiki.For source downloads of PHP 8.3.0, RC 5 please visit thedownload page.Please carefully test this version and report any issues found in thebug reporting system.Please DO NOT use this version in production, it is an early test version.For more information on the new features and other changes, you can read theNEWSfile\n",
            "        or theUPGRADINGfile for a complete list of upgrading notes. These files can also be\n",
            "        found in the release archive.The next release will be the fourth release candidate (RC 5), planned\n",
            "        for 26 October 2023.The signatures for the release can be found inthe manifestor onthe QA site.Thank you for helping us make PHP better.12 Oct 2023PHP 8.3.0 RC 4 available for testingThe PHP team is pleased to announce the release of PHP 8.3.0, RC 4.\n",
            "       This is the fourth release candidate, continuing the PHP 8.3 release cycle,\n",
            "       the rough outline of which is specified in thePHP Wiki.For source downloads of PHP 8.3.0, RC 4 please visit thedownload page.Please carefully test this version and report any issues found in thebug reporting system.Please DO NOT use this version in production, it is an early test version.For more information on the new features and other changes, you can read theNEWSfile\n",
            "       or theUPGRADINGfile for a complete list of upgrading notes. These files can also be\n",
            "       found in the release archive.The next release will be the fifth release candidate (RC 5), planned\n",
            "       for 26 October 2023.The signatures for the release can be found inthe manifestor onthe QA site.Thank you for helping us make PHP better.28 Sep 2023PHP 8.1.24 Released!The PHP development team announces the immediate availability of PHP 8.1.24. This is a bug fix release.All PHP 8.1 users are encouraged to upgrade to this version.For source downloads of PHP 8.1.24 please visit ourdownloads page,\n",
            "Windows source and binaries can be found onwindows.php.net/download/.\n",
            "The list of changes is recorded in theChangeLog.28 Sep 2023PHP 8.3.0 RC 3 available for testingThe PHP team is pleased to announce the release of PHP 8.3.0, RC 3.\n",
            "       This is the third release candidate, continuing the PHP 8.3 release cycle,\n",
            "       the rough outline of which is specified in thePHP Wiki.For source downloads of PHP 8.3.0, RC 3 please visit thedownload page.Please carefully test this version and report any issues found in thebug reporting system.Please DO NOT use this version in production, it is an early test version.For more information on the new features and other changes, you can read theNEWSfile\n",
            "       or theUPGRADINGfile for a complete list of upgrading notes. These files can also be\n",
            "       found in the release archive.The next release will be the fourth release candidate (RC 4), planned\n",
            "       for 12 October 2023.The signatures for the release can be found inthe manifestor onthe QA site.Thank you for helping us make PHP better.28 Sep 2023PHP 8.2.11 Released!The PHP development team announces the immediate availability of PHP 8.2.11. This is a bug fix release.All PHP 8.2 users are encouraged to upgrade to this version.For source downloads of PHP 8.2.11 please visit ourdownloads page,\n",
            "        Windows source and binaries can be found onwindows.php.net/download/.\n",
            "        The list of changes is recorded in theChangeLog.14 Sep 2023PHP 8.3.0 RC 2 available for testingThe PHP team is pleased to announce the release of PHP 8.3.0, RC 2. This is the second release candidate, continuing the PHP 8.3 release cycle, the rough outline of which is specified in thePHP Wiki.For source downloads of PHP 8.3.0, RC 2 please visit thedownload page.Please carefully test this version and report any issues found in thebug reporting system.Please DO NOT use this version in production, it is an early test version.For more information on the new features and other changes, you can read theNEWSfile or theUPGRADINGfile for a complete list of upgrading notes. These files can also be found in the release archive.The next release will be the third release candidate (RC 3), planned for 28 September 2023.The signatures for the release can be found inthe manifestor onthe QA site.Thank you for helping us make PHP better.31 Aug 2023PHP 8.1.23 Released!The PHP development team announces the immediate availability of PHP 8.1.23. This is a bug fix release.All PHP 8.1 users are encouraged to upgrade to this version.For source downloads of PHP 8.1.23 please visit ourdownloads page,\n",
            "Windows source and binaries can be found onwindows.php.net/download/.\n",
            "The list of changes is recorded in theChangeLog.31 Aug 2023PHP 8.2.10 Released!The PHP development team announces the immediate availability of PHP 8.2.10. This is a bug fix release.All PHP 8.2 users are encouraged to upgrade to this version.For source downloads of PHP 8.2.10 please visit ourdownloads page,\n",
            "Windows source and binaries can be found onwindows.php.net/download/.\n",
            "The list of changes is recorded in theChangeLog.31 Aug 2023PHP 8.3.0 RC 1 available for testingThe PHP team is pleased to announce the release of PHP 8.3.0, RC 1.\n",
            "        This is the first release candidate, continuing the PHP 8.3 release cycle,\n",
            "        the rough outline of which is specified in thePHP Wiki.For source downloads of PHP 8.3.0, RC 1 please visit thedownload page.Please carefully test this version and report any issues found in thebug reporting system.Please DO NOT use this version in production, it is an early test version.For more information on the new features and other changes, you can read theNEWSfile\n",
            "        or theUPGRADINGfile for a complete list of upgrading notes. These files can also be\n",
            "        found in the release archive.The next release will be the second release candidate (RC 2), planned\n",
            "        for 14 September 2023.The signatures for the release can be found inthe manifestor onthe QA site.Thank you for helping us make PHP better.17 Aug 2023PHP 8.3.0 Beta 3 available for testingThe PHP team is pleased to announce the third beta release of PHP 8.3.0, Beta 3.\n",
            "        This continues the PHP 8.3 release cycle, the rough outline of which is specified in thePHP Wiki.For source downloads of PHP 8.3.0 Beta 3 please visit thedownload page.Please carefully test this version and report any issues found in thebug reporting system.Please DO NOT use this version in production, it is an early test version.For more information on the new features and other changes, you can read theNEWSfile,\n",
            "        or theUPGRADINGfile for a complete list of upgrading notes. These files can also be found in the release archive.The next release will be RC 1, planned for Aug 31 2023.The signatures for the release can be found inthe manifestor onthe QA site.Thank you for helping us make PHP better.16 Aug 2023PHP 8.2.9 Released!The PHP development team announces the immediate availability of PHP 8.2.9. This is a security release.All PHP 8.2 users are encouraged to upgrade to this version.Windows source and binaries are not synchronized and do not contain a fix for GH-11854.For source downloads of PHP 8.2.9 please visit ourdownloads page,\n",
            "        Windows source and binaries can be found onwindows.php.net/download/.\n",
            "        The list of changes is recorded in theChangeLog.04 Aug 2023PHP 8.0.30 Released!The PHP development team announces the immediate availability of PHP 8.0.30. This is a security release.All PHP 8.0 users are encouraged to upgrade to this version.For source downloads of PHP 8.0.30 please visit ourdownloads page,\n",
            "Windows source and binaries can be found onwindows.php.net/download/.\n",
            "The list of changes is recorded in theChangeLog.03 Aug 2023PHP 8.3.0 Beta 2 available for testingThe PHP team is pleased to announce the second beta release of PHP 8.3.0, Beta 2.\n",
            "        This continues the PHP 8.3 release cycle, the rough outline of which is specified in thePHP Wiki.For source downloads of PHP 8.3.0 Beta 2 please visit thedownload page.Please carefully test this version and report any issues found in thebug reporting system.Please DO NOT use this version in production, it is an early test version.For more information on the new features and other changes, you can read theNEWSfile,\n",
            "        or theUPGRADINGfile for a complete list of upgrading notes. These files can also be found in the release archive.The next release will be Beta 3, planned for Aug 17 2023.The signatures for the release can be found inthe manifestor onthe QA site.Thank you for helping us make PHP better.03 Aug 2023PHP 8.1.22 Released!The PHP development team announces the immediate availability of PHP 8.1.22. This is a security release.All PHP 8.1 users are encouraged to upgrade to this version.For source downloads of PHP 8.1.22 please visit ourdownloads page,\n",
            "Windows source and binaries can be found onwindows.php.net/download/.\n",
            "The list of changes is recorded in theChangeLog.Older News EntriesThe PHP FoundationThe PHP Foundation is a collective of people and organizations, united in the mission to ensure the long-term prosperity of the PHP language.DonateUpcoming conferencesPHP UK Conference 2024PHP Conference Odawara 2024SymfonyCon Vienna 2024SymfonyLive Paris 2024User Group EventsSpecial ThanksSocial media@official_php@php@fosstodon.orgCopyright © 2001-2024 The PHP GroupMy PHP.netContactOther PHP.net sitesPrivacy policyView Source\n"
          ]
        }
      ]
    },
    {
      "cell_type": "markdown",
      "source": [
        "Now we have a clean text from the crawled web page.\n",
        "Awesome, right? Finally, let’s convert that text into tokens by splitting the text like this:\n"
      ],
      "metadata": {
        "id": "xrw8T9zS9CEa"
      }
    },
    {
      "cell_type": "code",
      "source": [
        "#code block 4\n",
        "#split the text into tokens\n",
        "tokens = [t for t in text.split()]\n",
        "print(tokens)\n",
        "clean_tokens = tokens[:]\n",
        "#print(clean_tokens)"
      ],
      "metadata": {
        "id": "CidOZ44F9Muc",
        "colab": {
          "base_uri": "https://localhost:8080/"
        },
        "outputId": "dc0ffe0e-89d9-47ab-cf01-84c78cc99162"
      },
      "execution_count": 13,
      "outputs": [
        {
          "output_type": "stream",
          "name": "stdout",
          "text": [
            "['PHP:', 'Hypertext', 'PreprocessorDownloadsDocumentationGet', 'InvolvedHelpGetting', 'StartedIntroductionA', 'simple', 'tutorialLanguage', 'ReferenceBasic', 'syntaxTypesVariablesConstantsExpressionsOperatorsControl', 'StructuresFunctionsClasses', 'and', 'ObjectsNamespacesEnumerationsErrorsExceptionsFibersGeneratorsAttributesReferences', 'ExplainedPredefined', 'VariablesPredefined', 'ExceptionsPredefined', 'Interfaces', 'and', 'ClassesPredefined', 'AttributesContext', 'options', 'and', 'parametersSupported', 'Protocols', 'and', 'WrappersSecurityIntroductionGeneral', 'considerationsInstalled', 'as', 'CGI', 'binaryInstalled', 'as', 'an', 'Apache', 'moduleSession', 'SecurityFilesystem', 'SecurityDatabase', 'SecurityError', 'ReportingUser', 'Submitted', 'DataHiding', 'PHPKeeping', 'CurrentFeaturesHTTP', 'authentication', 'with', 'PHPCookiesSessionsDealing', 'with', 'XFormsHandling', 'file', 'uploadsUsing', 'remote', 'filesConnection', 'handlingPersistent', 'Database', 'ConnectionsCommand', 'line', 'usageGarbage', 'CollectionDTrace', 'Dynamic', 'TracingFunction', 'ReferenceAffecting', \"PHP's\", 'BehaviourAudio', 'Formats', 'ManipulationAuthentication', 'ServicesCommand', 'Line', 'Specific', 'ExtensionsCompression', 'and', 'Archive', 'ExtensionsCryptography', 'ExtensionsDatabase', 'ExtensionsDate', 'and', 'Time', 'Related', 'ExtensionsFile', 'System', 'Related', 'ExtensionsHuman', 'Language', 'and', 'Character', 'Encoding', 'SupportImage', 'Processing', 'and', 'GenerationMail', 'Related', 'ExtensionsMathematical', 'ExtensionsNon-Text', 'MIME', 'OutputProcess', 'Control', 'ExtensionsOther', 'Basic', 'ExtensionsOther', 'ServicesSearch', 'Engine', 'ExtensionsServer', 'Specific', 'ExtensionsSession', 'ExtensionsText', 'ProcessingVariable', 'and', 'Type', 'Related', 'ExtensionsWeb', 'ServicesWindows', 'Only', 'ExtensionsXML', 'ManipulationGUI', 'ExtensionsKeyboard', 'Shortcuts?This', 'helpjNext', 'menu', 'itemkPrevious', 'menu', 'itemg', 'pPrevious', 'man', 'pageg', 'nNext', 'man', 'pageGScroll', 'to', 'bottomg', 'gScroll', 'to', 'topg', 'hGoto', 'homepageg', 'sGoto', 'search(current', 'page)/Focus', 'search', 'boxApopular', 'general-purpose', 'scripting', 'languagethat', 'is', 'especially', 'suited', 'to', 'web', 'development.Fast,', 'flexible', 'and', 'pragmatic,', 'PHP', 'powers', 'everything', 'from', 'your', 'blog', 'to', 'the', 'most', 'popular', 'websites', 'in', 'the', \"world.What's\", 'new', 'in', '8.3Download8.3.2·Changelog·Upgrading8.2.15·Changelog·Upgrading8.1.27·Changelog·Upgrading18', 'Jan', '2024PHP', '8.2.15', 'Released!The', 'PHP', 'development', 'team', 'announces', 'the', 'immediate', 'availability', 'of', 'PHP', '8.2.15.', 'This', 'is', 'a', 'bug', 'fix', 'release.All', 'PHP', '8.2', 'users', 'are', 'encouraged', 'to', 'upgrade', 'to', 'this', 'version.For', 'source', 'downloads', 'of', 'PHP', '8.2.15', 'please', 'visit', 'ourdownloads', 'page,', 'Windows', 'source', 'and', 'binaries', 'can', 'be', 'found', 'onwindows.php.net/download/.', 'The', 'list', 'of', 'changes', 'is', 'recorded', 'in', 'theChangeLog.18', 'Jan', '2024PHP', '8.3.2', 'Released!The', 'PHP', 'development', 'team', 'announces', 'the', 'immediate', 'availability', 'of', 'PHP', '8.3.2.', 'This', 'is', 'a', 'bug', 'fix', 'release.All', 'PHP', '8.3', 'users', 'are', 'encouraged', 'to', 'upgrade', 'to', 'this', 'version.For', 'source', 'downloads', 'of', 'PHP', '8.3.2', 'please', 'visit', 'ourdownloads', 'page,', 'Windows', 'source', 'and', 'binaries', 'can', 'be', 'found', 'onwindows.php.net/download/.', 'The', 'list', 'of', 'changes', 'is', 'recorded', 'in', 'theChangeLog.21', 'Dec', '2023PHP', '8.2.14', 'Released!The', 'PHP', 'development', 'team', 'announces', 'the', 'immediate', 'availability', 'of', 'PHP', '8.2.14.', 'This', 'is', 'a', 'bug', 'fix', 'release.All', 'PHP', '8.2', 'users', 'are', 'encouraged', 'to', 'upgrade', 'to', 'this', 'version.For', 'source', 'downloads', 'of', 'PHP', '8.2.14', 'please', 'visit', 'ourdownloads', 'page,', 'Windows', 'source', 'and', 'binaries', 'can', 'be', 'found', 'onwindows.php.net/download/.', 'The', 'list', 'of', 'changes', 'is', 'recorded', 'in', 'theChangeLog.21', 'Dec', '2023PHP', '8.1.27', 'Released!The', 'PHP', 'development', 'team', 'announces', 'the', 'immediate', 'availability', 'of', 'PHP', '8.1.27.', 'This', 'is', 'a', 'bug', 'fix', 'release.All', 'PHP', '8.1', 'users', 'are', 'encouraged', 'to', 'upgrade', 'to', 'this', 'version.For', 'source', 'downloads', 'of', 'PHP', '8.1.27', 'please', 'visit', 'ourdownloads', 'page,', 'Windows', 'source', 'and', 'binaries', 'can', 'be', 'found', 'onwindows.php.net/download/.', 'The', 'list', 'of', 'changes', 'is', 'recorded', 'in', 'theChangeLog.21', 'Dec', '2023PHP', '8.3.1', 'Released!The', 'PHP', 'development', 'team', 'announces', 'the', 'immediate', 'availability', 'of', 'PHP', '8.3.1.', 'This', 'is', 'a', 'bug', 'fix', 'release.All', 'PHP', '8.3', 'users', 'are', 'encouraged', 'to', 'upgrade', 'to', 'this', 'version.For', 'source', 'downloads', 'of', 'PHP', '8.3.1', 'please', 'visit', 'ourdownloads', 'page,', 'Windows', 'source', 'and', 'binaries', 'can', 'be', 'found', 'onwindows.php.net/download/.', 'The', 'list', 'of', 'changes', 'is', 'recorded', 'in', 'theChangeLog.23', 'Nov', '2023PHP', '8.1.26', 'Released!The', 'PHP', 'development', 'team', 'announces', 'the', 'immediate', 'availability', 'of', 'PHP', '8.1.26.', 'This', 'is', 'a', 'bug', 'fix', 'release.All', 'PHP', '8.1', 'users', 'are', 'encouraged', 'to', 'upgrade', 'to', 'this', 'version.For', 'source', 'downloads', 'of', 'PHP', '8.1.26', 'please', 'visit', 'ourdownloads', 'page,', 'Windows', 'source', 'and', 'binaries', 'can', 'be', 'found', 'onwindows.php.net/download/.', 'The', 'list', 'of', 'changes', 'is', 'recorded', 'in', 'theChangeLog.23', 'Nov', '2023PHP', '8.3.0', 'Released!The', 'PHP', 'development', 'team', 'announces', 'the', 'immediate', 'availability', 'of', 'PHP', '8.3.0.', 'This', 'release', 'marks', 'the', 'latest', 'minor', 'release', 'of', 'the', 'PHP', 'language.PHP', '8.3', 'comes', 'with', 'numerous', 'improvements', 'and', 'new', 'features', 'such', 'as:Typed', 'Class', 'ConstantsFetch', 'class', 'constant', 'dynamically', 'syntaxReadonly', 'AmendmentsOverride', 'AttributeNew', 'Randomizer', 'method', 'Random\\\\Randomizer::getBytesFromStringNew', 'function', 'json_validateAnd', 'much', 'much', 'more...For', 'source', 'downloads', 'of', 'PHP', '8.3.0', 'please', 'visit', 'ourdownloads', 'page,', 'Windows', 'source', 'and', 'binaries', 'can', 'be', 'found', 'onwindows.php.net/download/.', 'The', 'list', 'of', 'changes', 'is', 'recorded', 'in', 'theChangeLog.Themigration', 'guideis', 'available', 'in', 'the', 'PHP', 'Manual.', 'Please', 'consult', 'it', 'for', 'the', 'detailed', 'list', 'of', 'new', 'features', 'and', 'backward', 'incompatible', 'changes.Kudos', 'to', 'all', 'the', 'contributors', 'and', 'supporters!23', 'Nov', '2023PHP', '8.2.13', 'Released!The', 'PHP', 'development', 'team', 'announces', 'the', 'immediate', 'availability', 'of', 'PHP', '8.2.13.', 'This', 'is', 'a', 'bug', 'fix', 'release.All', 'PHP', '8.2', 'users', 'are', 'encouraged', 'to', 'upgrade', 'to', 'this', 'version.For', 'source', 'downloads', 'of', 'PHP', '8.2.13', 'please', 'visit', 'ourdownloads', 'page,', 'Windows', 'source', 'and', 'binaries', 'can', 'be', 'found', 'onwindows.php.net/download/.', 'The', 'list', 'of', 'changes', 'is', 'recorded', 'in', 'theChangeLog.09', 'Nov', '2023PHP', '8.3.0', 'RC', '6', 'available', 'for', 'testingThe', 'PHP', 'team', 'is', 'pleased', 'to', 'announce', 'the', 'release', 'of', 'PHP', '8.3.0,', 'RC', '6.', 'This', 'is', 'the', 'sixth', 'and', 'final', 'release', 'candidate,', 'continuing', 'the', 'PHP', '8.3', 'release', 'cycle,', 'the', 'rough', 'outline', 'of', 'which', 'is', 'specified', 'in', 'thePHP', 'Wiki.For', 'source', 'downloads', 'of', 'PHP', '8.3.0,', 'RC', '6', 'please', 'visit', 'thedownload', 'page.Please', 'carefully', 'test', 'this', 'version', 'and', 'report', 'any', 'issues', 'found', 'in', 'thebug', 'reporting', 'system.Please', 'DO', 'NOT', 'use', 'this', 'version', 'in', 'production,', 'it', 'is', 'an', 'early', 'test', 'version.For', 'more', 'information', 'on', 'the', 'new', 'features', 'and', 'other', 'changes,', 'you', 'can', 'read', 'theNEWSfile', 'or', 'theUPGRADINGfile', 'for', 'a', 'complete', 'list', 'of', 'upgrading', 'notes.', 'These', 'files', 'can', 'also', 'be', 'found', 'in', 'the', 'release', 'archive.The', 'next', 'release', 'will', 'be', 'the', 'production-ready,', 'general', 'availability', 'release,', 'planned', 'for', '23', 'November', '2023.The', 'signatures', 'for', 'the', 'release', 'can', 'be', 'found', 'inthe', 'manifestor', 'onthe', 'QA', 'site.Thank', 'you', 'for', 'helping', 'us', 'make', 'PHP', 'better.26', 'Oct', '2023PHP', '8.1.25', 'Released!The', 'PHP', 'development', 'team', 'announces', 'the', 'immediate', 'availability', 'of', 'PHP', '8.1.25.', 'This', 'is', 'a', 'bug', 'fix', 'release.All', 'PHP', '8.1', 'users', 'are', 'encouraged', 'to', 'upgrade', 'to', 'this', 'version.For', 'source', 'downloads', 'of', 'PHP', '8.1.25', 'please', 'visit', 'ourdownloads', 'page,', 'Windows', 'source', 'and', 'binaries', 'can', 'be', 'found', 'onwindows.php.net/download/.', 'The', 'list', 'of', 'changes', 'is', 'recorded', 'in', 'theChangeLog.26', 'Oct', '2023PHP', '8.2.12', 'Released!The', 'PHP', 'development', 'team', 'announces', 'the', 'immediate', 'availability', 'of', 'PHP', '8.2.12.', 'This', 'is', 'a', 'bug', 'fix', 'release.All', 'PHP', '8.2', 'users', 'are', 'encouraged', 'to', 'upgrade', 'to', 'this', 'version.For', 'source', 'downloads', 'of', 'PHP', '8.2.12', 'please', 'visit', 'ourdownloads', 'page,', 'Windows', 'source', 'and', 'binaries', 'can', 'be', 'found', 'onwindows.php.net/download/.', 'The', 'list', 'of', 'changes', 'is', 'recorded', 'in', 'theChangeLog.26', 'Oct', '2023PHP', '8.3.0', 'RC', '5', 'available', 'for', 'testingThe', 'PHP', 'team', 'is', 'pleased', 'to', 'announce', 'the', 'release', 'of', 'PHP', '8.3.0,', 'RC', '5.', 'This', 'is', 'the', 'fifth', 'release', 'candidate,', 'continuing', 'the', 'PHP', '8.3', 'release', 'cycle,', 'the', 'rough', 'outline', 'of', 'which', 'is', 'specified', 'in', 'thePHP', 'Wiki.For', 'source', 'downloads', 'of', 'PHP', '8.3.0,', 'RC', '5', 'please', 'visit', 'thedownload', 'page.Please', 'carefully', 'test', 'this', 'version', 'and', 'report', 'any', 'issues', 'found', 'in', 'thebug', 'reporting', 'system.Please', 'DO', 'NOT', 'use', 'this', 'version', 'in', 'production,', 'it', 'is', 'an', 'early', 'test', 'version.For', 'more', 'information', 'on', 'the', 'new', 'features', 'and', 'other', 'changes,', 'you', 'can', 'read', 'theNEWSfile', 'or', 'theUPGRADINGfile', 'for', 'a', 'complete', 'list', 'of', 'upgrading', 'notes.', 'These', 'files', 'can', 'also', 'be', 'found', 'in', 'the', 'release', 'archive.The', 'next', 'release', 'will', 'be', 'the', 'fourth', 'release', 'candidate', '(RC', '5),', 'planned', 'for', '26', 'October', '2023.The', 'signatures', 'for', 'the', 'release', 'can', 'be', 'found', 'inthe', 'manifestor', 'onthe', 'QA', 'site.Thank', 'you', 'for', 'helping', 'us', 'make', 'PHP', 'better.12', 'Oct', '2023PHP', '8.3.0', 'RC', '4', 'available', 'for', 'testingThe', 'PHP', 'team', 'is', 'pleased', 'to', 'announce', 'the', 'release', 'of', 'PHP', '8.3.0,', 'RC', '4.', 'This', 'is', 'the', 'fourth', 'release', 'candidate,', 'continuing', 'the', 'PHP', '8.3', 'release', 'cycle,', 'the', 'rough', 'outline', 'of', 'which', 'is', 'specified', 'in', 'thePHP', 'Wiki.For', 'source', 'downloads', 'of', 'PHP', '8.3.0,', 'RC', '4', 'please', 'visit', 'thedownload', 'page.Please', 'carefully', 'test', 'this', 'version', 'and', 'report', 'any', 'issues', 'found', 'in', 'thebug', 'reporting', 'system.Please', 'DO', 'NOT', 'use', 'this', 'version', 'in', 'production,', 'it', 'is', 'an', 'early', 'test', 'version.For', 'more', 'information', 'on', 'the', 'new', 'features', 'and', 'other', 'changes,', 'you', 'can', 'read', 'theNEWSfile', 'or', 'theUPGRADINGfile', 'for', 'a', 'complete', 'list', 'of', 'upgrading', 'notes.', 'These', 'files', 'can', 'also', 'be', 'found', 'in', 'the', 'release', 'archive.The', 'next', 'release', 'will', 'be', 'the', 'fifth', 'release', 'candidate', '(RC', '5),', 'planned', 'for', '26', 'October', '2023.The', 'signatures', 'for', 'the', 'release', 'can', 'be', 'found', 'inthe', 'manifestor', 'onthe', 'QA', 'site.Thank', 'you', 'for', 'helping', 'us', 'make', 'PHP', 'better.28', 'Sep', '2023PHP', '8.1.24', 'Released!The', 'PHP', 'development', 'team', 'announces', 'the', 'immediate', 'availability', 'of', 'PHP', '8.1.24.', 'This', 'is', 'a', 'bug', 'fix', 'release.All', 'PHP', '8.1', 'users', 'are', 'encouraged', 'to', 'upgrade', 'to', 'this', 'version.For', 'source', 'downloads', 'of', 'PHP', '8.1.24', 'please', 'visit', 'ourdownloads', 'page,', 'Windows', 'source', 'and', 'binaries', 'can', 'be', 'found', 'onwindows.php.net/download/.', 'The', 'list', 'of', 'changes', 'is', 'recorded', 'in', 'theChangeLog.28', 'Sep', '2023PHP', '8.3.0', 'RC', '3', 'available', 'for', 'testingThe', 'PHP', 'team', 'is', 'pleased', 'to', 'announce', 'the', 'release', 'of', 'PHP', '8.3.0,', 'RC', '3.', 'This', 'is', 'the', 'third', 'release', 'candidate,', 'continuing', 'the', 'PHP', '8.3', 'release', 'cycle,', 'the', 'rough', 'outline', 'of', 'which', 'is', 'specified', 'in', 'thePHP', 'Wiki.For', 'source', 'downloads', 'of', 'PHP', '8.3.0,', 'RC', '3', 'please', 'visit', 'thedownload', 'page.Please', 'carefully', 'test', 'this', 'version', 'and', 'report', 'any', 'issues', 'found', 'in', 'thebug', 'reporting', 'system.Please', 'DO', 'NOT', 'use', 'this', 'version', 'in', 'production,', 'it', 'is', 'an', 'early', 'test', 'version.For', 'more', 'information', 'on', 'the', 'new', 'features', 'and', 'other', 'changes,', 'you', 'can', 'read', 'theNEWSfile', 'or', 'theUPGRADINGfile', 'for', 'a', 'complete', 'list', 'of', 'upgrading', 'notes.', 'These', 'files', 'can', 'also', 'be', 'found', 'in', 'the', 'release', 'archive.The', 'next', 'release', 'will', 'be', 'the', 'fourth', 'release', 'candidate', '(RC', '4),', 'planned', 'for', '12', 'October', '2023.The', 'signatures', 'for', 'the', 'release', 'can', 'be', 'found', 'inthe', 'manifestor', 'onthe', 'QA', 'site.Thank', 'you', 'for', 'helping', 'us', 'make', 'PHP', 'better.28', 'Sep', '2023PHP', '8.2.11', 'Released!The', 'PHP', 'development', 'team', 'announces', 'the', 'immediate', 'availability', 'of', 'PHP', '8.2.11.', 'This', 'is', 'a', 'bug', 'fix', 'release.All', 'PHP', '8.2', 'users', 'are', 'encouraged', 'to', 'upgrade', 'to', 'this', 'version.For', 'source', 'downloads', 'of', 'PHP', '8.2.11', 'please', 'visit', 'ourdownloads', 'page,', 'Windows', 'source', 'and', 'binaries', 'can', 'be', 'found', 'onwindows.php.net/download/.', 'The', 'list', 'of', 'changes', 'is', 'recorded', 'in', 'theChangeLog.14', 'Sep', '2023PHP', '8.3.0', 'RC', '2', 'available', 'for', 'testingThe', 'PHP', 'team', 'is', 'pleased', 'to', 'announce', 'the', 'release', 'of', 'PHP', '8.3.0,', 'RC', '2.', 'This', 'is', 'the', 'second', 'release', 'candidate,', 'continuing', 'the', 'PHP', '8.3', 'release', 'cycle,', 'the', 'rough', 'outline', 'of', 'which', 'is', 'specified', 'in', 'thePHP', 'Wiki.For', 'source', 'downloads', 'of', 'PHP', '8.3.0,', 'RC', '2', 'please', 'visit', 'thedownload', 'page.Please', 'carefully', 'test', 'this', 'version', 'and', 'report', 'any', 'issues', 'found', 'in', 'thebug', 'reporting', 'system.Please', 'DO', 'NOT', 'use', 'this', 'version', 'in', 'production,', 'it', 'is', 'an', 'early', 'test', 'version.For', 'more', 'information', 'on', 'the', 'new', 'features', 'and', 'other', 'changes,', 'you', 'can', 'read', 'theNEWSfile', 'or', 'theUPGRADINGfile', 'for', 'a', 'complete', 'list', 'of', 'upgrading', 'notes.', 'These', 'files', 'can', 'also', 'be', 'found', 'in', 'the', 'release', 'archive.The', 'next', 'release', 'will', 'be', 'the', 'third', 'release', 'candidate', '(RC', '3),', 'planned', 'for', '28', 'September', '2023.The', 'signatures', 'for', 'the', 'release', 'can', 'be', 'found', 'inthe', 'manifestor', 'onthe', 'QA', 'site.Thank', 'you', 'for', 'helping', 'us', 'make', 'PHP', 'better.31', 'Aug', '2023PHP', '8.1.23', 'Released!The', 'PHP', 'development', 'team', 'announces', 'the', 'immediate', 'availability', 'of', 'PHP', '8.1.23.', 'This', 'is', 'a', 'bug', 'fix', 'release.All', 'PHP', '8.1', 'users', 'are', 'encouraged', 'to', 'upgrade', 'to', 'this', 'version.For', 'source', 'downloads', 'of', 'PHP', '8.1.23', 'please', 'visit', 'ourdownloads', 'page,', 'Windows', 'source', 'and', 'binaries', 'can', 'be', 'found', 'onwindows.php.net/download/.', 'The', 'list', 'of', 'changes', 'is', 'recorded', 'in', 'theChangeLog.31', 'Aug', '2023PHP', '8.2.10', 'Released!The', 'PHP', 'development', 'team', 'announces', 'the', 'immediate', 'availability', 'of', 'PHP', '8.2.10.', 'This', 'is', 'a', 'bug', 'fix', 'release.All', 'PHP', '8.2', 'users', 'are', 'encouraged', 'to', 'upgrade', 'to', 'this', 'version.For', 'source', 'downloads', 'of', 'PHP', '8.2.10', 'please', 'visit', 'ourdownloads', 'page,', 'Windows', 'source', 'and', 'binaries', 'can', 'be', 'found', 'onwindows.php.net/download/.', 'The', 'list', 'of', 'changes', 'is', 'recorded', 'in', 'theChangeLog.31', 'Aug', '2023PHP', '8.3.0', 'RC', '1', 'available', 'for', 'testingThe', 'PHP', 'team', 'is', 'pleased', 'to', 'announce', 'the', 'release', 'of', 'PHP', '8.3.0,', 'RC', '1.', 'This', 'is', 'the', 'first', 'release', 'candidate,', 'continuing', 'the', 'PHP', '8.3', 'release', 'cycle,', 'the', 'rough', 'outline', 'of', 'which', 'is', 'specified', 'in', 'thePHP', 'Wiki.For', 'source', 'downloads', 'of', 'PHP', '8.3.0,', 'RC', '1', 'please', 'visit', 'thedownload', 'page.Please', 'carefully', 'test', 'this', 'version', 'and', 'report', 'any', 'issues', 'found', 'in', 'thebug', 'reporting', 'system.Please', 'DO', 'NOT', 'use', 'this', 'version', 'in', 'production,', 'it', 'is', 'an', 'early', 'test', 'version.For', 'more', 'information', 'on', 'the', 'new', 'features', 'and', 'other', 'changes,', 'you', 'can', 'read', 'theNEWSfile', 'or', 'theUPGRADINGfile', 'for', 'a', 'complete', 'list', 'of', 'upgrading', 'notes.', 'These', 'files', 'can', 'also', 'be', 'found', 'in', 'the', 'release', 'archive.The', 'next', 'release', 'will', 'be', 'the', 'second', 'release', 'candidate', '(RC', '2),', 'planned', 'for', '14', 'September', '2023.The', 'signatures', 'for', 'the', 'release', 'can', 'be', 'found', 'inthe', 'manifestor', 'onthe', 'QA', 'site.Thank', 'you', 'for', 'helping', 'us', 'make', 'PHP', 'better.17', 'Aug', '2023PHP', '8.3.0', 'Beta', '3', 'available', 'for', 'testingThe', 'PHP', 'team', 'is', 'pleased', 'to', 'announce', 'the', 'third', 'beta', 'release', 'of', 'PHP', '8.3.0,', 'Beta', '3.', 'This', 'continues', 'the', 'PHP', '8.3', 'release', 'cycle,', 'the', 'rough', 'outline', 'of', 'which', 'is', 'specified', 'in', 'thePHP', 'Wiki.For', 'source', 'downloads', 'of', 'PHP', '8.3.0', 'Beta', '3', 'please', 'visit', 'thedownload', 'page.Please', 'carefully', 'test', 'this', 'version', 'and', 'report', 'any', 'issues', 'found', 'in', 'thebug', 'reporting', 'system.Please', 'DO', 'NOT', 'use', 'this', 'version', 'in', 'production,', 'it', 'is', 'an', 'early', 'test', 'version.For', 'more', 'information', 'on', 'the', 'new', 'features', 'and', 'other', 'changes,', 'you', 'can', 'read', 'theNEWSfile,', 'or', 'theUPGRADINGfile', 'for', 'a', 'complete', 'list', 'of', 'upgrading', 'notes.', 'These', 'files', 'can', 'also', 'be', 'found', 'in', 'the', 'release', 'archive.The', 'next', 'release', 'will', 'be', 'RC', '1,', 'planned', 'for', 'Aug', '31', '2023.The', 'signatures', 'for', 'the', 'release', 'can', 'be', 'found', 'inthe', 'manifestor', 'onthe', 'QA', 'site.Thank', 'you', 'for', 'helping', 'us', 'make', 'PHP', 'better.16', 'Aug', '2023PHP', '8.2.9', 'Released!The', 'PHP', 'development', 'team', 'announces', 'the', 'immediate', 'availability', 'of', 'PHP', '8.2.9.', 'This', 'is', 'a', 'security', 'release.All', 'PHP', '8.2', 'users', 'are', 'encouraged', 'to', 'upgrade', 'to', 'this', 'version.Windows', 'source', 'and', 'binaries', 'are', 'not', 'synchronized', 'and', 'do', 'not', 'contain', 'a', 'fix', 'for', 'GH-11854.For', 'source', 'downloads', 'of', 'PHP', '8.2.9', 'please', 'visit', 'ourdownloads', 'page,', 'Windows', 'source', 'and', 'binaries', 'can', 'be', 'found', 'onwindows.php.net/download/.', 'The', 'list', 'of', 'changes', 'is', 'recorded', 'in', 'theChangeLog.04', 'Aug', '2023PHP', '8.0.30', 'Released!The', 'PHP', 'development', 'team', 'announces', 'the', 'immediate', 'availability', 'of', 'PHP', '8.0.30.', 'This', 'is', 'a', 'security', 'release.All', 'PHP', '8.0', 'users', 'are', 'encouraged', 'to', 'upgrade', 'to', 'this', 'version.For', 'source', 'downloads', 'of', 'PHP', '8.0.30', 'please', 'visit', 'ourdownloads', 'page,', 'Windows', 'source', 'and', 'binaries', 'can', 'be', 'found', 'onwindows.php.net/download/.', 'The', 'list', 'of', 'changes', 'is', 'recorded', 'in', 'theChangeLog.03', 'Aug', '2023PHP', '8.3.0', 'Beta', '2', 'available', 'for', 'testingThe', 'PHP', 'team', 'is', 'pleased', 'to', 'announce', 'the', 'second', 'beta', 'release', 'of', 'PHP', '8.3.0,', 'Beta', '2.', 'This', 'continues', 'the', 'PHP', '8.3', 'release', 'cycle,', 'the', 'rough', 'outline', 'of', 'which', 'is', 'specified', 'in', 'thePHP', 'Wiki.For', 'source', 'downloads', 'of', 'PHP', '8.3.0', 'Beta', '2', 'please', 'visit', 'thedownload', 'page.Please', 'carefully', 'test', 'this', 'version', 'and', 'report', 'any', 'issues', 'found', 'in', 'thebug', 'reporting', 'system.Please', 'DO', 'NOT', 'use', 'this', 'version', 'in', 'production,', 'it', 'is', 'an', 'early', 'test', 'version.For', 'more', 'information', 'on', 'the', 'new', 'features', 'and', 'other', 'changes,', 'you', 'can', 'read', 'theNEWSfile,', 'or', 'theUPGRADINGfile', 'for', 'a', 'complete', 'list', 'of', 'upgrading', 'notes.', 'These', 'files', 'can', 'also', 'be', 'found', 'in', 'the', 'release', 'archive.The', 'next', 'release', 'will', 'be', 'Beta', '3,', 'planned', 'for', 'Aug', '17', '2023.The', 'signatures', 'for', 'the', 'release', 'can', 'be', 'found', 'inthe', 'manifestor', 'onthe', 'QA', 'site.Thank', 'you', 'for', 'helping', 'us', 'make', 'PHP', 'better.03', 'Aug', '2023PHP', '8.1.22', 'Released!The', 'PHP', 'development', 'team', 'announces', 'the', 'immediate', 'availability', 'of', 'PHP', '8.1.22.', 'This', 'is', 'a', 'security', 'release.All', 'PHP', '8.1', 'users', 'are', 'encouraged', 'to', 'upgrade', 'to', 'this', 'version.For', 'source', 'downloads', 'of', 'PHP', '8.1.22', 'please', 'visit', 'ourdownloads', 'page,', 'Windows', 'source', 'and', 'binaries', 'can', 'be', 'found', 'onwindows.php.net/download/.', 'The', 'list', 'of', 'changes', 'is', 'recorded', 'in', 'theChangeLog.Older', 'News', 'EntriesThe', 'PHP', 'FoundationThe', 'PHP', 'Foundation', 'is', 'a', 'collective', 'of', 'people', 'and', 'organizations,', 'united', 'in', 'the', 'mission', 'to', 'ensure', 'the', 'long-term', 'prosperity', 'of', 'the', 'PHP', 'language.DonateUpcoming', 'conferencesPHP', 'UK', 'Conference', '2024PHP', 'Conference', 'Odawara', '2024SymfonyCon', 'Vienna', '2024SymfonyLive', 'Paris', '2024User', 'Group', 'EventsSpecial', 'ThanksSocial', 'media@official_php@php@fosstodon.orgCopyright', '©', '2001-2024', 'The', 'PHP', 'GroupMy', 'PHP.netContactOther', 'PHP.net', 'sitesPrivacy', 'policyView', 'Source']\n"
          ]
        }
      ]
    },
    {
      "cell_type": "markdown",
      "source": [
        "**Stopwords** are commonly used words that are filtered out from text during text preprocessing in natural language processing (NLP) tasks. These words are considered to be of little value in many NLP analyses because they are very frequent and don't carry significant meaning by themselves. Filtering out stopwords can help improve the efficiency of text analysis and reduce noise in the data.\n",
        "\n",
        "Examples of stopwords in English include words like \"the,\" \"and,\" \"is,\" \"of,\" \"in,\" \"to,\" \"for,\" \"that,\" and so on.\n",
        "\n",
        "\n",
        "**Count word frequency**\n",
        "The text is much better now. Let’s calculate the frequency distribution of those tokens using\n",
        "Python NLTK. There is a function in NLTK called FreqDist() does the job:"
      ],
      "metadata": {
        "id": "UtBKLMr99NNJ"
      }
    },
    {
      "cell_type": "code",
      "source": [
        "#code block 5\n",
        "\n",
        "#remove the simpe repetitive english words using stopwords\n",
        "sr = stopwords.words('english')\n",
        "for token in tokens:\n",
        "  if token in stopwords.words('english'):\n",
        "     clean_tokens.remove(token)\n",
        "freq = nltk.FreqDist(clean_tokens)\n",
        "#del_tokens = freq.copy()"
      ],
      "metadata": {
        "id": "wmBLonbf9Ujs"
      },
      "execution_count": 14,
      "outputs": []
    },
    {
      "cell_type": "markdown",
      "source": [
        "If you search the output, you’ll find that the most frequent token is PHP. You can plot a graph\n",
        "for those tokens using plot function like this:\n"
      ],
      "metadata": {
        "id": "BwmAB8TD9Zkg"
      }
    },
    {
      "cell_type": "code",
      "source": [
        "#code block 6\n",
        "#print and plot the 10 tokens with  high frequency\n",
        "for key,val in freq.items():\n",
        "    print (str(key) + ':' + str(val))\n",
        "freq.plot(10,cumulative=False)"
      ],
      "metadata": {
        "id": "NfA2LLwi9a5f",
        "colab": {
          "base_uri": "https://localhost:8080/",
          "height": 1000
        },
        "outputId": "402ac31f-8736-4f13-9dd1-656ae4bd7be0"
      },
      "execution_count": 15,
      "outputs": [
        {
          "output_type": "stream",
          "name": "stdout",
          "text": [
            "PHP::1\n",
            "Hypertext:1\n",
            "PreprocessorDownloadsDocumentationGet:1\n",
            "InvolvedHelpGetting:1\n",
            "StartedIntroductionA:1\n",
            "simple:1\n",
            "tutorialLanguage:1\n",
            "ReferenceBasic:1\n",
            "syntaxTypesVariablesConstantsExpressionsOperatorsControl:1\n",
            "StructuresFunctionsClasses:1\n",
            "ObjectsNamespacesEnumerationsErrorsExceptionsFibersGeneratorsAttributesReferences:1\n",
            "ExplainedPredefined:1\n",
            "VariablesPredefined:1\n",
            "ExceptionsPredefined:1\n",
            "Interfaces:1\n",
            "ClassesPredefined:1\n",
            "AttributesContext:1\n",
            "options:1\n",
            "parametersSupported:1\n",
            "Protocols:1\n",
            "WrappersSecurityIntroductionGeneral:1\n",
            "considerationsInstalled:1\n",
            "CGI:1\n",
            "binaryInstalled:1\n",
            "Apache:1\n",
            "moduleSession:1\n",
            "SecurityFilesystem:1\n",
            "SecurityDatabase:1\n",
            "SecurityError:1\n",
            "ReportingUser:1\n",
            "Submitted:1\n",
            "DataHiding:1\n",
            "PHPKeeping:1\n",
            "CurrentFeaturesHTTP:1\n",
            "authentication:1\n",
            "PHPCookiesSessionsDealing:1\n",
            "XFormsHandling:1\n",
            "file:1\n",
            "uploadsUsing:1\n",
            "remote:1\n",
            "filesConnection:1\n",
            "handlingPersistent:1\n",
            "Database:1\n",
            "ConnectionsCommand:1\n",
            "line:1\n",
            "usageGarbage:1\n",
            "CollectionDTrace:1\n",
            "Dynamic:1\n",
            "TracingFunction:1\n",
            "ReferenceAffecting:1\n",
            "PHP's:1\n",
            "BehaviourAudio:1\n",
            "Formats:1\n",
            "ManipulationAuthentication:1\n",
            "ServicesCommand:1\n",
            "Line:1\n",
            "Specific:2\n",
            "ExtensionsCompression:1\n",
            "Archive:1\n",
            "ExtensionsCryptography:1\n",
            "ExtensionsDatabase:1\n",
            "ExtensionsDate:1\n",
            "Time:1\n",
            "Related:4\n",
            "ExtensionsFile:1\n",
            "System:1\n",
            "ExtensionsHuman:1\n",
            "Language:1\n",
            "Character:1\n",
            "Encoding:1\n",
            "SupportImage:1\n",
            "Processing:1\n",
            "GenerationMail:1\n",
            "ExtensionsMathematical:1\n",
            "ExtensionsNon-Text:1\n",
            "MIME:1\n",
            "OutputProcess:1\n",
            "Control:1\n",
            "ExtensionsOther:2\n",
            "Basic:1\n",
            "ServicesSearch:1\n",
            "Engine:1\n",
            "ExtensionsServer:1\n",
            "ExtensionsSession:1\n",
            "ExtensionsText:1\n",
            "ProcessingVariable:1\n",
            "Type:1\n",
            "ExtensionsWeb:1\n",
            "ServicesWindows:1\n",
            "Only:1\n",
            "ExtensionsXML:1\n",
            "ManipulationGUI:1\n",
            "ExtensionsKeyboard:1\n",
            "Shortcuts?This:1\n",
            "helpjNext:1\n",
            "menu:2\n",
            "itemkPrevious:1\n",
            "itemg:1\n",
            "pPrevious:1\n",
            "man:2\n",
            "pageg:1\n",
            "nNext:1\n",
            "pageGScroll:1\n",
            "bottomg:1\n",
            "gScroll:1\n",
            "topg:1\n",
            "hGoto:1\n",
            "homepageg:1\n",
            "sGoto:1\n",
            "search(current:1\n",
            "page)/Focus:1\n",
            "search:1\n",
            "boxApopular:1\n",
            "general-purpose:1\n",
            "scripting:1\n",
            "languagethat:1\n",
            "especially:1\n",
            "suited:1\n",
            "web:1\n",
            "development.Fast,:1\n",
            "flexible:1\n",
            "pragmatic,:1\n",
            "PHP:114\n",
            "powers:1\n",
            "everything:1\n",
            "blog:1\n",
            "popular:1\n",
            "websites:1\n",
            "world.What's:1\n",
            "new:11\n",
            "8.3Download8.3.2·Changelog·Upgrading8.2.15·Changelog·Upgrading8.1.27·Changelog·Upgrading18:1\n",
            "Jan:2\n",
            "2024PHP:3\n",
            "8.2.15:2\n",
            "Released!The:17\n",
            "development:17\n",
            "team:25\n",
            "announces:17\n",
            "immediate:17\n",
            "availability:18\n",
            "8.2.15.:1\n",
            "This:25\n",
            "bug:13\n",
            "fix:14\n",
            "release.All:16\n",
            "8.2:7\n",
            "users:16\n",
            "encouraged:16\n",
            "upgrade:16\n",
            "version.For:23\n",
            "source:43\n",
            "downloads:25\n",
            "please:25\n",
            "visit:25\n",
            "ourdownloads:17\n",
            "page,:17\n",
            "Windows:17\n",
            "binaries:18\n",
            "found:41\n",
            "onwindows.php.net/download/.:17\n",
            "The:18\n",
            "list:26\n",
            "changes:17\n",
            "recorded:17\n",
            "theChangeLog.18:1\n",
            "8.3.2:2\n",
            "8.3.2.:1\n",
            "8.3:11\n",
            "theChangeLog.21:3\n",
            "Dec:3\n",
            "2023PHP:23\n",
            "8.2.14:2\n",
            "8.2.14.:1\n",
            "8.1.27:2\n",
            "8.1.27.:1\n",
            "8.1:6\n",
            "8.3.1:2\n",
            "8.3.1.:1\n",
            "theChangeLog.23:2\n",
            "Nov:4\n",
            "8.1.26:2\n",
            "8.1.26.:1\n",
            "8.3.0:12\n",
            "8.3.0.:1\n",
            "release:53\n",
            "marks:1\n",
            "latest:1\n",
            "minor:1\n",
            "language.PHP:1\n",
            "comes:1\n",
            "numerous:1\n",
            "improvements:1\n",
            "features:10\n",
            "as:Typed:1\n",
            "Class:1\n",
            "ConstantsFetch:1\n",
            "class:1\n",
            "constant:1\n",
            "dynamically:1\n",
            "syntaxReadonly:1\n",
            "AmendmentsOverride:1\n",
            "AttributeNew:1\n",
            "Randomizer:1\n",
            "method:1\n",
            "Random\\Randomizer::getBytesFromStringNew:1\n",
            "function:1\n",
            "json_validateAnd:1\n",
            "much:2\n",
            "more...For:1\n",
            "theChangeLog.Themigration:1\n",
            "guideis:1\n",
            "available:9\n",
            "Manual.:1\n",
            "Please:1\n",
            "consult:1\n",
            "detailed:1\n",
            "backward:1\n",
            "incompatible:1\n",
            "changes.Kudos:1\n",
            "contributors:1\n",
            "supporters!23:1\n",
            "8.2.13:2\n",
            "8.2.13.:1\n",
            "theChangeLog.09:1\n",
            "RC:19\n",
            "6:2\n",
            "testingThe:8\n",
            "pleased:8\n",
            "announce:8\n",
            "8.3.0,:14\n",
            "6.:1\n",
            "sixth:1\n",
            "final:1\n",
            "candidate,:6\n",
            "continuing:6\n",
            "cycle,:8\n",
            "rough:8\n",
            "outline:8\n",
            "specified:8\n",
            "thePHP:8\n",
            "Wiki.For:8\n",
            "thedownload:8\n",
            "page.Please:8\n",
            "carefully:8\n",
            "test:16\n",
            "version:16\n",
            "report:8\n",
            "issues:8\n",
            "thebug:8\n",
            "reporting:8\n",
            "system.Please:8\n",
            "DO:8\n",
            "NOT:8\n",
            "use:8\n",
            "production,:8\n",
            "early:8\n",
            "information:8\n",
            "changes,:8\n",
            "read:8\n",
            "theNEWSfile:6\n",
            "theUPGRADINGfile:8\n",
            "complete:8\n",
            "upgrading:8\n",
            "notes.:8\n",
            "These:8\n",
            "files:8\n",
            "also:8\n",
            "archive.The:8\n",
            "next:8\n",
            "production-ready,:1\n",
            "general:1\n",
            "release,:1\n",
            "planned:8\n",
            "23:1\n",
            "November:1\n",
            "2023.The:8\n",
            "signatures:8\n",
            "inthe:8\n",
            "manifestor:8\n",
            "onthe:8\n",
            "QA:8\n",
            "site.Thank:8\n",
            "helping:8\n",
            "us:8\n",
            "make:8\n",
            "better.26:1\n",
            "Oct:4\n",
            "8.1.25:2\n",
            "8.1.25.:1\n",
            "theChangeLog.26:2\n",
            "8.2.12:2\n",
            "8.2.12.:1\n",
            "5:2\n",
            "5.:1\n",
            "fifth:2\n",
            "fourth:3\n",
            "candidate:5\n",
            "(RC:5\n",
            "5),:2\n",
            "26:2\n",
            "October:3\n",
            "better.12:1\n",
            "4:2\n",
            "4.:1\n",
            "better.28:2\n",
            "Sep:4\n",
            "8.1.24:2\n",
            "8.1.24.:1\n",
            "theChangeLog.28:1\n",
            "3:4\n",
            "3.:2\n",
            "third:3\n",
            "4),:1\n",
            "12:1\n",
            "8.2.11:2\n",
            "8.2.11.:1\n",
            "theChangeLog.14:1\n",
            "2:4\n",
            "2.:2\n",
            "second:3\n",
            "3),:1\n",
            "28:1\n",
            "September:2\n",
            "better.31:1\n",
            "Aug:10\n",
            "8.1.23:2\n",
            "8.1.23.:1\n",
            "theChangeLog.31:2\n",
            "8.2.10:2\n",
            "8.2.10.:1\n",
            "1:2\n",
            "1.:1\n",
            "first:1\n",
            "2),:1\n",
            "14:1\n",
            "better.17:1\n",
            "Beta:7\n",
            "beta:2\n",
            "continues:2\n",
            "theNEWSfile,:2\n",
            "1,:1\n",
            "31:1\n",
            "better.16:1\n",
            "8.2.9:2\n",
            "8.2.9.:1\n",
            "security:3\n",
            "version.Windows:1\n",
            "synchronized:1\n",
            "contain:1\n",
            "GH-11854.For:1\n",
            "theChangeLog.04:1\n",
            "8.0.30:2\n",
            "8.0.30.:1\n",
            "8.0:1\n",
            "theChangeLog.03:1\n",
            "3,:1\n",
            "17:1\n",
            "better.03:1\n",
            "8.1.22:2\n",
            "8.1.22.:1\n",
            "theChangeLog.Older:1\n",
            "News:1\n",
            "EntriesThe:1\n",
            "FoundationThe:1\n",
            "Foundation:1\n",
            "collective:1\n",
            "people:1\n",
            "organizations,:1\n",
            "united:1\n",
            "mission:1\n",
            "ensure:1\n",
            "long-term:1\n",
            "prosperity:1\n",
            "language.DonateUpcoming:1\n",
            "conferencesPHP:1\n",
            "UK:1\n",
            "Conference:2\n",
            "Odawara:1\n",
            "2024SymfonyCon:1\n",
            "Vienna:1\n",
            "2024SymfonyLive:1\n",
            "Paris:1\n",
            "2024User:1\n",
            "Group:1\n",
            "EventsSpecial:1\n",
            "ThanksSocial:1\n",
            "media@official_php@php@fosstodon.orgCopyright:1\n",
            "©:1\n",
            "2001-2024:1\n",
            "GroupMy:1\n",
            "PHP.netContactOther:1\n",
            "PHP.net:1\n",
            "sitesPrivacy:1\n",
            "policyView:1\n",
            "Source:1\n"
          ]
        },
        {
          "output_type": "display_data",
          "data": {
            "text/plain": [
              "<Figure size 640x480 with 1 Axes>"
            ],
            "image/png": "[encoded data removed]"
          },
          "metadata": {}
        },
        {
          "output_type": "execute_result",
          "data": {
            "text/plain": [
              "<Axes: xlabel='Samples', ylabel='Counts'>"
            ]
          },
          "metadata": {},
          "execution_count": 15
        }
      ]
    },
    {
      "cell_type": "markdown",
      "source": [
        "###**PIE CHART REPRESENTATION**"
      ],
      "metadata": {
        "id": "f3RdIV3Air5g"
      }
    },
    {
      "cell_type": "code",
      "source": [
        "#code block 7\n",
        "#pie chart representation for the 10 high frequency tokens from spaces web apge\n",
        "import matplotlib.pyplot as plt\n",
        "a = dict(freq)\n",
        "sort = sorted(a, key=a.get,reverse=True)\n",
        "count =0\n",
        "b = {}\n",
        "for i in sort:\n",
        "    b[i] = a[i]\n",
        "    count+= 1\n",
        "    if count == 10:\n",
        "       break\n",
        "x = b.keys()\n",
        "v = b.values()\n",
        "plt.pie(v,labels=x)"
      ],
      "metadata": {
        "colab": {
          "base_uri": "https://localhost:8080/",
          "height": 763
        },
        "id": "CK3u8YMbhe7a",
        "outputId": "b1f943e4-1472-46b7-ce44-0e50be3af6be"
      },
      "execution_count": 16,
      "outputs": [
        {
          "output_type": "execute_result",
          "data": {
            "text/plain": [
              "([<matplotlib.patches.Wedge at 0x79ef5e6ed210>,\n",
              "  <matplotlib.patches.Wedge at 0x79ef5e6ed150>,\n",
              "  <matplotlib.patches.Wedge at 0x79ef5e6edb10>,\n",
              "  <matplotlib.patches.Wedge at 0x79ef5e6edf90>,\n",
              "  <matplotlib.patches.Wedge at 0x79ef5e6ee410>,\n",
              "  <matplotlib.patches.Wedge at 0x79ef5e6ee890>,\n",
              "  <matplotlib.patches.Wedge at 0x79ef5e6eed10>,\n",
              "  <matplotlib.patches.Wedge at 0x79ef5e6ef190>,\n",
              "  <matplotlib.patches.Wedge at 0x79ef5e6ef610>,\n",
              "  <matplotlib.patches.Wedge at 0x79ef5e6efa90>],\n",
              " [Text(0.6915841484685735, 0.8554012892128456, 'PHP'),\n",
              "  Text(-0.6437787781863626, 0.8919354711843644, 'release'),\n",
              "  Text(-1.079072931061106, 0.21354533348025612, 'source'),\n",
              "  Text(-0.9851299836144599, -0.48940669732214953, 'found'),\n",
              "  Text(-0.6084442288788122, -0.9164036339648964, 'list'),\n",
              "  Text(-0.2051060044098503, -1.0807088076605218, 'team'),\n",
              "  Text(0.2219716459075988, -1.0773711470115912, 'This'),\n",
              "  Text(0.6155872615038946, -0.9116207125082975, 'downloads'),\n",
              "  Text(0.9164036268440636, -0.6084442396038, 'please'),\n",
              "  Text(1.0790729335603004, -0.21354532085149397, 'visit')])"
            ]
          },
          "metadata": {},
          "execution_count": 16
        },
        {
          "output_type": "display_data",
          "data": {
            "text/plain": [
              "<Figure size 640x480 with 1 Axes>"
            ],
            "image/png": "[encoded data removed]"
          },
          "metadata": {}
        }
      ]
    },
    {
      "cell_type": "markdown",
      "source": [
        "###**BAR GRAPH REPRESENTATION**"
      ],
      "metadata": {
        "id": "gGmaH5wfimUW"
      }
    },
    {
      "cell_type": "code",
      "source": [
        "#EXAMPLE\n",
        "\n",
        "import nltk\n",
        "nltk.download('punkt')  # Download necessary data\n",
        "from nltk.tokenize import word_tokenize\n",
        "import matplotlib.pyplot as plt\n",
        "from collections import Counter\n",
        "\n",
        "# Sample text\n",
        "text = \"NLTK is a powerful library for natural language processing. NLTK provides tools for text analysis.\"\n",
        "\n",
        "# Tokenize the text\n",
        "tokens = word_tokenize(text)\n",
        "\n",
        "# Count word frequencies\n",
        "word_counts = Counter(tokens)\n",
        "print(word_counts)\n",
        "# Separate words and their frequencies\n",
        "words = list(word_counts.keys())\n",
        "frequencies = list(word_counts.values())\n",
        "\n",
        "# Create a bar graph\n",
        "plt.figure(figsize=(10,6))\n",
        "plt.bar(words, frequencies)\n",
        "plt.xlabel('Words')\n",
        "plt.ylabel('Frequency')\n",
        "plt.title('Token Frequencies')\n",
        "plt.xticks(rotation=45)\n",
        "\n",
        "# Display the graph\n",
        "plt.tight_layout()\n",
        "plt.show()"
      ],
      "metadata": {
        "colab": {
          "base_uri": "https://localhost:8080/",
          "height": 681
        },
        "id": "rv4YpYENii3A",
        "outputId": "c1568374-ca9f-4ac2-e9a2-1364ecc36777"
      },
      "execution_count": 17,
      "outputs": [
        {
          "output_type": "stream",
          "name": "stderr",
          "text": [
            "[nltk_data] Downloading package punkt to /root/nltk_data...\n",
            "[nltk_data]   Package punkt is already up-to-date!\n"
          ]
        },
        {
          "output_type": "stream",
          "name": "stdout",
          "text": [
            "Counter({'NLTK': 2, 'for': 2, '.': 2, 'is': 1, 'a': 1, 'powerful': 1, 'library': 1, 'natural': 1, 'language': 1, 'processing': 1, 'provides': 1, 'tools': 1, 'text': 1, 'analysis': 1})\n"
          ]
        },
        {
          "output_type": "display_data",
          "data": {
            "text/plain": [
              "<Figure size 1000x600 with 1 Axes>"
            ],
            "image/png": "[encoded data removed]"
          },
          "metadata": {}
        }
      ]
    },
    {
      "cell_type": "markdown",
      "source": [
        "---\n",
        "##Work on **code block 2** and use the same code concept below to parse data from any live website that talk about SpaceX Technologies and plot any graph for those tokens of your own choice which is not given above.\n",
        "####Note: Please keep in mind that do not put all code in one block split in a fashionable way."
      ],
      "metadata": {
        "id": "lR7vqKXG-aGb"
      }
    },
    {
      "cell_type": "code",
      "source": [
        "#CODE HERE\n",
        "#code block 2\n",
        "\n",
        "import urllib.request\n",
        "\n",
        "#open and read the spacex data\n",
        "# response = urllib.request.urlopen('https://blogs.nasa.gov/spacex/')\n",
        "# response = urllib.request.urlopen('https://www.space.com/spacex-launch-144-missions-2024')\n",
        "response = urllib.request.urlopen('https://historicspacecraft.com/Rockets_SpaceX.html')\n",
        "\n",
        "html = response.read()\n",
        "print(html)"
      ],
      "metadata": {
        "id": "bRHlBwDO-pJO",
        "colab": {
          "base_uri": "https://localhost:8080/"
        },
        "outputId": "900352d9-bfc0-4eae-ca86-cbdd03697187"
      },
      "execution_count": 18,
      "outputs": [
        {
          "output_type": "stream",
          "name": "stdout",
          "text": [
            "b'<!DOCTYPE html>\\r\\n<html lang=\"en\">\\r\\n\\r\\n<head>\\r\\n   <!-- Global site tag (gtag.js) - Google Analytics -->\\r\\n<script async src=\"https://www.googletagmanager.com/gtag/js?id=UA-756578-3\"></script>\\r\\n<script>\\r\\n  window.dataLayer = window.dataLayer || [];\\r\\n  function gtag(){dataLayer.push(arguments);}\\r\\n  gtag(\\'js\\', new Date());\\r\\n\\r\\n  gtag(\\'config\\', \\'UA-756578-3\\');\\r\\n</script>\\r\\n   <title>SpaceX Falcon Rockets | Historic Spacecraft</title>\\r\\n   <meta name=\"description\" content= \"Illustrations and Information about the SpaceX Falcon family of rockets.\" />\\r\\n   <link rel=\"stylesheet\" href=\"historicspacecraft.css\" type=\"text/css\" />\\r\\n      <meta charset=\"utf-8\">\\r\\n   <meta name=\"AUTHOR\" content=\"Richard Kruse\" />\\r\\n   <meta name=viewport content=\"width=device-width, initial-scale=1\" />\\r\\n   <link rel=\"shortcut icon\" href=\"https://historicspacecraft.com/favicon.ico\" type=\"image/x-icon\" />\\r\\n\\r\\n</head>\\r\\n\\r\\n<body>\\r\\n\\r\\n<header>\\r\\n  <a href=\"index.html\"><img src=\"images/Historic_Spacecraft.jpg\"  style=\"float: left;\" alt=\"Historic Spacecraft\" height=\"100\" width=\"300\"  /></a>\\r\\n  <img src=\"images/Menu_R_Dragon.jpg\"  style=\" float: right;\" alt=\"Dragons orbiting Earth.\" height=\"100\" width=\"300\"  />\\r\\n</header>\\r\\n\\r\\n<nav>\\r\\n  <b>Site Navigation</b>\\r\\n\\r\\n  <div>\\r\\n    <a href=\"https://historicspacecraft.com\">Home</a>\\r\\n    <br />\\r\\n    <b>Topics</b><br />\\r\\n    Spacecraft<br />\\r\\n    <a href=\"https://historicspacecraft.com/Apollo_Capsules.html\">Apollo Capsules</a>\\r\\n    <a href=\"https://historicspacecraft.com/Commercial.html\">Commercial</a>\\r\\n    <a href=\"https://historicspacecraft.com/Gemini_Capsules.html\">Gemini</a>\\r\\n    <a href=\"https://historicspacecraft.com/Lunar_Module.html\">Lunar Module</a>\\r\\n    <a href=\"https://historicspacecraft.com/mercury.html\">Mercury</a>\\r\\n    <a href=\"https://historicspacecraft.com/Military_Spacecraft.html\">Military Spacecraft</a>\\r\\n\\t<a href=\"https://historicspacecraft.com/Spacecraft_Chinese.html\">Shenzhou</a>\\r\\n    <a href=\"https://historicspacecraft.com/soyuz.html\">Soyuz</a>\\r\\n    <a href=\"https://historicspacecraft.com/Space_Shuttle.html\">Space Shuttle</a>\\r\\n    <a href=\"https://historicspacecraft.com/Spacecraft_Vostok.html\">Vostok &amp; Voskhod</a>\\r\\n    <br />\\r\\n    Space Stations<br />\\r\\n\\t<a href=\"https://historicspacecraft.com/ISS.html\">International Space Station</a>\\r\\n\\t<a href=\"https://historicspacecraft.com/Mir.html\">Mir</a>\\r\\n    <a href=\"https://historicspacecraft.com/skylab.html\">Skylab</a>\\r\\n    <br />\\r\\n    U.S. Rockets<br />\\r\\n    <a href=\"https://historicspacecraft.com/Rockets_Atlas.html\">Atlas</a>\\r\\n    <a href=\"https://historicspacecraft.com/Rockets_Delta.html\">Delta / Thor</a>\\r\\n    <a href=\"https://historicspacecraft.com/Rockets_Jupiter.html\">Jupiter</a>\\r\\n    <a href=\"https://historicspacecraft.com/Rockets_Orbital.html\">Orbital</a>\\r\\n    <a href=\"https://historicspacecraft.com/Rockets_Redstone.html\">Redstone</a>\\r\\n    <a href=\"https://historicspacecraft.com/Rockets_Saturn.html\">Saturn I &amp; IB</a>\\r\\n    <a href=\"https://historicspacecraft.com/Rockets_Saturn_5.html\">Saturn 5</a>\\r\\n    <a href=\"https://historicspacecraft.com/Rockets_SpaceX.html\">SpaceX</a>\\r\\n    <a href=\"https://historicspacecraft.com/Rockets_Titan.html\">Titan</a>\\r\\n    <a href=\"https://historicspacecraft.com/Rockets_Upper_Stage.html\">Upper Stages</a>\\r\\n    <a href=\"https://historicspacecraft.com/rockets.html\">Other Rockets</a>\\r\\n    <br />\\r\\n   Other Nations Rockets<br />\\r\\n    <a href=\"https://historicspacecraft.com/Rockets_Chinese.html\">Chinese</a>\\r\\n    <a href=\"https://historicspacecraft.com/Rockets_European.html\">European</a>\\r\\n    <a href=\"https://historicspacecraft.com/Rockets_Indian.html\">Indian</a>\\r\\n    <a href=\"https://historicspacecraft.com/Rockets_Japanese.html\">Japanese</a>\\r\\n    <a href=\"https://historicspacecraft.com/Rockets_Russian.html\">Russian</a>\\r\\n    <a href=\"https://historicspacecraft.com/Rockets_V-2.html\">V-2 (A-4)</a>\\r\\n    <a href=\"https://historicspacecraft.com/Rockets_Other_Countries.html\">Other Nations</a>\\r\\n    <br />\\r\\n    Rocket Engines<br />\\r\\n    <a href=\"https://historicspacecraft.com/rocket_engines.html\">Liquid Fueled</a>\\r\\n    <a href=\"https://historicspacecraft.com/solid_fuel.html\">Solid Fueled</a>\\r\\n    <br />\\r\\n    Space Probes<br />\\r\\n    <a href=\"https://historicspacecraft.com/Probes_Asteroid.html\">Asteroid / Comet</a>\\r\\n    <a href=\"https://historicspacecraft.com/Probes_Discovery.html\">Discovery</a>\\r\\n    <a href=\"https://historicspacecraft.com/Probes_Lunar.html\">Lunar Missions</a>\\r\\n    <a href=\"https://historicspacecraft.com/Probes_Outer_Planets.html\">Outer Planets</a>\\r\\n    <a href=\"https://historicspacecraft.com/Probes_Mariner.html\">Mariner</a>\\r\\n    <a href=\"https://historicspacecraft.com/Probes_Mars.html\">Mars</a>\\r\\n    <a href=\"https://historicspacecraft.com/Probes_Pioneer.html\">Pioneer</a>\\r\\n    <a href=\"https://historicspacecraft.com/Telescopes.html\">Telescopes</a>\\r\\n    <a href=\"https://historicspacecraft.com/Probes_Venus.html\">Venus Probes</a>\\r\\n    <br />\\r\\n    Other Topics<br />\\r\\n    <a href=\"https://historicspacecraft.com/spacesuits.html\">Space Suits</a>\\r\\n    <a href=\"https://historicspacecraft.com/Pads.html\">Launch Pads</a>\\r\\n    <a href=\"https://historicspacecraft.com/misc_photos.html\">Misc. Photos</a>\\r\\n    <br />\\r\\n    <b>Interactive Features</b>\\r\\n    <a href=\"https://historicspacecraft.com/ISS_VV_Diagram.html\">ISS Vehicles</a>\\r\\n    <br />\\r\\n    <b>Reference</b>\\r\\n    <a href=\"https://historicspacecraft.com/links.html\">Spaceflight Links</a>\\r\\n    <a href=\"https://historicspacecraft.com/Space_Shuttle.html#LIST\">Shuttle Flights</a>\\r\\n    <a href=\"https://historicspacecraft.com/Master_Index.html\">Master Index</a>\\r\\n    <a href=\"https://historicspacecraft.com/timeline.html\">Timeline</a>\\r\\n    <a href=\"https://historicspacecraft.com/acronyms.html\">Acronyms</a>\\r\\n    <a href=\"https://historicspacecraft.com/quotes.html\">Quotes</a>\\r\\n    <br />\\r\\n    <b>Other Stuff</b>\\r\\n    <a href=\"https://historicspacecraft.com/Store.html\">Store</a>\\r\\n    <a href=\"https://historicspacecraft.com/Archives.html\">Archives</a>\\r\\n    <a href=\"https://historicspacecraft.com/Space_Graphics.html\">Graphics</a>\\r\\n    <a href=\"https://historicspacecraft.com/Wall_Papers.html\">Wallpapers</a>\\r\\n    <a href=\"https://historicspacecraft.com/about.html\">About</a>\\r\\n    <br />\\r\\n    <b>Contact Information</b>\\r\\n    <a href=\"mailto:webmaster@historicspacecraft.com\">Email Richard</a>\\r\\n  </div>\\r\\n    <address>Historic Spacecraft<br />PO Box 704<br />Jackson, MI  49204<br /></address>\\r\\n\\r\\n</nav>\\r\\n\\r\\n<main>\\r\\n\\r\\n<h1>Rockets of SpaceX</h1>\\r\\n\\r\\n<article>\\r\\n  <h2 id=\"SpaceX\">SpaceX</h2>\\r\\n \\t <div class=\"picture right\" style=\"width:302px;\"> \\r\\n\\t\\t\\t<a href=\"Diagrams/R/Falcon_Family_RK2019.png\">\\r\\n\\t\\t\\t<img src=\"Diagrams/R/Falcon_Family_RK2019_Small.png\"  alt=\"Illustration of SpaceX Falcon rockets.\" height=\"188\" width=\"300\"  /></a>\\r\\n\\t\\t\\t<br />SpaceX Falcon Rockets<br />\\r\\n\\t\\t\\t(<a href=\"Diagrams/R/Falcon_Family_RK2019.png\">View Larger Version</a>)\\r\\n\\t\\t\\t</div>\\r\\n  <p>SpaceX is a space transportation company founded in 2002 by Elon Musk.</p>\\r\\n  <p>SpaceX headquarters, as well as production facilities and mission control, are located in Hawthorne, California.  \\r\\n      The company operates rocket testing facilities near McGregor, Texas and near Brownsville, Texas.  \\r\\n      SpaceX currently operates launch pads at Kennedy Space Center, Cape Canaveral and Vandenberg Air Force base.  \\r\\n      Early Falcon 1 test flights occurred at Kwajalein Atoll in the Pacific Ocean.</p>\\r\\n  <p>In addition to launch vehicles, SpaceX has developed the Dragon space station re-supply vehicle.  \\r\\n      The company has a contract with NASA to periodically fly supplies to the International Space Station.</p>\\r\\n  <p>SpaceX has developed a three-core rocket known as the Falcon Heavy.  \\r\\n      The large rocket includes three modified Falcon 9 first stages and is one of the most powerful rockets currently in service.</p>\\r\\n  <p>The company has also developed a crewed spacecraft, known as Crew Dragon.  \\r\\n      Crew Dragon was developed as part of NASA\\'s <b>Commercial Crew Development (CCDev)</b> program and is used to transport astronauts to the International Space Station.</p>\\r\\n  <p>For more information, visit the <a href=\"http://www.spacex.com\">SpaceX website</a>.</p>\\r\\n    <div class=\"spacer\"><hr /></div>\\r\\n\\r\\n    <a href=\"Rockets_SpaceX.html#Falcon-1\"><img src=\"Diagrams/R/Space-X_Falcon-1.jpg\" width=\"30\" height=\"105\" alt=\"Falcon 1 illustration\" /></a>\\r\\n    <a href=\"Rockets_SpaceX.html#Falcon-9\"><img src=\"Diagrams/R/Space-X_Falcon-9_Dragon_COTS2.jpg\" width=\"30\" height=\"228\" alt=\"Falcon 9 illustration\" /></a>\\r\\n    <a href=\"Rockets_SpaceX.html#Falcon-9\"><img src=\"Diagrams/R/Space-X_Falcon-9_v1_1.jpg\" width=\"40\" height=\"320\" alt=\"Falcon 9 version 1.1 illustration\" /></a>\\r\\n    <a href=\"Rockets_SpaceX.html#Falcon-9\"><img src=\"Diagrams/R/Falcon-9_v1_1_Dragon.png\" width=\"40\" height=\"300\" alt=\"Falcon 9 1.1 with Dragon illustration\" /></a>\\r\\n    <a href=\"Rockets_SpaceX.html#Falcon-9\"><img src=\"Diagrams/R/Falcon-9_FT_Fairing.png\" width=\"40\" height=\"330\" alt=\"Falcon 9 FT with payload fairing\" /></a> \\r\\n    <a href=\"Rockets_SpaceX.html#Falcon-9\"><img src=\"Diagrams/R/Falcon-9_FT_Dragon.png\" width=\"40\" height=\"300\" alt=\"Falcon 9 FT with Dragon illustration\" /></a>\\r\\n    <a href=\"Rockets_SpaceX.html#Falcon-9\"><img src=\"Diagrams/R/Falcon-9_B5_Fairing.png\" width=\"40\" height=\"330\" alt=\"Falcon 9 Block 5 with payload fairing\" /></a> \\r\\n    <a href=\"Rockets_SpaceX.html#Falcon-9\"><img src=\"Diagrams/R/Falcon-9_B5_Crew_Dragon.png\" width=\"40\" height=\"310\" alt=\"Falcon 9 Block 5 with Crew Dragon spacecraft\" /></a> \\r\\n    <a href=\"Rockets_SpaceX.html#Falcon-Heavy\"><img src=\"Diagrams/R/Falcon-Heavy_Fairing.png\" width=\"80\" height=\"330\" alt=\"Falcon Heavy illustration\" /></a>\\r\\n    <img src=\"Diagrams/R/1.8_Meter_Human.jpg\" width=\"10\" height=\"10\" alt=\"1.8 Meter Human Figure\" /> \\r\\n    <a href=\"Rockets_SpaceX.html#Falcon-9\"><img src=\"Diagrams/R/Falcon-9_Grasshopper.png\" width=\"80\" height=\"170\" alt=\"Falcon 9 Grasshopper test vehicle\" /></a>\\r\\n    <a href=\"Rockets_SpaceX.html#Falcon-9\"><img src=\"Diagrams/R/Falcon-9_R.png\" width=\"100\" height=\"250\" alt=\"Falcon 9R test vehicle\" /></a>\\r\\n    <a href=\"Rockets_SpaceX.html#Falcon-9\"><img src=\"Diagrams/R/Falcon-9_FT_Recovered.png\" width=\"100\" height=\"250\" alt=\"Recovered Falcon 9 FT artwork\" /></a>\\r\\n\\r\\n\\t<p><b>Left to right:</b> \\r\\n    <a href=\"Rockets_SpaceX.html#Falcon-1\">Falcon 1</a>, \\r\\n    <a href=\"Rockets_SpaceX.html#Falcon-9\">Falcon 9</a>,\\r\\n    <a href=\"Rockets_SpaceX.html#Falcon-9\">Falcon 9 v1.1</a>,\\r\\n    <a href=\"Rockets_SpaceX.html#Falcon-9\">Falcon 9 v1.1 with Dragon</a>,\\r\\n    <a href=\"Rockets_SpaceX.html#Falcon-9\">Falcon 9 FT with payload fairing</a>,\\r\\n    <a href=\"Rockets_SpaceX.html#Falcon-9\">Falcon 9 FT with Dragon</a>,\\r\\n    <a href=\"Rockets_SpaceX.html#Falcon-9\">Falcon 9 Block-5 with payload fairing</a>,\\r\\n    <a href=\"Rockets_SpaceX.html#Falcon-9\">Falcon 9 Block-5 with Crew Dragon</a>,\\r\\n    <a href=\"Rockets_SpaceX.html#Falcon-Heavy\">Falcon Heavy</a>, Human figure for scale (1.8m tall),\\r\\n    <a href=\"Rockets_SpaceX.html#Falcon-9\">Grasshopper test vehicle</a>,\\r\\n    <a href=\"Rockets_SpaceX.html#Falcon-9\">Falcon 9R test vehicle</a>,\\r\\n    <a href=\"Rockets_SpaceX.html#Falcon-9\">Falcon 9 FT recovered stage</a>. </p> \\r\\n</article>\\r\\n\\r\\n\\r\\n<article>\\r\\n    <img  class=\"floatleft\" src=\"Diagrams/R/Space-X_Falcon-1.jpg\" width=\"30\" height=\"105\" alt=\"Space X Falcon 1 illustration\" />\\r\\n   <div style=\"margin-left:60px\">\\r\\n  <h2 id=\"Falcon-1\">Falcon 1</h2>\\r\\n\\t<p>The two-stage Falcon 1 rocket used RP-1 and LOX as propellants.  A single Merlin engine powered the first stage, while a Kestral engine powered the second stage.  Both engines were designed and built by SpaceX.</p>\\r\\n\\t<p>Five Falcon 1 rockets were launched between 2006 and 2009.  The first three flights ended in failure, while the last two were successful.  All flights were launched from Kwajalein Atoll in the Pacific Ocean.</p>\\r\\n\\t</div><div class=\"spacer\"></div>\\r\\n</article>\\r\\n\\r\\n<article>\\r\\n    <img  class=\"floatleft\" src=\"Diagrams/R/Space-X_Falcon-9_Dragon_COTS2.jpg\" width=\"30\" height=\"228\" alt=\"Space X Falcon 9 illustration\" />\\r\\n    <img  class=\"floatright\" src=\"Diagrams/R/Space-X_Falcon-9_v1_1.jpg\" width=\"40\" height=\"320\" alt=\"Space X Falcon 9 version 1.1 illustration\" />\\r\\n   <div style=\"margin-left:60px\">\\r\\n  <h2 id=\"Falcon-9\">Falcon 9</h2>\\r\\n\\t<p>Falcon 9 is a two stage space launch vehicle developed by SpaceX.  Both stages are fueled with RP-1 kerosene and liquid oxygen.  \\r\\n\\t\\tThe first stage is propelled by nine Merlin engines, while the second stage uses a single Merlin engine modified for use in the upper stage.</p>\\r\\n\\t<p>SpaceX builds both stages in-house at their production facility in Hawthorne, California.  \\r\\n\\t\\tStages are test-fired at a facility near McGregor, Texas, before shipping to Cape Canaveral or Vandenberg Air Force base for launch.</p>\\r\\n\\t<p>The first Falcon 9 orbital mission was flown in June 2010.</p>\\r\\n\\t<p>SpaceX is developing technology to allow reuse of Falcon rocket first stages.</p>\\r\\n\\t\\r\\n  <h3>Falcon 9 v1.1</h3>\\r\\n\\t<p>First flown in September, 2013, The Falcon 9 version 1.1 (right) featured significantly improved performance.  \\r\\n\\t\\tUpgrades included lengthened propellant tanks, upgraded engines, and a new thrust structure.\\r\\n\\t\\tThe first stage was designed to perform a controlled reentry and propulsive landing after completing its mission.</p>\\r\\n\\t<p>The first stage rocket arrangement changed from a three-by-three grid layout to a circular layout of eight engines surrounding a center engine.</p>\\r\\n\\t<p>Fifteen Falcon 9 1.1 rockets flew before beign replaced by the improved Falcon 9 FT.</p>\\r\\n\\t\\r\\n  <h3>Falcon 9 FT</h3>\\r\\n\\t<p>The Falcon 9 FT, sometimes referred to as \"Full Thrust\" or version 1.2, was first flown in December 2015.  \\r\\n\\t\\tFuel capacity was increased through the use of densified propellants and a slightly stretched second stage.   \\r\\n\\t\\tThe upgrade also incorporated uprated engines and improved landing legs.</p>\\r\\n\\r\\n  <h3>Falcon 9 Block-5</h3>\\r\\n\\t<p>First flown in May, 2018, the Falcon 9 Block-5 incorporated modifications allowing more easier re-use of the first stage.</p>\\r\\n\\t\\t\\r\\n  <h3>Falcon 9 First Stage Recovery Testing</h3>\\r\\n    <figure class=\"right\" style=\"width:302px;\"> <a href=\"Diagrams/R/Falcon-9_Reuse_RK2016_800x800.png\"><img src=\"Diagrams/R/Falcon-9_Reuse_RK2016_300x300.png\" width=\"300\" height=\"300\" alt=\"Falcon 9 First Stage Landing Tests.\"/></a> <figcaption><b>First Stage Recovery Tests</b><br />Left to right, Grasshopper, Falcon 9R, Falcon 9FT launch configuration and after recovery.<br />(<a href=\"Diagrams/R/Falcon-9_Reuse_RK2016_800x800.png\">View Larger Version</a>)</figcaption></figure>\\r\\n\\t<p>SpaceX has always believed rocket reuse was important for achieving their future goals.  \\r\\n\\t\\tWhen experiments using parachute aided recovery, conducted on early Falcon missions, \\r\\n\\t\\twere not successful, plans were made to investigate propulsive landing.</p>\\r\\n\\t<p>To conduct propulsive landing experiments, a pair of test vehicles, known as <b>Grasshopper</b> and <b>Falcon 9R</b> \\r\\n\\t\\twhere built and tested at the SpaceX facility in McGregor Texas.</p> \\r\\n\\t<p>The first successful stage recovery, on an operational mission, occurred in December 2015 at Cape Canaveral Air Force Station.</p>\\r\\n\\r\\n  <h4>Boost Back Burn</h4>\\r\\n\\t<p>On missions attempting to return to launch site, a boost back burn is performed. \\r\\n\\t\\tAfter stage separation, the first stage uses gas jets to flip over, orienting itself toward its landing site.  \\r\\n\\t\\tA main engine burn is conducted to cancel the downrange momentum and propel the rocket toward the planned landing site.</p>\\r\\n\\r\\n  <h4>Reentry Burn</h4>\\r\\n\\t<p>As the rocket falls toward the atmosphere, the stage reorientates itself to point its engines into the direction of flight.  \\r\\n\\t\\tA burn is conducted to slow the rockets descent, reducing atmospheric heating.  \\r\\n\\t\\tAs denser atmosphere is encountered, four grid fins, located on the interstage, help control the rockets attitude and trajectory.</p>\\r\\n\\r\\n  <h4>Landing Burn</h4>\\r\\n\\t<p>The rocket is in free-fall for most of the descent through the atmosphere.  \\r\\n\\t\\tAs the landing site is neared, a final burn is initiated to slow the rocket.  \\r\\n\\t\\tSeconds before touchdown, four landing legs are deployed.</p>\\r\\n\\r\\n  <h4>Landing Sites</h4>\\r\\n\\t<p>When fuel margins are sufficient, a boost-back burn and return to launch site landing is possible.  \\r\\n\\t\\tHowever some missions, such as those launching heavy GTO payloads, may have insufficient fuel margins to conduct the boost-back burn.  \\r\\n\\t\\tIn these cases, recovery may be accomplished downrange by landing on specially constructed drone ships at sea.</p>\\r\\n\\t<p>Early landing experiments, with operational boosters, occurred at sea.  Either over open ocean, or on drone ships.  \\r\\n\\t\\tThe first successful landing occurred on land at Landing Zone 1 at Cape Canaveral.</p>\\r\\n\\t<p>The East coast drone ship, servicing missions launched from Cape Canaveral Air Force Station and Kennedy Space Center, is named \"Of Course I Still Love You\".</p>\\r\\n\\t<p>On the West coast, \"Just Read The Instructions\" supports mission lunched from Vandenberg Air Force Base.</p>\\r\\n\\r\\n  \\t<div class=\"picture right\" style=\"width:302px;\"> <img src=\"Diagrams/S/Dragon_Spacecraft_300x130.jpg\" width=\"300\" height=\"130\" alt=\"SpaceX Dragon Capsule\" /> <br /><b>SpaceX Dragon Spacecraft</b></div>\\r\\n  <h3>Dragon Spacecraft</h3>\\r\\n\\t<p>A frequent payload for Falcon 9 is the Dragon spacecraft.  \\r\\n\\t\\tDeveloped in conjunction with NASA\\'s <b>Commercial Orbital Transportation Services (COTS)</b> program, \\r\\n\\t\\tthe Dragon capsule is capable of carrying both pressurized and unpressurized cargo to the International Space Station.  \\r\\n\\t\\tAt the end of each mission, the spacecraft can return pressurized cargo back to Earth.</p>\\r\\n\\t<div class=\"spacer\"><br /><br /></div>\\r\\n\\r\\n  \\t<div class=\"picture right\" style=\"width:302px;\"> <img src=\"Diagrams/S/Crew_Dragon_Spacecraft_300x150.png\" width=\"300\" height=\"150\" alt=\"SpaceX Crew Dragon Capsule\" /> <br /><b>SpaceX Crew Dragon Spacecraft</b></div>\\r\\n  <h3>Crew Dragon Spacecraft</h3>\\r\\n  <p>Crew Dragon was developed as part of NASA\\'s <b>Commercial Crew Development (CCDev)</b> program and is used to transport astronauts to the International Space Station.</p>\\r\\n  <p>An orbital test flight, including docking at the ISS, was successfully completed in March, 2019.  \\r\\n      The first crewed mission to the ISS, SpX-DM2, was launched in May, 2020.</p>\\r\\n\\t\\t\\r\\n\\t<div class=\"spacer\"><br /><br /></div>\\r\\n  <table class=\"missiondatachart\">\\t\\r\\n    <caption>SpaceX Falcon 9 Launches</caption>\\t\\t\\r\\n    <tr class=\"hd\"><td>Flight</td><td>Launch<br />Date</td><td>Launch<br />Site</td><td>Ver.</td><td>Primary<br />Payload</td><td>Mission</td><td>Launcher Results</td></tr>\\r\\n    <tr><td>93</td> <td>3 Sept 2020</td> <td>KSC LC-39A</td> <td>B5</td><td>Starlink</td><td>Launch of 60 Starlink comsats.</td><td>Success</td></tr>\\r\\n    <tr><td>92</td> <td>30 Aug 2020</td> <td>CCAFS SLC-40</td> <td>B5</td><td>SAOCOM 1B</td><td>Launch of Argentine<br />Earth observation satellite.</td><td>Success</td></tr>\\r\\n    <tr><td>91</td> <td>18 Aug 2020</td> <td>CCAFS SLC-40</td> <td>B5</td><td>Starlink</td><td>Launch of 58 Starlink comsats<br /> and secondary payloads.</td><td>Success</td></tr>\\r\\n    <tr><td>90</td> <td>7 Aug 2020</td> <td>KSC LC-39A</td> <td>B5</td><td>Starlink</td><td>Launch of 57 Starlink comsats<br /> and secondary payloads.</td><td>Success</td></tr>\\r\\n\\r\\n    <tr><td>89</td> <td>20 July 2020</td> <td>CCAFS SLC-40</td> <td>B5</td><td>ANASIS-II</td><td>Launch of South Korean<br />military satellite.</td><td>Success</td></tr>\\r\\n    <tr><td>88</td> <td>30 June 2020</td> <td>CCAFS SLC-40</td> <td>B5</td><td>GPS III</td><td>GPS satellite deployment.</td><td>Success</td></tr>\\r\\n    <tr><td>87</td> <td>13 June 2020</td> <td>CCAFS SLC-40</td> <td>B5</td><td>Starlink</td><td>Launch of 58 Starlink comsats<br /> and secondary payloads.</td><td>Success</td></tr>\\r\\n    <tr><td>86</td> <td>3 June 2020</td> <td>CCAFS SLC-40</td> <td>B5</td><td>Starlink</td><td>Launch of 60 Starlink comsats.</td><td>Success</td></tr>\\r\\n    <tr><td>85</td> <td>30 May 2020</td> <td>KSC LC-39A</td> <td>B5</td><td>Crew Dragon</td><td><b>SpX-DM2</b>, First crewed test flight of Dragon 2.</td><td>Success</td></tr>\\r\\n    <tr><td>84</td> <td>22 Apr 2020</td> <td>KSC LC-39A</td> <td>B5</td><td>Starlink</td><td>Launch of 60 Starlink comsats.</td><td>Success</td></tr>\\r\\n    <tr><td>83</td> <td>18 Mar 2020</td> <td>KSC LC-39A</td> <td>B5</td><td>Starlink</td><td>Launch of 60 Starlink comsats.</td><td>Success</td></tr>\\r\\n    <tr><td>82</td> <td>7 Mar 2020</td> <td>CCAFS SLC-40</td> <td>B5</td><td>Dragon</td><td><b>CRS-20</b>, Resupply of ISS.</td><td>Success</td></tr>\\r\\n    <tr><td>81</td> <td>17 Feb 2020</td> <td>CCAFS SLC-40</td> <td>B5</td><td>Starlink</td><td>Launch of 60 Starlink comsats.</td><td>Success</td></tr>\\r\\n    <tr><td>80</td> <td>29 Jan 2020</td> <td>CCAFS SLC-40</td> <td>B5</td><td>Starlink</td><td>Launch of 60 Starlink comsats.</td><td>Success</td></tr>\\r\\n    <tr><td>79</td> <td>19 Jan 2020</td> <td>KSC LC-39A</td> <td>B5</td><td>Crew Dragon</td><td>In-flight abort test.</br>Suborbital.</td><td>Success</td></tr>\\r\\n    <tr><td>78</td> <td>7 Jan 2020</td> <td>CCAFS SLC-40</td> <td>B5</td><td>Starlink</td><td>Launch of 60 Starlink comsats.</td><td>Success</td></tr>\\r\\n\\r\\n    <tr><td>77</td> <td>17 Dec 2019</td> <td>CCAFS SLC-40</td> <td>B5</td><td>JCSat-18 / Kacific 1</td><td>GTO mission.</td><td>Success</td></tr>\\r\\n    <tr><td>76</td> <td>5 Dec 2019</td> <td>CCAFS SLC-40</td> <td>B5</td><td>Dragon</td><td><b>CRS-19</b>, Resupply of ISS.</td><td>Success</td></tr>\\r\\n    <tr><td>75</td> <td>11 Nov 2019</td> <td>CCAFS SLC-40</td> <td>B5</td><td>Starlink</td><td>Launch of 60 Starlink comsats.</td><td>Success</td></tr>\\r\\n    <tr><td>74</td> <td>6 Aug 2019</td> <td>CCAFS SLC-40</td> <td>B5</td><td>AMOS-17</td><td>GTO mission.</td><td>Success</td></tr>\\r\\n    <tr><td>73</td> <td>25 Jul 2019</td> <td>CCAFS SLC-40</td> <td>B5</td><td>Dragon</td><td><b>CRS-18</b>, Resupply of ISS.</td><td>Success</td></tr>\\r\\n\\r\\n    <tr><td>72</td> <td>12 Jun 2019</td> <td>VAFB SLC-4E</td> <td>B5</td><td>RADARSAT</td><td>Launch of 3 satellites.</td><td>Success</td></tr>\\r\\n    <tr><td>71</td> <td>24 May 2019</td> <td>CCAFS SLC-40</td> <td>B5</td><td>Starlink</td><td>Launch of 60 Starlink comsats.</td><td>Success</td></tr>\\r\\n    <tr><td>70</td> <td>4 May 2019</td> <td>CCAFS SLC-40</td> <td>B5</td><td>Dragon</td><td><b>CRS-17</b>, Resupply of ISS.</td><td>Success</td></tr>\\r\\n    <tr><td>69</td> <td>2 Mar 2019</td> <td>KSC LC-39A</td> <td>B5</td><td>Crew Dragon</td><td><b>SpX-DM1</b>, Test flight of crew capsule.</td><td>Success</td></tr>\\r\\n    <tr><td>68</td> <td>22 Feb 2019</td> <td>CCAFS SLC-40</td> <td>B5</td><td>Nusantara Satu<br />Beresheet</td><td>Launch of Indonesian comsat<br /> and a Moon lander.</td><td>Success</td></tr>\\r\\n    <tr><td>67</td> <td>11 Jan 2019</td> <td>VAFB SLC-4E</td> <td>B5</td><td>Iridium NEXT</td><td>Launch of 10 Iridium comsats.</td><td>Success</td></tr>\\r\\n    <tr><td>66</td> <td>23 Dec 2018</td> <td>CCAFS SLC-40</td> <td>B5</td><td>GPS III</td><td>GPS satellite deployment.</td><td>Success</td></tr>\\r\\n    <tr><td>65</td> <td>5 Dec 2018</td> <td>CCAFS SLC-40</td> <td>B5</td><td>Dragon</td><td><b>CRS-16</b>, Resupply of ISS.</td><td>Success</td></tr>\\r\\n    <tr><td>64</td> <td>3 Dec 2018</td> <td>VAFB SLC-4E</td> <td>B5</td><td>SSO-A (SmallSat Express)</td><td>Deployment of 64 small satellites.</td><td>Success</td></tr>\\r\\n    <tr><td>63</td> <td>15 Nov 2018</td> <td>KSC LC-39A</td> <td>B5</td><td>Es\\'hail 2</td><td>GTO mission.</td><td>Success</td></tr>\\r\\n    <tr><td>62</td> <td>7 Oct 2018</td> <td>VAFB SLC-4E</td> <td>B5</td><td>SAOCOM 1A</td><td>SSO mission.</td><td>Success</td></tr>\\r\\n    <tr><td>61</td> <td>10 Sep 2018</td> <td>CCAFS SLC-40</td> <td>B5</td><td>Telstar 18V</td><td>GTO mission.</td><td>Success</td></tr>\\r\\n    <tr><td>60</td> <td>7 Aug 2018</td> <td>CCAFS SLC-40</td> <td>B5</td><td>Merah Putih</td><td>GTO mission.</td><td>Success</td></tr>\\r\\n    <tr><td>59</td> <td>25 Jul 2018</td>  <td>VAFB SLC-4E</td>  <td>B5</td><td>Iridium NEXT</td><td>Launch of 10 Iridium comsats.</td><td>Success</td></tr>\\r\\n    <tr><td>58</td> <td>22 Jul 2018</td> <td>CCAFS SLC-40</td> <td>B5</td><td>Telstar 19V</td><td>GTO mission.</td><td>Success</td></tr>\\r\\n    <tr><td>57</td> <td>29 Jun 2018</td> <td>CCAFS SLC-40</td> <td>FT</td><td>Dragon</td><td><b>CRS-15</b>, Resupply of ISS.</td><td>Success</td></tr>\\r\\n    <tr><td>56</td> <td>4 Jun 2018</td>  <td>CCAFS SLC-40</td> <td>FT</td><td>SES-12</td><td>GTO mission.</td><td>Success</td></tr>\\r\\n    <tr><td>55</td> <td>22 May 2018</td>  <td>VAFB SLC-4E</td>  <td>FT</td><td>Iridium NEXT<br />GRACE-FO</td><td>Launch of five Iridium comsats and <br /> and two GRACE satellites.</td><td>Success</td></tr>\\r\\n\\t\\t<tr><td>54</td> <td>11 May 2018</td>  <td>KSC LC-39A</td> <td>B5</td><td>Bangabandhu-1</td><td>GTO mission.</td><td>Success</td></tr>\\r\\n    <tr><td>53</td> <td>18 Apr 2018</td>  <td>CCAFS SLC-40</td> <td>FT</td><td>TESS</td><td>Launch of exoplanet survey satellite.</td><td>Success</td></tr>\\r\\n\\t\\t<tr><td>52</td> <td>2 Apr 2018</td>  <td>CCAFS SLC-40</td> <td>FT</td><td>Dragon</td><td><b>CRS-14</b>, Resupply of ISS.</td><td>Success</td></tr>\\r\\n    <tr><td>51</td> <td>30 Mar 2018</td>  <td>VAFB SLC-4E</td> <td>FT</td><td>Iridium NEXT</td><td>Launch of ten Iridium comsats.</td><td>Success</td></tr>\\r\\n    <tr><td>50</td> <td>6 Mar 2018</td>  <td>CCAFS SLC-40</td> <td>FT</td><td>Hispasat 30W-6</td><td>GTO mission.</td><td>Success</td></tr>\\r\\n    <tr><td>49</td> <td>22 Feb 2018</td>  <td>VAFB SLC-4E</td> <td>FT</td><td>Paz / Tintin A & B</td><td>LEO mission.</td><td>Success</td></tr>\\r\\n    <tr><td>48</td> <td>31 Jan 2018</td>  <td>CCAFS SLC-40</td> <td>FT</td><td>GovSat-1 / SES-16</td><td>GTO mission.</td><td>Success</td></tr>\\r\\n    <tr><td>47</td> <td>8 Jan 2018</td>  <td>CCAFS SLC-40</td> <td>FT</td><td>Zuma</td><td>Classified mission.</td><td>Success</td></tr>\\r\\n    <tr><td>46</td> <td>23 Dec 2017</td>  <td>VAFB SLC-4E</td> <td>FT</td><td>Iridium NEXT</td><td>Launch of ten Iridium comsats.</td><td>Success</td></tr>\\r\\n    <tr><td>45</td> <td>15 Dec 2017</td>  <td>CCAFS SLC-40</td> <td>FT</td><td>Dragon</td><td><b>CRS-13</b>, Resupply of ISS.</td><td>Success</td></tr>\\r\\n    <tr><td>44</td> <td>30 Oct 2017</td>  <td>KSC LC-39A</td> <td>FT</td><td>Koreasat 5A</td><td>GTO mission.</td><td>Success</td></tr>\\r\\n    <tr><td>43</td> <td>11 Oct 2017</td>  <td>KSC LC-39A</td> <td>FT</td><td>SES-11 / EchoStar 105</td><td>GTO mission.</td><td>Success</td></tr>\\r\\n    <tr><td>42</td> <td>9 Oct 2017</td>  <td>VAFB SLC-4E</td> <td>FT</td><td>Iridium NEXT</td><td>Launch of ten Iridium comsats.</td><td>Success</td></tr>\\r\\n    <tr><td>41</td> <td>7 Sep 2017</td>  <td>KSC LC-39A</td> <td>FT</td><td>X-37B</td><td>Launch of OTV-5.</td><td>Success</td></tr>\\r\\n    <tr><td>40</td> <td>24 Aug 2017</td>  <td>VAFB SLC-4E</td> <td>FT</td><td>FORMOSAT-5</td><td>Launch of remote sensing satellite.</td><td>Success</td></tr>\\r\\n    <tr><td>39</td> <td>14 Aug 2017</td>  <td>KSC LC-39A</td> <td>FT</td><td>Dragon</td><td><b>CRS-12</b>, Resupply of ISS.</td><td>Success</td></tr>\\r\\n    <tr><td>38</td> <td>5 Jul 2017</td>  <td>KSC LC-39A</td> <td>FT</td><td>Intelsat 35e</td><td>GTO mission.</td><td>Success</td></tr>\\r\\n    <tr><td>37</td> <td>25 Jun 2017</td>  <td>VAFB SLC-4E</td> <td>FT</td><td>Iridium NEXT</td><td>Launch of ten Iridium comsats.</td><td>Success</td></tr>\\r\\n    <tr><td>36</td> <td>23 Jun 2017</td>  <td>KSC LC-39A</td> <td>FT</td><td>BulgariaSat-1</td><td>GTO mission.</td><td>Success</td></tr>\\r\\n    <tr><td>35</td> <td>3 Jun 2017</td>  <td>KSC LC-39A</td> <td>FT</td><td>Dragon</td><td><b>CRS-11</b>, Resupply of ISS.</td><td>Success</td></tr>\\r\\n    <tr><td>34</td> <td>15 May 2017</td> <td>KSC LC-39A</td> <td>FT</td><td>Inmarsat-5 F4</td><td>GTO mission.</td><td>Success</td></tr>\\r\\n    <tr><td>33</td> <td>1 May 2017</td>  <td>KSC LC-39A</td> <td>FT</td><td>NROL-76</td><td>Classified NRO mission.</td><td>Success</td></tr>\\r\\n    <tr><td>32</td> <td>30 Mar 2017</td> <td>KSC LC-39A</td> <td>FT</td><td>SES-10</td><td>GTO mission.</td><td>Success</td></tr>\\r\\n    <tr><td>31</td> <td>16 Mar 2017</td> <td>KSC LC-39A</td> <td>FT</td><td>EchoStar 23</td><td>GTO mission.</td><td>Success</td></tr>\\r\\n    <tr><td>30</td> <td>19 Feb 2017</td> <td>KSC LC-39A</td> <td>FT</td><td>Dragon</td><td><b>CRS-10</b>, Resupply of ISS.</td><td>Success</td></tr>\\r\\n    <tr><td>29</td> <td>14 Jan 2017</td> <td>VAFB SLC-4E</td> <td>FT</td><td>Iridium NEXT</td><td>Launch of ten Iridium comsats.</td><td>Success</td></tr>\\r\\n    <tr><td>--</td> <td>-----------</td> <td>CCAFS SLC-40</td> <td>FT</td><td>Amos-6</td><td>GTO mission.</td><td>Failure during pre-flight<br />testing on 1 Sep 2016.</td></tr>\\r\\n    <tr><td>28</td> <td>14 Aug 2016</td> <td>CCAFS SLC-40</td> <td>FT</td><td>JCSAT-16</td><td>GTO mission.</td><td>Success</td></tr>\\r\\n    <tr><td>27</td> <td>18 Jul 2016</td> <td>CCAFS SLC-40</td> <td>FT</td><td>Dragon</td><td><b>CRS-9</b>, Resupply of ISS.</td><td>Success</td></tr>\\r\\n    <tr><td>26</td> <td>15 Jun 2016</td> <td>CCAFS SLC-40</td> <td>FT</td><td>ABS-2A<br />Eutelsat 117</td><td>GTO mission.</td><td>Success</td></tr>\\r\\n    <tr><td>25</td> <td>27 May 2016</td> <td>CCAFS SLC-40</td> <td>FT</td><td>Thaicom-8</td><td>GTO mission.</td><td>Success</td></tr>\\r\\n    <tr><td>24</td> <td>6 May 2016</td>  <td>CCAFS SLC-40</td> <td>FT</td><td>JCSAT-14</td><td>GTO mission.</td><td>Success</td></tr>\\r\\n    <tr><td>23</td> <td>8 Apr 2016</td>  <td>CCAFS SLC-40</td> <td>FT</td><td>Dragon</td><td><b>CRS-8</b>, Resupply of ISS.</td><td>Success</td></tr>\\r\\n    <tr><td>22</td> <td>4 Mar 2016</td>  <td>CCAFS SLC-40</td> <td>FT</td><td>SES-9</td><td>GTO mission.</td><td>Success</td></tr>\\r\\n    <tr><td>21</td> <td>17 Jan 2016</td> <td>VAFB SLC-4E</td> <td>1.1</td><td>Jason-3</td><td>Launch of LEO Earth observation spacecraft.</td><td>Success</td></tr>\\r\\n    <tr><td>20</td> <td>21 Dec 2015</td> <td>CCAFS SLC-40</td> <td>FT</td><td>OG2 (11)</td><td>Launch of eleven ORBCOMM comsats.<br />First stage landed successfully at CCAFS.</td><td>Success</td></tr>\\r\\n    <tr><td>19</td> <td>28 Jun 2015</td> <td>CCAFS SLC-40</td> <td>1.1</td><td>Dragon</td><td><b>CRS-7</b>, Attempted ISS resupply mission.</td><td>Launch vehicle failure.</td></tr>\\r\\n    <tr><td>18</td> <td>27 Apr 2015</td> <td>CCAFS SLC-40</td> <td>1.1</td><td>TurkmenAlem 52E</td><td>GTO mission.</td><td>Success</td></tr>\\r\\n    <tr><td>17</td> <td>14 Apr 2015</td> <td>CCAFS SLC-40</td> <td>1.1</td><td>Dragon</td><td><b>CRS-6</b>, Resupply of ISS.</td><td>Success</td></tr>\\r\\n    <tr><td>16</td> <td>1 Mar 2015</td>  <td>CCAFS SLC-40</td> <td>1.1</td><td>ABS-3A<br />Eutelsat 115</td><td>Launch of two communication<br />satellites to GTO.</td><td>Success</td></tr>\\r\\n\\t\\t<tr><td>15</td> <td>11 Feb 2015</td> <td>CCAFS SLC-40</td> <td>1.1</td><td>DSCOVR</td><td>Launch of the Deep Space Climate Observatory.</td><td>Success</td></tr>\\r\\n    <tr><td>14</td> <td>10 Jan 2015</td> <td>CCAFS SLC-40</td> <td>1.1</td><td>Dragon</td><td><b>CRS-5</b>, Resupply of ISS.</td><td>Success</td></tr>\\r\\n    <tr><td>13</td> <td>21 Sep 2014</td> <td>CCAFS SLC-40</td> <td>1.1</td><td>Dragon</td><td><b>CRS-4</b>, Resupply of ISS.</td><td>Success</td></tr>\\r\\n    <tr><td>12</td> <td>7 Sep 2014</td>  <td>CCAFS SLC-40</td> <td>1.1</td><td>AsiaSat 6</td><td><b></b>GTO mission.</td><td>Success</td></tr>\\r\\n    <tr><td>11</td> <td>5 Aug 2014</td>  <td>CCAFS SLC-40</td> <td>1.1</td><td>AsiaSat 8</td><td><b></b>GTO mission.</td><td>Success</td></tr>\\r\\n    <tr><td>10</td> <td>14 Jul 2014</td> <td>CCAFS SLC-40</td> <td>1.1</td><td>OG2 (6)</td><td>Launch of six ORBCOMM communication<br />satellites to LEO.</td><td>Success</td></tr>\\r\\n    <tr><td>9</td> <td>18 Apr 2014</td>  <td>CCAFS SLC-40</td> <td>1.1</td><td>Dragon</td><td><b>CRS-3</b>, Resupply of ISS.</td><td>Success</td></tr>\\r\\n    <tr><td>8</td> <td>6 Jan 2014</td>   <td>CCAFS SLC-40</td> <td>1.1</td><td>Thaicom-6</td><td>GTO mission.</td><td>Success</td></tr>\\r\\n    <tr><td>7</td> <td>3 Dec 2013</td>   <td>CCAFS SLC-40</td> <td>1.1</td><td>SES-8</td><td>First GTO mission for SpaceX.</td><td>Success</td></tr>\\r\\n    <tr><td>6</td> <td>29 Sep 2013</td>  <td>VAFB SLC-4E</td> <td>1.1</td><td>CASSIOPE</td><td>First flight of version 1.1 rocket.</td><td>Success</td></tr>\\r\\n    <tr><td>5</td> <td>1 Mar 2013</td>   <td>CCAFS SLC-40</td>  <td>1.0</td><td>Dragon</td><td><b>CRS-2</b>, Resupply of ISS.</td><td>Success</td></tr>\\r\\n    <tr><td>4</td> <td>7 Oct 2012</td>   <td>CCAFS SLC-40</td> <td>1.0</td><td>Dragon</td><td><b>CRS-1</b>, Resupply of ISS.</td><td>Success</td></tr>\\r\\n    <tr><td>3</td> <td>22 May 2012</td>  <td>CCAFS SLC-40</td> <td>1.0</td><td>Dragon</td><td><b>COTS-2+</b>, First Dragon berthing with ISS.</td><td>Success</td></tr>\\r\\n    <tr><td>2</td> <td>8 Dec 2010</td>   <td>CCAFS SLC-40</td> <td>1.0</td><td>Dragon</td><td><b>COTS-1</b>,  First flight of Dragon Capsule.</td><td>Success</td></tr>\\r\\n    <tr><td>1</td> <td>4 Jun 2010</td>  <td>CCAFS SLC-40</td> <td>1.0</td><td>---</td><td>Test flight of Falcon 9 rocket.</td><td>Success</td></tr>\\r\\n  </table><br />\\r\\n  <p><b>NOTES:</b><br/> CCAFS SLC-40 = Cape Canaveral Air Force Station, Space Launch Complex 40.<br/> VAFB SLC-4E = Vandenberg Air Force Base, Space Launch Complex 4E.<br/>  KSC LC-39A = Kennedy Space Center, Space Launch Complex 39A.</p>\\r\\n  <p>For more information about Falcon 9 and Dragon, visit the <a href=\"http://www.spacex.com\">SpaceX website</a>.</p>\\r\\n\\t</div><div class=\"spacer\"></div>\\r\\n</article>\\r\\n\\r\\n<article>\\r\\n    <img  class=\"floatleft\" src=\"Diagrams/R/Falcon-Heavy_Fairing.png\" width=\"80\" height=\"330\" alt=\"SpaceX Falcon Heavy illustration\" />\\r\\n   <div style=\"margin-left:60px\">\\r\\n  <h2 id=\"Falcon-Heavy\">Falcon Heavy</h2>\\r\\n\\t\\r\\n\\t \\t <div class=\"picture right\" style=\"width:202px;\"> \\r\\n\\t\\t\\t<a href=\"Diagrams/R/Falcon-Heavy_and_Shuttle_RK2018.png\">\\r\\n\\t\\t\\t<img src=\"Diagrams/R/Falcon-Heavy_and_Shuttle_RK2018_Small.png\"  alt=\"Illustration showing comparison of Falcon Heavy and Space Shuttle.\" height=\"371\" width=\"200\"  /></a>\\r\\n\\t\\t\\t<br />SpaceX Falcon Heavy and Space Shuttle comparison.<br />\\r\\n\\t\\t\\t(<a href=\"Diagrams/R/Falcon-Heavy_and_Shuttle_RK2018.png\">View Larger Version</a>)\\r\\n\\t\\t\\t</div>\\t\\r\\n\\t\\r\\n\\t<p>The Falcon Heavy is a heavy-lift launch vehicle based on Falcon 9 technology. \\r\\n\\t\\tThe rocket features a modified Falcon 9 first stage, with two additional stages used as strap-on boosters.\\r\\n\\t\\tThe second stage and fairing is similar to those used on the existing Falcon 9.</p>\\r\\n\\t<p>For most payloads, the three booster stages will be recoverable.</p>\\r\\n  <h3>First Test Flight</h3>\\r\\n\\t<p>The first Falcon Heavy test flight was flown on 6 Feb 2018.  \\r\\n\\t\\tThe successful mission was launched from pad 39A at Kennedy Space Center and placed the payload, \\r\\n\\t\\ta Tesla roadster, into a heliocentric orbit with an aphelion beyond the orbit of Mars.\\r\\n\\t\\tAttempts were made to recover all three boosters.  Each of the side boosters returned to successful landings at Cape Canaveral.\\r\\n\\t\\tThe planned core stage landing, on a barge at sea, failed.\\r\\n\\t\\tBoth side boosters were making their 2nd flight, each having launched payloads on previous missions.</p>\\r\\n  <h3>Future Uses</h3>\\r\\n\\t<p>Future payloads may include large communications satellites, Department of Defense payloads, and interplanetary missions.</p>\\r\\n\\t</div><div class=\"spacer\"></div>\\r\\n</article>\\r\\n\\r\\n  \\r\\n<a href=\"https://creativecommons.org/licenses/by-nc/3.0/us/\"><img src=\"https://i.creativecommons.org/l/by-nc/3.0/us/88x31.png\" alt=\"Creative Commons License\" style=\"border-width:0\" /></a> Images by <a href=\"https://historicspacecraft.com/about.html#Image_Use\">Richard Kruse</a> are licensed under a <a href=\"https://creativecommons.org/licenses/by-nc/3.0/us/\">Creative Commons Attribution-Noncommercial 3.0 United States License</a>.\\r\\n\\r\\n\\r\\n\\r\\n\\r\\n\\r\\n</main>\\r\\n\\r\\n<div id=\"right_content\">\\r\\n\\r\\n<article style=\"padding:5px;\">\\r\\n\\r\\n<div class=\"share-buttons\">\\r\\n  <a href=\"https://www.facebook.com/sharer/sharer.php?u=&t=\" title=\"Share on Facebook\" target=\"_blank\" rel=\"noopener\" onclick=\"window.open(\\'https://www.facebook.com/sharer/sharer.php?u=\\' + encodeURIComponent(document.URL) + \\'&t=\\' + encodeURIComponent(document.URL)); return false;\">\\r\\n\\t\\t<img src=\"images/social/Facebook_icon.png\" width=\"31\" height=\"31\" alt=\"Facebook.\" />\\r\\n\\t</a>\\r\\n\\r\\n  <a href=\"https://twitter.com/intent/tweet?source=&text=:%20\" target=\"_blank\" rel=\"noopener\" title=\"Tweet\" onclick=\"window.open(\\'https://twitter.com/intent/tweet?text=\\' + encodeURIComponent(document.title) + \\':%20\\'  + encodeURIComponent(document.URL)); return false;\">\\r\\n\\t\\t<img src=\"images/social/Twitter_icon.png\" width=\"31\" height=\"31\" alt=\"Twitter.\" />\\r\\n\\t</a>\\r\\n\\r\\n  <a href=\"https://www.tumblr.com/share?v=3&u=&t=&s=\" target=\"_blank\" rel=\"noopener\" title=\"Post to Tumblr\" onclick=\"window.open(\\'https://www.tumblr.com/share?v=3&u=\\' + encodeURIComponent(document.URL) + \\'&t=\\' +  encodeURIComponent(document.title)); return false;\">\\r\\n\\t\\t<img src=\"images/social/Tumblr_icon.png\" width=\"31\" height=\"31\" alt=\"Tumblr.\" />\\r\\n\\t</a>\\r\\n\\t\\r\\n  <a href=\"https://pinterest.com/pin/create/link/?url=\" target=\"_blank\" rel=\"noopener\" title=\"Post to Pinterest\" onclick=\"window.open(\\'https://pinterest.com/pin/create/link/?url=\\' + encodeURIComponent(document.URL) + \\'&t=\\' +  encodeURIComponent(document.title)); return false;\">\\r\\n\\t\\t<img src=\"/images/social/Pinterest_icon.png\" width=\"31\" height=\"31\" alt=\"Pinterest.\" />\\r\\n\\t</a>\\r\\n\\t\\r\\n  <a href=\"https://www.reddit.com/submit?url=&title=\" target=\"_blank\" rel=\"noopener\" title=\"Submit to Reddit\" onclick=\"window.open(\\'https://www.reddit.com/submit?url=\\' + encodeURIComponent(document.URL) + \\'&title=\\' +  encodeURIComponent(document.title)); return false;\">\\r\\n\\t\\t<img src=\"images/social/Reddit_icon.png\" width=\"31\" height=\"31\" alt=\"Reddit.\" />\\r\\n\\t</a>\\r\\n\\r\\n\\t<a href=\"https://www.linkedin.com/shareArticle?mini=true&url=&title=&summary=&source=\" target=\"_blank\" rel=\"noopener\" title=\"Share on LinkedIn\" onclick=\"window.open(\\'https://www.linkedin.com/shareArticle?mini=true&url=\\' + encodeURIComponent(document.URL) + \\'&title=\\' +  encodeURIComponent(document.title)); return false;\">\\r\\n\\t\\t<img src=\"images/social/LinkedIn_icon.png\" width=\"31\" height=\"31\" alt=\"LinkedIn.\" />\\r\\n\\t</a>\\r\\n\\r\\n\\t<a href=\"https://wordpress.com/press-this.php?u=&t=&s=\" target=\"_blank\" rel=\"noopener\" title=\"Publish on WordPress\" onclick=\"window.open(\\'https://wordpress.com/press-this.php?u=\\' + encodeURIComponent(document.URL) + \\'&t=\\' +  encodeURIComponent(document.title)); return false;\">\\r\\n\\t\\t<img src=\"images/social/WordPress_icon.png\" width=\"31\" height=\"31\" alt=\"WordPress.\" />\\r\\n\\t</a>\\r\\n\\r\\n  <a href=\"mailto:?subject=&body=:%20\" target=\"_blank\" rel=\"noopener\" title=\"Send email\" onclick=\"window.open(\\'mailto:?subject=\\' + encodeURIComponent(document.title) + \\'&body=\\' +  encodeURIComponent(document.URL)); return false;\">\\r\\n\\t\\t<img src=\"images/social/Email_icon.png\" width=\"31\" height=\"31\" alt=\"Email.\" />\\r\\n\\t</a>\\r\\n</div>\\t\\r\\n\\r\\n\\t<br />\\r\\n\\t<a href=\"http://www.cafepress.com/historicspacecraftstore\"><img src=\"images/Historic_Spacecraft_Store_Button.jpg\" height=\"19\" width=\"128\" alt=\"Historic Spacecraft Store\" /></a>\\r\\n\\r\\n\\r\\n\\r\\n</article>\\r\\n\\r\\n<div id=\"right_side_stuff\"  class=\"content_box_right_side\">\\r\\n\\r\\n</div>\\r\\n\\r\\n<script type=\"text/javascript\">\\r\\n\\r\\nfunction ajaxGetJson() {\\r\\n\\tvar selection = \"https://historicspacecraft.com/JSON/right_side_\" + Math.floor(Math.random () * 12) + \".json\";\\t\\r\\n//\\tconsole.log(selection);\\r\\n    var myJsonData = new XMLHttpRequest();\\r\\n    myJsonData.open(\"GET\", selection, true);\\r\\n    myJsonData.onreadystatechange = function() {\\r\\n        if(myJsonData.readyState == 4 && myJsonData.status == 200) {\\r\\n            var myData = JSON.parse(myJsonData.responseText);\\r\\n//\\t\\t\\tconsole.log(\"Here: \" + myData);\\r\\n\\t\\t\\tdocument.getElementById(\"right_side_stuff\").innerHTML = myData[\"data\"];  \\r\\n        }\\r\\n    }\\r\\n    myJsonData.send(null);\\t\\r\\n}\\r\\n\\r\\najaxGetJson();\\r\\n\\r\\n\\r\\n</script>\\r\\n\\r\\n\\r\\n\\r\\n\\r\\n\\r\\n\\r\\n\\r\\n</div>\\r\\n\\r\\n</body>\\r\\n</html>\\r\\n\\r\\n\\r\\n\\r\\n'\n"
          ]
        }
      ]
    },
    {
      "cell_type": "markdown",
      "source": [
        "- The above code reads the HTML page."
      ],
      "metadata": {
        "id": "DGldlLwuF0A9"
      }
    },
    {
      "cell_type": "code",
      "source": [
        "#code block 3\n",
        "#apply beautifulsoap(used for web scraping) and split the text\n",
        "soup = BeautifulSoup(html,\"html5lib\") #\"html5lib\" parser is a robust parser that can handle poorly formatted HTML and produces a consistent and accurate representation of the document's structure.\n",
        "text = soup.get_text(strip=True)\n",
        "print(text)"
      ],
      "metadata": {
        "colab": {
          "base_uri": "https://localhost:8080/"
        },
        "id": "53bejvX_Dlz8",
        "outputId": "f5e4b77b-4f02-4564-ef36-168625d131b0"
      },
      "execution_count": 19,
      "outputs": [
        {
          "output_type": "stream",
          "name": "stdout",
          "text": [
            "window.dataLayer = window.dataLayer || [];\n",
            "  function gtag(){dataLayer.push(arguments);}\n",
            "  gtag('js', new Date());\n",
            "\n",
            "  gtag('config', 'UA-756578-3');SpaceX Falcon Rockets | Historic SpacecraftSite NavigationHomeTopicsSpacecraftApollo CapsulesCommercialGeminiLunar ModuleMercuryMilitary SpacecraftShenzhouSoyuzSpace ShuttleVostok & VoskhodSpace StationsInternational Space StationMirSkylabU.S. RocketsAtlasDelta / ThorJupiterOrbitalRedstoneSaturn I & IBSaturn 5SpaceXTitanUpper StagesOther RocketsOther Nations RocketsChineseEuropeanIndianJapaneseRussianV-2 (A-4)Other NationsRocket EnginesLiquid FueledSolid FueledSpace ProbesAsteroid / CometDiscoveryLunar MissionsOuter PlanetsMarinerMarsPioneerTelescopesVenus ProbesOther TopicsSpace SuitsLaunch PadsMisc. PhotosInteractive FeaturesISS VehiclesReferenceSpaceflight LinksShuttle FlightsMaster IndexTimelineAcronymsQuotesOther StuffStoreArchivesGraphicsWallpapersAboutContact InformationEmail RichardHistoric SpacecraftPO Box 704Jackson, MI  49204Rockets of SpaceXSpaceXSpaceX Falcon Rockets(View Larger Version)SpaceX is a space transportation company founded in 2002 by Elon Musk.SpaceX headquarters, as well as production facilities and mission control, are located in Hawthorne, California.  \n",
            "      The company operates rocket testing facilities near McGregor, Texas and near Brownsville, Texas.  \n",
            "      SpaceX currently operates launch pads at Kennedy Space Center, Cape Canaveral and Vandenberg Air Force base.  \n",
            "      Early Falcon 1 test flights occurred at Kwajalein Atoll in the Pacific Ocean.In addition to launch vehicles, SpaceX has developed the Dragon space station re-supply vehicle.  \n",
            "      The company has a contract with NASA to periodically fly supplies to the International Space Station.SpaceX has developed a three-core rocket known as the Falcon Heavy.  \n",
            "      The large rocket includes three modified Falcon 9 first stages and is one of the most powerful rockets currently in service.The company has also developed a crewed spacecraft, known as Crew Dragon.  \n",
            "      Crew Dragon was developed as part of NASA'sCommercial Crew Development (CCDev)program and is used to transport astronauts to the International Space Station.For more information, visit theSpaceX website.Left to right:Falcon 1,Falcon 9,Falcon 9 v1.1,Falcon 9 v1.1 with Dragon,Falcon 9 FT with payload fairing,Falcon 9 FT with Dragon,Falcon 9 Block-5 with payload fairing,Falcon 9 Block-5 with Crew Dragon,Falcon Heavy, Human figure for scale (1.8m tall),Grasshopper test vehicle,Falcon 9R test vehicle,Falcon 9 FT recovered stage.Falcon 1The two-stage Falcon 1 rocket used RP-1 and LOX as propellants.  A single Merlin engine powered the first stage, while a Kestral engine powered the second stage.  Both engines were designed and built by SpaceX.Five Falcon 1 rockets were launched between 2006 and 2009.  The first three flights ended in failure, while the last two were successful.  All flights were launched from Kwajalein Atoll in the Pacific Ocean.Falcon 9Falcon 9 is a two stage space launch vehicle developed by SpaceX.  Both stages are fueled with RP-1 kerosene and liquid oxygen.  \n",
            "\t\tThe first stage is propelled by nine Merlin engines, while the second stage uses a single Merlin engine modified for use in the upper stage.SpaceX builds both stages in-house at their production facility in Hawthorne, California.  \n",
            "\t\tStages are test-fired at a facility near McGregor, Texas, before shipping to Cape Canaveral or Vandenberg Air Force base for launch.The first Falcon 9 orbital mission was flown in June 2010.SpaceX is developing technology to allow reuse of Falcon rocket first stages.Falcon 9 v1.1First flown in September, 2013, The Falcon 9 version 1.1 (right) featured significantly improved performance.  \n",
            "\t\tUpgrades included lengthened propellant tanks, upgraded engines, and a new thrust structure.\n",
            "\t\tThe first stage was designed to perform a controlled reentry and propulsive landing after completing its mission.The first stage rocket arrangement changed from a three-by-three grid layout to a circular layout of eight engines surrounding a center engine.Fifteen Falcon 9 1.1 rockets flew before beign replaced by the improved Falcon 9 FT.Falcon 9 FTThe Falcon 9 FT, sometimes referred to as \"Full Thrust\" or version 1.2, was first flown in December 2015.  \n",
            "\t\tFuel capacity was increased through the use of densified propellants and a slightly stretched second stage.   \n",
            "\t\tThe upgrade also incorporated uprated engines and improved landing legs.Falcon 9 Block-5First flown in May, 2018, the Falcon 9 Block-5 incorporated modifications allowing more easier re-use of the first stage.Falcon 9 First Stage Recovery TestingFirst Stage Recovery TestsLeft to right, Grasshopper, Falcon 9R, Falcon 9FT launch configuration and after recovery.(View Larger Version)SpaceX has always believed rocket reuse was important for achieving their future goals.  \n",
            "\t\tWhen experiments using parachute aided recovery, conducted on early Falcon missions, \n",
            "\t\twere not successful, plans were made to investigate propulsive landing.To conduct propulsive landing experiments, a pair of test vehicles, known asGrasshopperandFalcon 9Rwhere built and tested at the SpaceX facility in McGregor Texas.The first successful stage recovery, on an operational mission, occurred in December 2015 at Cape Canaveral Air Force Station.Boost Back BurnOn missions attempting to return to launch site, a boost back burn is performed. \n",
            "\t\tAfter stage separation, the first stage uses gas jets to flip over, orienting itself toward its landing site.  \n",
            "\t\tA main engine burn is conducted to cancel the downrange momentum and propel the rocket toward the planned landing site.Reentry BurnAs the rocket falls toward the atmosphere, the stage reorientates itself to point its engines into the direction of flight.  \n",
            "\t\tA burn is conducted to slow the rockets descent, reducing atmospheric heating.  \n",
            "\t\tAs denser atmosphere is encountered, four grid fins, located on the interstage, help control the rockets attitude and trajectory.Landing BurnThe rocket is in free-fall for most of the descent through the atmosphere.  \n",
            "\t\tAs the landing site is neared, a final burn is initiated to slow the rocket.  \n",
            "\t\tSeconds before touchdown, four landing legs are deployed.Landing SitesWhen fuel margins are sufficient, a boost-back burn and return to launch site landing is possible.  \n",
            "\t\tHowever some missions, such as those launching heavy GTO payloads, may have insufficient fuel margins to conduct the boost-back burn.  \n",
            "\t\tIn these cases, recovery may be accomplished downrange by landing on specially constructed drone ships at sea.Early landing experiments, with operational boosters, occurred at sea.  Either over open ocean, or on drone ships.  \n",
            "\t\tThe first successful landing occurred on land at Landing Zone 1 at Cape Canaveral.The East coast drone ship, servicing missions launched from Cape Canaveral Air Force Station and Kennedy Space Center, is named \"Of Course I Still Love You\".On the West coast, \"Just Read The Instructions\" supports mission lunched from Vandenberg Air Force Base.SpaceX Dragon SpacecraftDragon SpacecraftA frequent payload for Falcon 9 is the Dragon spacecraft.  \n",
            "\t\tDeveloped in conjunction with NASA'sCommercial Orbital Transportation Services (COTS)program, \n",
            "\t\tthe Dragon capsule is capable of carrying both pressurized and unpressurized cargo to the International Space Station.  \n",
            "\t\tAt the end of each mission, the spacecraft can return pressurized cargo back to Earth.SpaceX Crew Dragon SpacecraftCrew Dragon SpacecraftCrew Dragon was developed as part of NASA'sCommercial Crew Development (CCDev)program and is used to transport astronauts to the International Space Station.An orbital test flight, including docking at the ISS, was successfully completed in March, 2019.  \n",
            "      The first crewed mission to the ISS, SpX-DM2, was launched in May, 2020.SpaceX Falcon 9 LaunchesFlightLaunchDateLaunchSiteVer.PrimaryPayloadMissionLauncher Results933 Sept 2020KSC LC-39AB5StarlinkLaunch of 60 Starlink comsats.Success9230 Aug 2020CCAFS SLC-40B5SAOCOM 1BLaunch of ArgentineEarth observation satellite.Success9118 Aug 2020CCAFS SLC-40B5StarlinkLaunch of 58 Starlink comsatsand secondary payloads.Success907 Aug 2020KSC LC-39AB5StarlinkLaunch of 57 Starlink comsatsand secondary payloads.Success8920 July 2020CCAFS SLC-40B5ANASIS-IILaunch of South Koreanmilitary satellite.Success8830 June 2020CCAFS SLC-40B5GPS IIIGPS satellite deployment.Success8713 June 2020CCAFS SLC-40B5StarlinkLaunch of 58 Starlink comsatsand secondary payloads.Success863 June 2020CCAFS SLC-40B5StarlinkLaunch of 60 Starlink comsats.Success8530 May 2020KSC LC-39AB5Crew DragonSpX-DM2, First crewed test flight of Dragon 2.Success8422 Apr 2020KSC LC-39AB5StarlinkLaunch of 60 Starlink comsats.Success8318 Mar 2020KSC LC-39AB5StarlinkLaunch of 60 Starlink comsats.Success827 Mar 2020CCAFS SLC-40B5DragonCRS-20, Resupply of ISS.Success8117 Feb 2020CCAFS SLC-40B5StarlinkLaunch of 60 Starlink comsats.Success8029 Jan 2020CCAFS SLC-40B5StarlinkLaunch of 60 Starlink comsats.Success7919 Jan 2020KSC LC-39AB5Crew DragonIn-flight abort test.Suborbital.Success787 Jan 2020CCAFS SLC-40B5StarlinkLaunch of 60 Starlink comsats.Success7717 Dec 2019CCAFS SLC-40B5JCSat-18 / Kacific 1GTO mission.Success765 Dec 2019CCAFS SLC-40B5DragonCRS-19, Resupply of ISS.Success7511 Nov 2019CCAFS SLC-40B5StarlinkLaunch of 60 Starlink comsats.Success746 Aug 2019CCAFS SLC-40B5AMOS-17GTO mission.Success7325 Jul 2019CCAFS SLC-40B5DragonCRS-18, Resupply of ISS.Success7212 Jun 2019VAFB SLC-4EB5RADARSATLaunch of 3 satellites.Success7124 May 2019CCAFS SLC-40B5StarlinkLaunch of 60 Starlink comsats.Success704 May 2019CCAFS SLC-40B5DragonCRS-17, Resupply of ISS.Success692 Mar 2019KSC LC-39AB5Crew DragonSpX-DM1, Test flight of crew capsule.Success6822 Feb 2019CCAFS SLC-40B5Nusantara SatuBeresheetLaunch of Indonesian comsatand a Moon lander.Success6711 Jan 2019VAFB SLC-4EB5Iridium NEXTLaunch of 10 Iridium comsats.Success6623 Dec 2018CCAFS SLC-40B5GPS IIIGPS satellite deployment.Success655 Dec 2018CCAFS SLC-40B5DragonCRS-16, Resupply of ISS.Success643 Dec 2018VAFB SLC-4EB5SSO-A (SmallSat Express)Deployment of 64 small satellites.Success6315 Nov 2018KSC LC-39AB5Es'hail 2GTO mission.Success627 Oct 2018VAFB SLC-4EB5SAOCOM 1ASSO mission.Success6110 Sep 2018CCAFS SLC-40B5Telstar 18VGTO mission.Success607 Aug 2018CCAFS SLC-40B5Merah PutihGTO mission.Success5925 Jul 2018VAFB SLC-4EB5Iridium NEXTLaunch of 10 Iridium comsats.Success5822 Jul 2018CCAFS SLC-40B5Telstar 19VGTO mission.Success5729 Jun 2018CCAFS SLC-40FTDragonCRS-15, Resupply of ISS.Success564 Jun 2018CCAFS SLC-40FTSES-12GTO mission.Success5522 May 2018VAFB SLC-4EFTIridium NEXTGRACE-FOLaunch of five Iridium comsats andand two GRACE satellites.Success5411 May 2018KSC LC-39AB5Bangabandhu-1GTO mission.Success5318 Apr 2018CCAFS SLC-40FTTESSLaunch of exoplanet survey satellite.Success522 Apr 2018CCAFS SLC-40FTDragonCRS-14, Resupply of ISS.Success5130 Mar 2018VAFB SLC-4EFTIridium NEXTLaunch of ten Iridium comsats.Success506 Mar 2018CCAFS SLC-40FTHispasat 30W-6GTO mission.Success4922 Feb 2018VAFB SLC-4EFTPaz / Tintin A & BLEO mission.Success4831 Jan 2018CCAFS SLC-40FTGovSat-1 / SES-16GTO mission.Success478 Jan 2018CCAFS SLC-40FTZumaClassified mission.Success4623 Dec 2017VAFB SLC-4EFTIridium NEXTLaunch of ten Iridium comsats.Success4515 Dec 2017CCAFS SLC-40FTDragonCRS-13, Resupply of ISS.Success4430 Oct 2017KSC LC-39AFTKoreasat 5AGTO mission.Success4311 Oct 2017KSC LC-39AFTSES-11 / EchoStar 105GTO mission.Success429 Oct 2017VAFB SLC-4EFTIridium NEXTLaunch of ten Iridium comsats.Success417 Sep 2017KSC LC-39AFTX-37BLaunch of OTV-5.Success4024 Aug 2017VAFB SLC-4EFTFORMOSAT-5Launch of remote sensing satellite.Success3914 Aug 2017KSC LC-39AFTDragonCRS-12, Resupply of ISS.Success385 Jul 2017KSC LC-39AFTIntelsat 35eGTO mission.Success3725 Jun 2017VAFB SLC-4EFTIridium NEXTLaunch of ten Iridium comsats.Success3623 Jun 2017KSC LC-39AFTBulgariaSat-1GTO mission.Success353 Jun 2017KSC LC-39AFTDragonCRS-11, Resupply of ISS.Success3415 May 2017KSC LC-39AFTInmarsat-5 F4GTO mission.Success331 May 2017KSC LC-39AFTNROL-76Classified NRO mission.Success3230 Mar 2017KSC LC-39AFTSES-10GTO mission.Success3116 Mar 2017KSC LC-39AFTEchoStar 23GTO mission.Success3019 Feb 2017KSC LC-39AFTDragonCRS-10, Resupply of ISS.Success2914 Jan 2017VAFB SLC-4EFTIridium NEXTLaunch of ten Iridium comsats.Success-------------CCAFS SLC-40FTAmos-6GTO mission.Failure during pre-flighttesting on 1 Sep 2016.2814 Aug 2016CCAFS SLC-40FTJCSAT-16GTO mission.Success2718 Jul 2016CCAFS SLC-40FTDragonCRS-9, Resupply of ISS.Success2615 Jun 2016CCAFS SLC-40FTABS-2AEutelsat 117GTO mission.Success2527 May 2016CCAFS SLC-40FTThaicom-8GTO mission.Success246 May 2016CCAFS SLC-40FTJCSAT-14GTO mission.Success238 Apr 2016CCAFS SLC-40FTDragonCRS-8, Resupply of ISS.Success224 Mar 2016CCAFS SLC-40FTSES-9GTO mission.Success2117 Jan 2016VAFB SLC-4E1.1Jason-3Launch of LEO Earth observation spacecraft.Success2021 Dec 2015CCAFS SLC-40FTOG2 (11)Launch of eleven ORBCOMM comsats.First stage landed successfully at CCAFS.Success1928 Jun 2015CCAFS SLC-401.1DragonCRS-7, Attempted ISS resupply mission.Launch vehicle failure.1827 Apr 2015CCAFS SLC-401.1TurkmenAlem 52EGTO mission.Success1714 Apr 2015CCAFS SLC-401.1DragonCRS-6, Resupply of ISS.Success161 Mar 2015CCAFS SLC-401.1ABS-3AEutelsat 115Launch of two communicationsatellites to GTO.Success1511 Feb 2015CCAFS SLC-401.1DSCOVRLaunch of the Deep Space Climate Observatory.Success1410 Jan 2015CCAFS SLC-401.1DragonCRS-5, Resupply of ISS.Success1321 Sep 2014CCAFS SLC-401.1DragonCRS-4, Resupply of ISS.Success127 Sep 2014CCAFS SLC-401.1AsiaSat 6GTO mission.Success115 Aug 2014CCAFS SLC-401.1AsiaSat 8GTO mission.Success1014 Jul 2014CCAFS SLC-401.1OG2 (6)Launch of six ORBCOMM communicationsatellites to LEO.Success918 Apr 2014CCAFS SLC-401.1DragonCRS-3, Resupply of ISS.Success86 Jan 2014CCAFS SLC-401.1Thaicom-6GTO mission.Success73 Dec 2013CCAFS SLC-401.1SES-8First GTO mission for SpaceX.Success629 Sep 2013VAFB SLC-4E1.1CASSIOPEFirst flight of version 1.1 rocket.Success51 Mar 2013CCAFS SLC-401.0DragonCRS-2, Resupply of ISS.Success47 Oct 2012CCAFS SLC-401.0DragonCRS-1, Resupply of ISS.Success322 May 2012CCAFS SLC-401.0DragonCOTS-2+, First Dragon berthing with ISS.Success28 Dec 2010CCAFS SLC-401.0DragonCOTS-1,  First flight of Dragon Capsule.Success14 Jun 2010CCAFS SLC-401.0---Test flight of Falcon 9 rocket.SuccessNOTES:CCAFS SLC-40 = Cape Canaveral Air Force Station, Space Launch Complex 40.VAFB SLC-4E = Vandenberg Air Force Base, Space Launch Complex 4E.KSC LC-39A = Kennedy Space Center, Space Launch Complex 39A.For more information about Falcon 9 and Dragon, visit theSpaceX website.Falcon HeavySpaceX Falcon Heavy and Space Shuttle comparison.(View Larger Version)The Falcon Heavy is a heavy-lift launch vehicle based on Falcon 9 technology. \n",
            "\t\tThe rocket features a modified Falcon 9 first stage, with two additional stages used as strap-on boosters.\n",
            "\t\tThe second stage and fairing is similar to those used on the existing Falcon 9.For most payloads, the three booster stages will be recoverable.First Test FlightThe first Falcon Heavy test flight was flown on 6 Feb 2018.  \n",
            "\t\tThe successful mission was launched from pad 39A at Kennedy Space Center and placed the payload, \n",
            "\t\ta Tesla roadster, into a heliocentric orbit with an aphelion beyond the orbit of Mars.\n",
            "\t\tAttempts were made to recover all three boosters.  Each of the side boosters returned to successful landings at Cape Canaveral.\n",
            "\t\tThe planned core stage landing, on a barge at sea, failed.\n",
            "\t\tBoth side boosters were making their 2nd flight, each having launched payloads on previous missions.Future UsesFuture payloads may include large communications satellites, Department of Defense payloads, and interplanetary missions.Images byRichard Kruseare licensed under aCreative Commons Attribution-Noncommercial 3.0 United States License.function ajaxGetJson() {\n",
            "\tvar selection = \"https://historicspacecraft.com/JSON/right_side_\" + Math.floor(Math.random () * 12) + \".json\";\t\n",
            "//\tconsole.log(selection);\n",
            "    var myJsonData = new XMLHttpRequest();\n",
            "    myJsonData.open(\"GET\", selection, true);\n",
            "    myJsonData.onreadystatechange = function() {\n",
            "        if(myJsonData.readyState == 4 && myJsonData.status == 200) {\n",
            "            var myData = JSON.parse(myJsonData.responseText);\n",
            "//\t\t\tconsole.log(\"Here: \" + myData);\n",
            "\t\t\tdocument.getElementById(\"right_side_stuff\").innerHTML = myData[\"data\"];  \n",
            "        }\n",
            "    }\n",
            "    myJsonData.send(null);\t\n",
            "}\n",
            "\n",
            "ajaxGetJson();\n"
          ]
        }
      ]
    },
    {
      "cell_type": "markdown",
      "source": [
        "- The above code uses beautiful soap library to extract data from html web page."
      ],
      "metadata": {
        "id": "eyiGdzT2FqRg"
      }
    },
    {
      "cell_type": "code",
      "source": [
        "#code block 4\n",
        "#split the text into tokens\n",
        "tokens = [t for t in text.split()]\n",
        "print(tokens)\n",
        "clean_tokens = tokens[:]\n",
        "#print(clean_tokens)"
      ],
      "metadata": {
        "colab": {
          "base_uri": "https://localhost:8080/"
        },
        "id": "FceVvKC5DoLg",
        "outputId": "2a60b142-480b-4a38-9251-b7ac0da677d4"
      },
      "execution_count": 20,
      "outputs": [
        {
          "output_type": "stream",
          "name": "stdout",
          "text": [
            "['window.dataLayer', '=', 'window.dataLayer', '||', '[];', 'function', 'gtag(){dataLayer.push(arguments);}', \"gtag('js',\", 'new', 'Date());', \"gtag('config',\", \"'UA-756578-3');SpaceX\", 'Falcon', 'Rockets', '|', 'Historic', 'SpacecraftSite', 'NavigationHomeTopicsSpacecraftApollo', 'CapsulesCommercialGeminiLunar', 'ModuleMercuryMilitary', 'SpacecraftShenzhouSoyuzSpace', 'ShuttleVostok', '&', 'VoskhodSpace', 'StationsInternational', 'Space', 'StationMirSkylabU.S.', 'RocketsAtlasDelta', '/', 'ThorJupiterOrbitalRedstoneSaturn', 'I', '&', 'IBSaturn', '5SpaceXTitanUpper', 'StagesOther', 'RocketsOther', 'Nations', 'RocketsChineseEuropeanIndianJapaneseRussianV-2', '(A-4)Other', 'NationsRocket', 'EnginesLiquid', 'FueledSolid', 'FueledSpace', 'ProbesAsteroid', '/', 'CometDiscoveryLunar', 'MissionsOuter', 'PlanetsMarinerMarsPioneerTelescopesVenus', 'ProbesOther', 'TopicsSpace', 'SuitsLaunch', 'PadsMisc.', 'PhotosInteractive', 'FeaturesISS', 'VehiclesReferenceSpaceflight', 'LinksShuttle', 'FlightsMaster', 'IndexTimelineAcronymsQuotesOther', 'StuffStoreArchivesGraphicsWallpapersAboutContact', 'InformationEmail', 'RichardHistoric', 'SpacecraftPO', 'Box', '704Jackson,', 'MI', '49204Rockets', 'of', 'SpaceXSpaceXSpaceX', 'Falcon', 'Rockets(View', 'Larger', 'Version)SpaceX', 'is', 'a', 'space', 'transportation', 'company', 'founded', 'in', '2002', 'by', 'Elon', 'Musk.SpaceX', 'headquarters,', 'as', 'well', 'as', 'production', 'facilities', 'and', 'mission', 'control,', 'are', 'located', 'in', 'Hawthorne,', 'California.', 'The', 'company', 'operates', 'rocket', 'testing', 'facilities', 'near', 'McGregor,', 'Texas', 'and', 'near', 'Brownsville,', 'Texas.', 'SpaceX', 'currently', 'operates', 'launch', 'pads', 'at', 'Kennedy', 'Space', 'Center,', 'Cape', 'Canaveral', 'and', 'Vandenberg', 'Air', 'Force', 'base.', 'Early', 'Falcon', '1', 'test', 'flights', 'occurred', 'at', 'Kwajalein', 'Atoll', 'in', 'the', 'Pacific', 'Ocean.In', 'addition', 'to', 'launch', 'vehicles,', 'SpaceX', 'has', 'developed', 'the', 'Dragon', 'space', 'station', 're-supply', 'vehicle.', 'The', 'company', 'has', 'a', 'contract', 'with', 'NASA', 'to', 'periodically', 'fly', 'supplies', 'to', 'the', 'International', 'Space', 'Station.SpaceX', 'has', 'developed', 'a', 'three-core', 'rocket', 'known', 'as', 'the', 'Falcon', 'Heavy.', 'The', 'large', 'rocket', 'includes', 'three', 'modified', 'Falcon', '9', 'first', 'stages', 'and', 'is', 'one', 'of', 'the', 'most', 'powerful', 'rockets', 'currently', 'in', 'service.The', 'company', 'has', 'also', 'developed', 'a', 'crewed', 'spacecraft,', 'known', 'as', 'Crew', 'Dragon.', 'Crew', 'Dragon', 'was', 'developed', 'as', 'part', 'of', \"NASA'sCommercial\", 'Crew', 'Development', '(CCDev)program', 'and', 'is', 'used', 'to', 'transport', 'astronauts', 'to', 'the', 'International', 'Space', 'Station.For', 'more', 'information,', 'visit', 'theSpaceX', 'website.Left', 'to', 'right:Falcon', '1,Falcon', '9,Falcon', '9', 'v1.1,Falcon', '9', 'v1.1', 'with', 'Dragon,Falcon', '9', 'FT', 'with', 'payload', 'fairing,Falcon', '9', 'FT', 'with', 'Dragon,Falcon', '9', 'Block-5', 'with', 'payload', 'fairing,Falcon', '9', 'Block-5', 'with', 'Crew', 'Dragon,Falcon', 'Heavy,', 'Human', 'figure', 'for', 'scale', '(1.8m', 'tall),Grasshopper', 'test', 'vehicle,Falcon', '9R', 'test', 'vehicle,Falcon', '9', 'FT', 'recovered', 'stage.Falcon', '1The', 'two-stage', 'Falcon', '1', 'rocket', 'used', 'RP-1', 'and', 'LOX', 'as', 'propellants.', 'A', 'single', 'Merlin', 'engine', 'powered', 'the', 'first', 'stage,', 'while', 'a', 'Kestral', 'engine', 'powered', 'the', 'second', 'stage.', 'Both', 'engines', 'were', 'designed', 'and', 'built', 'by', 'SpaceX.Five', 'Falcon', '1', 'rockets', 'were', 'launched', 'between', '2006', 'and', '2009.', 'The', 'first', 'three', 'flights', 'ended', 'in', 'failure,', 'while', 'the', 'last', 'two', 'were', 'successful.', 'All', 'flights', 'were', 'launched', 'from', 'Kwajalein', 'Atoll', 'in', 'the', 'Pacific', 'Ocean.Falcon', '9Falcon', '9', 'is', 'a', 'two', 'stage', 'space', 'launch', 'vehicle', 'developed', 'by', 'SpaceX.', 'Both', 'stages', 'are', 'fueled', 'with', 'RP-1', 'kerosene', 'and', 'liquid', 'oxygen.', 'The', 'first', 'stage', 'is', 'propelled', 'by', 'nine', 'Merlin', 'engines,', 'while', 'the', 'second', 'stage', 'uses', 'a', 'single', 'Merlin', 'engine', 'modified', 'for', 'use', 'in', 'the', 'upper', 'stage.SpaceX', 'builds', 'both', 'stages', 'in-house', 'at', 'their', 'production', 'facility', 'in', 'Hawthorne,', 'California.', 'Stages', 'are', 'test-fired', 'at', 'a', 'facility', 'near', 'McGregor,', 'Texas,', 'before', 'shipping', 'to', 'Cape', 'Canaveral', 'or', 'Vandenberg', 'Air', 'Force', 'base', 'for', 'launch.The', 'first', 'Falcon', '9', 'orbital', 'mission', 'was', 'flown', 'in', 'June', '2010.SpaceX', 'is', 'developing', 'technology', 'to', 'allow', 'reuse', 'of', 'Falcon', 'rocket', 'first', 'stages.Falcon', '9', 'v1.1First', 'flown', 'in', 'September,', '2013,', 'The', 'Falcon', '9', 'version', '1.1', '(right)', 'featured', 'significantly', 'improved', 'performance.', 'Upgrades', 'included', 'lengthened', 'propellant', 'tanks,', 'upgraded', 'engines,', 'and', 'a', 'new', 'thrust', 'structure.', 'The', 'first', 'stage', 'was', 'designed', 'to', 'perform', 'a', 'controlled', 'reentry', 'and', 'propulsive', 'landing', 'after', 'completing', 'its', 'mission.The', 'first', 'stage', 'rocket', 'arrangement', 'changed', 'from', 'a', 'three-by-three', 'grid', 'layout', 'to', 'a', 'circular', 'layout', 'of', 'eight', 'engines', 'surrounding', 'a', 'center', 'engine.Fifteen', 'Falcon', '9', '1.1', 'rockets', 'flew', 'before', 'beign', 'replaced', 'by', 'the', 'improved', 'Falcon', '9', 'FT.Falcon', '9', 'FTThe', 'Falcon', '9', 'FT,', 'sometimes', 'referred', 'to', 'as', '\"Full', 'Thrust\"', 'or', 'version', '1.2,', 'was', 'first', 'flown', 'in', 'December', '2015.', 'Fuel', 'capacity', 'was', 'increased', 'through', 'the', 'use', 'of', 'densified', 'propellants', 'and', 'a', 'slightly', 'stretched', 'second', 'stage.', 'The', 'upgrade', 'also', 'incorporated', 'uprated', 'engines', 'and', 'improved', 'landing', 'legs.Falcon', '9', 'Block-5First', 'flown', 'in', 'May,', '2018,', 'the', 'Falcon', '9', 'Block-5', 'incorporated', 'modifications', 'allowing', 'more', 'easier', 're-use', 'of', 'the', 'first', 'stage.Falcon', '9', 'First', 'Stage', 'Recovery', 'TestingFirst', 'Stage', 'Recovery', 'TestsLeft', 'to', 'right,', 'Grasshopper,', 'Falcon', '9R,', 'Falcon', '9FT', 'launch', 'configuration', 'and', 'after', 'recovery.(View', 'Larger', 'Version)SpaceX', 'has', 'always', 'believed', 'rocket', 'reuse', 'was', 'important', 'for', 'achieving', 'their', 'future', 'goals.', 'When', 'experiments', 'using', 'parachute', 'aided', 'recovery,', 'conducted', 'on', 'early', 'Falcon', 'missions,', 'were', 'not', 'successful,', 'plans', 'were', 'made', 'to', 'investigate', 'propulsive', 'landing.To', 'conduct', 'propulsive', 'landing', 'experiments,', 'a', 'pair', 'of', 'test', 'vehicles,', 'known', 'asGrasshopperandFalcon', '9Rwhere', 'built', 'and', 'tested', 'at', 'the', 'SpaceX', 'facility', 'in', 'McGregor', 'Texas.The', 'first', 'successful', 'stage', 'recovery,', 'on', 'an', 'operational', 'mission,', 'occurred', 'in', 'December', '2015', 'at', 'Cape', 'Canaveral', 'Air', 'Force', 'Station.Boost', 'Back', 'BurnOn', 'missions', 'attempting', 'to', 'return', 'to', 'launch', 'site,', 'a', 'boost', 'back', 'burn', 'is', 'performed.', 'After', 'stage', 'separation,', 'the', 'first', 'stage', 'uses', 'gas', 'jets', 'to', 'flip', 'over,', 'orienting', 'itself', 'toward', 'its', 'landing', 'site.', 'A', 'main', 'engine', 'burn', 'is', 'conducted', 'to', 'cancel', 'the', 'downrange', 'momentum', 'and', 'propel', 'the', 'rocket', 'toward', 'the', 'planned', 'landing', 'site.Reentry', 'BurnAs', 'the', 'rocket', 'falls', 'toward', 'the', 'atmosphere,', 'the', 'stage', 'reorientates', 'itself', 'to', 'point', 'its', 'engines', 'into', 'the', 'direction', 'of', 'flight.', 'A', 'burn', 'is', 'conducted', 'to', 'slow', 'the', 'rockets', 'descent,', 'reducing', 'atmospheric', 'heating.', 'As', 'denser', 'atmosphere', 'is', 'encountered,', 'four', 'grid', 'fins,', 'located', 'on', 'the', 'interstage,', 'help', 'control', 'the', 'rockets', 'attitude', 'and', 'trajectory.Landing', 'BurnThe', 'rocket', 'is', 'in', 'free-fall', 'for', 'most', 'of', 'the', 'descent', 'through', 'the', 'atmosphere.', 'As', 'the', 'landing', 'site', 'is', 'neared,', 'a', 'final', 'burn', 'is', 'initiated', 'to', 'slow', 'the', 'rocket.', 'Seconds', 'before', 'touchdown,', 'four', 'landing', 'legs', 'are', 'deployed.Landing', 'SitesWhen', 'fuel', 'margins', 'are', 'sufficient,', 'a', 'boost-back', 'burn', 'and', 'return', 'to', 'launch', 'site', 'landing', 'is', 'possible.', 'However', 'some', 'missions,', 'such', 'as', 'those', 'launching', 'heavy', 'GTO', 'payloads,', 'may', 'have', 'insufficient', 'fuel', 'margins', 'to', 'conduct', 'the', 'boost-back', 'burn.', 'In', 'these', 'cases,', 'recovery', 'may', 'be', 'accomplished', 'downrange', 'by', 'landing', 'on', 'specially', 'constructed', 'drone', 'ships', 'at', 'sea.Early', 'landing', 'experiments,', 'with', 'operational', 'boosters,', 'occurred', 'at', 'sea.', 'Either', 'over', 'open', 'ocean,', 'or', 'on', 'drone', 'ships.', 'The', 'first', 'successful', 'landing', 'occurred', 'on', 'land', 'at', 'Landing', 'Zone', '1', 'at', 'Cape', 'Canaveral.The', 'East', 'coast', 'drone', 'ship,', 'servicing', 'missions', 'launched', 'from', 'Cape', 'Canaveral', 'Air', 'Force', 'Station', 'and', 'Kennedy', 'Space', 'Center,', 'is', 'named', '\"Of', 'Course', 'I', 'Still', 'Love', 'You\".On', 'the', 'West', 'coast,', '\"Just', 'Read', 'The', 'Instructions\"', 'supports', 'mission', 'lunched', 'from', 'Vandenberg', 'Air', 'Force', 'Base.SpaceX', 'Dragon', 'SpacecraftDragon', 'SpacecraftA', 'frequent', 'payload', 'for', 'Falcon', '9', 'is', 'the', 'Dragon', 'spacecraft.', 'Developed', 'in', 'conjunction', 'with', \"NASA'sCommercial\", 'Orbital', 'Transportation', 'Services', '(COTS)program,', 'the', 'Dragon', 'capsule', 'is', 'capable', 'of', 'carrying', 'both', 'pressurized', 'and', 'unpressurized', 'cargo', 'to', 'the', 'International', 'Space', 'Station.', 'At', 'the', 'end', 'of', 'each', 'mission,', 'the', 'spacecraft', 'can', 'return', 'pressurized', 'cargo', 'back', 'to', 'Earth.SpaceX', 'Crew', 'Dragon', 'SpacecraftCrew', 'Dragon', 'SpacecraftCrew', 'Dragon', 'was', 'developed', 'as', 'part', 'of', \"NASA'sCommercial\", 'Crew', 'Development', '(CCDev)program', 'and', 'is', 'used', 'to', 'transport', 'astronauts', 'to', 'the', 'International', 'Space', 'Station.An', 'orbital', 'test', 'flight,', 'including', 'docking', 'at', 'the', 'ISS,', 'was', 'successfully', 'completed', 'in', 'March,', '2019.', 'The', 'first', 'crewed', 'mission', 'to', 'the', 'ISS,', 'SpX-DM2,', 'was', 'launched', 'in', 'May,', '2020.SpaceX', 'Falcon', '9', 'LaunchesFlightLaunchDateLaunchSiteVer.PrimaryPayloadMissionLauncher', 'Results933', 'Sept', '2020KSC', 'LC-39AB5StarlinkLaunch', 'of', '60', 'Starlink', 'comsats.Success9230', 'Aug', '2020CCAFS', 'SLC-40B5SAOCOM', '1BLaunch', 'of', 'ArgentineEarth', 'observation', 'satellite.Success9118', 'Aug', '2020CCAFS', 'SLC-40B5StarlinkLaunch', 'of', '58', 'Starlink', 'comsatsand', 'secondary', 'payloads.Success907', 'Aug', '2020KSC', 'LC-39AB5StarlinkLaunch', 'of', '57', 'Starlink', 'comsatsand', 'secondary', 'payloads.Success8920', 'July', '2020CCAFS', 'SLC-40B5ANASIS-IILaunch', 'of', 'South', 'Koreanmilitary', 'satellite.Success8830', 'June', '2020CCAFS', 'SLC-40B5GPS', 'IIIGPS', 'satellite', 'deployment.Success8713', 'June', '2020CCAFS', 'SLC-40B5StarlinkLaunch', 'of', '58', 'Starlink', 'comsatsand', 'secondary', 'payloads.Success863', 'June', '2020CCAFS', 'SLC-40B5StarlinkLaunch', 'of', '60', 'Starlink', 'comsats.Success8530', 'May', '2020KSC', 'LC-39AB5Crew', 'DragonSpX-DM2,', 'First', 'crewed', 'test', 'flight', 'of', 'Dragon', '2.Success8422', 'Apr', '2020KSC', 'LC-39AB5StarlinkLaunch', 'of', '60', 'Starlink', 'comsats.Success8318', 'Mar', '2020KSC', 'LC-39AB5StarlinkLaunch', 'of', '60', 'Starlink', 'comsats.Success827', 'Mar', '2020CCAFS', 'SLC-40B5DragonCRS-20,', 'Resupply', 'of', 'ISS.Success8117', 'Feb', '2020CCAFS', 'SLC-40B5StarlinkLaunch', 'of', '60', 'Starlink', 'comsats.Success8029', 'Jan', '2020CCAFS', 'SLC-40B5StarlinkLaunch', 'of', '60', 'Starlink', 'comsats.Success7919', 'Jan', '2020KSC', 'LC-39AB5Crew', 'DragonIn-flight', 'abort', 'test.Suborbital.Success787', 'Jan', '2020CCAFS', 'SLC-40B5StarlinkLaunch', 'of', '60', 'Starlink', 'comsats.Success7717', 'Dec', '2019CCAFS', 'SLC-40B5JCSat-18', '/', 'Kacific', '1GTO', 'mission.Success765', 'Dec', '2019CCAFS', 'SLC-40B5DragonCRS-19,', 'Resupply', 'of', 'ISS.Success7511', 'Nov', '2019CCAFS', 'SLC-40B5StarlinkLaunch', 'of', '60', 'Starlink', 'comsats.Success746', 'Aug', '2019CCAFS', 'SLC-40B5AMOS-17GTO', 'mission.Success7325', 'Jul', '2019CCAFS', 'SLC-40B5DragonCRS-18,', 'Resupply', 'of', 'ISS.Success7212', 'Jun', '2019VAFB', 'SLC-4EB5RADARSATLaunch', 'of', '3', 'satellites.Success7124', 'May', '2019CCAFS', 'SLC-40B5StarlinkLaunch', 'of', '60', 'Starlink', 'comsats.Success704', 'May', '2019CCAFS', 'SLC-40B5DragonCRS-17,', 'Resupply', 'of', 'ISS.Success692', 'Mar', '2019KSC', 'LC-39AB5Crew', 'DragonSpX-DM1,', 'Test', 'flight', 'of', 'crew', 'capsule.Success6822', 'Feb', '2019CCAFS', 'SLC-40B5Nusantara', 'SatuBeresheetLaunch', 'of', 'Indonesian', 'comsatand', 'a', 'Moon', 'lander.Success6711', 'Jan', '2019VAFB', 'SLC-4EB5Iridium', 'NEXTLaunch', 'of', '10', 'Iridium', 'comsats.Success6623', 'Dec', '2018CCAFS', 'SLC-40B5GPS', 'IIIGPS', 'satellite', 'deployment.Success655', 'Dec', '2018CCAFS', 'SLC-40B5DragonCRS-16,', 'Resupply', 'of', 'ISS.Success643', 'Dec', '2018VAFB', 'SLC-4EB5SSO-A', '(SmallSat', 'Express)Deployment', 'of', '64', 'small', 'satellites.Success6315', 'Nov', '2018KSC', \"LC-39AB5Es'hail\", '2GTO', 'mission.Success627', 'Oct', '2018VAFB', 'SLC-4EB5SAOCOM', '1ASSO', 'mission.Success6110', 'Sep', '2018CCAFS', 'SLC-40B5Telstar', '18VGTO', 'mission.Success607', 'Aug', '2018CCAFS', 'SLC-40B5Merah', 'PutihGTO', 'mission.Success5925', 'Jul', '2018VAFB', 'SLC-4EB5Iridium', 'NEXTLaunch', 'of', '10', 'Iridium', 'comsats.Success5822', 'Jul', '2018CCAFS', 'SLC-40B5Telstar', '19VGTO', 'mission.Success5729', 'Jun', '2018CCAFS', 'SLC-40FTDragonCRS-15,', 'Resupply', 'of', 'ISS.Success564', 'Jun', '2018CCAFS', 'SLC-40FTSES-12GTO', 'mission.Success5522', 'May', '2018VAFB', 'SLC-4EFTIridium', 'NEXTGRACE-FOLaunch', 'of', 'five', 'Iridium', 'comsats', 'andand', 'two', 'GRACE', 'satellites.Success5411', 'May', '2018KSC', 'LC-39AB5Bangabandhu-1GTO', 'mission.Success5318', 'Apr', '2018CCAFS', 'SLC-40FTTESSLaunch', 'of', 'exoplanet', 'survey', 'satellite.Success522', 'Apr', '2018CCAFS', 'SLC-40FTDragonCRS-14,', 'Resupply', 'of', 'ISS.Success5130', 'Mar', '2018VAFB', 'SLC-4EFTIridium', 'NEXTLaunch', 'of', 'ten', 'Iridium', 'comsats.Success506', 'Mar', '2018CCAFS', 'SLC-40FTHispasat', '30W-6GTO', 'mission.Success4922', 'Feb', '2018VAFB', 'SLC-4EFTPaz', '/', 'Tintin', 'A', '&', 'BLEO', 'mission.Success4831', 'Jan', '2018CCAFS', 'SLC-40FTGovSat-1', '/', 'SES-16GTO', 'mission.Success478', 'Jan', '2018CCAFS', 'SLC-40FTZumaClassified', 'mission.Success4623', 'Dec', '2017VAFB', 'SLC-4EFTIridium', 'NEXTLaunch', 'of', 'ten', 'Iridium', 'comsats.Success4515', 'Dec', '2017CCAFS', 'SLC-40FTDragonCRS-13,', 'Resupply', 'of', 'ISS.Success4430', 'Oct', '2017KSC', 'LC-39AFTKoreasat', '5AGTO', 'mission.Success4311', 'Oct', '2017KSC', 'LC-39AFTSES-11', '/', 'EchoStar', '105GTO', 'mission.Success429', 'Oct', '2017VAFB', 'SLC-4EFTIridium', 'NEXTLaunch', 'of', 'ten', 'Iridium', 'comsats.Success417', 'Sep', '2017KSC', 'LC-39AFTX-37BLaunch', 'of', 'OTV-5.Success4024', 'Aug', '2017VAFB', 'SLC-4EFTFORMOSAT-5Launch', 'of', 'remote', 'sensing', 'satellite.Success3914', 'Aug', '2017KSC', 'LC-39AFTDragonCRS-12,', 'Resupply', 'of', 'ISS.Success385', 'Jul', '2017KSC', 'LC-39AFTIntelsat', '35eGTO', 'mission.Success3725', 'Jun', '2017VAFB', 'SLC-4EFTIridium', 'NEXTLaunch', 'of', 'ten', 'Iridium', 'comsats.Success3623', 'Jun', '2017KSC', 'LC-39AFTBulgariaSat-1GTO', 'mission.Success353', 'Jun', '2017KSC', 'LC-39AFTDragonCRS-11,', 'Resupply', 'of', 'ISS.Success3415', 'May', '2017KSC', 'LC-39AFTInmarsat-5', 'F4GTO', 'mission.Success331', 'May', '2017KSC', 'LC-39AFTNROL-76Classified', 'NRO', 'mission.Success3230', 'Mar', '2017KSC', 'LC-39AFTSES-10GTO', 'mission.Success3116', 'Mar', '2017KSC', 'LC-39AFTEchoStar', '23GTO', 'mission.Success3019', 'Feb', '2017KSC', 'LC-39AFTDragonCRS-10,', 'Resupply', 'of', 'ISS.Success2914', 'Jan', '2017VAFB', 'SLC-4EFTIridium', 'NEXTLaunch', 'of', 'ten', 'Iridium', 'comsats.Success-------------CCAFS', 'SLC-40FTAmos-6GTO', 'mission.Failure', 'during', 'pre-flighttesting', 'on', '1', 'Sep', '2016.2814', 'Aug', '2016CCAFS', 'SLC-40FTJCSAT-16GTO', 'mission.Success2718', 'Jul', '2016CCAFS', 'SLC-40FTDragonCRS-9,', 'Resupply', 'of', 'ISS.Success2615', 'Jun', '2016CCAFS', 'SLC-40FTABS-2AEutelsat', '117GTO', 'mission.Success2527', 'May', '2016CCAFS', 'SLC-40FTThaicom-8GTO', 'mission.Success246', 'May', '2016CCAFS', 'SLC-40FTJCSAT-14GTO', 'mission.Success238', 'Apr', '2016CCAFS', 'SLC-40FTDragonCRS-8,', 'Resupply', 'of', 'ISS.Success224', 'Mar', '2016CCAFS', 'SLC-40FTSES-9GTO', 'mission.Success2117', 'Jan', '2016VAFB', 'SLC-4E1.1Jason-3Launch', 'of', 'LEO', 'Earth', 'observation', 'spacecraft.Success2021', 'Dec', '2015CCAFS', 'SLC-40FTOG2', '(11)Launch', 'of', 'eleven', 'ORBCOMM', 'comsats.First', 'stage', 'landed', 'successfully', 'at', 'CCAFS.Success1928', 'Jun', '2015CCAFS', 'SLC-401.1DragonCRS-7,', 'Attempted', 'ISS', 'resupply', 'mission.Launch', 'vehicle', 'failure.1827', 'Apr', '2015CCAFS', 'SLC-401.1TurkmenAlem', '52EGTO', 'mission.Success1714', 'Apr', '2015CCAFS', 'SLC-401.1DragonCRS-6,', 'Resupply', 'of', 'ISS.Success161', 'Mar', '2015CCAFS', 'SLC-401.1ABS-3AEutelsat', '115Launch', 'of', 'two', 'communicationsatellites', 'to', 'GTO.Success1511', 'Feb', '2015CCAFS', 'SLC-401.1DSCOVRLaunch', 'of', 'the', 'Deep', 'Space', 'Climate', 'Observatory.Success1410', 'Jan', '2015CCAFS', 'SLC-401.1DragonCRS-5,', 'Resupply', 'of', 'ISS.Success1321', 'Sep', '2014CCAFS', 'SLC-401.1DragonCRS-4,', 'Resupply', 'of', 'ISS.Success127', 'Sep', '2014CCAFS', 'SLC-401.1AsiaSat', '6GTO', 'mission.Success115', 'Aug', '2014CCAFS', 'SLC-401.1AsiaSat', '8GTO', 'mission.Success1014', 'Jul', '2014CCAFS', 'SLC-401.1OG2', '(6)Launch', 'of', 'six', 'ORBCOMM', 'communicationsatellites', 'to', 'LEO.Success918', 'Apr', '2014CCAFS', 'SLC-401.1DragonCRS-3,', 'Resupply', 'of', 'ISS.Success86', 'Jan', '2014CCAFS', 'SLC-401.1Thaicom-6GTO', 'mission.Success73', 'Dec', '2013CCAFS', 'SLC-401.1SES-8First', 'GTO', 'mission', 'for', 'SpaceX.Success629', 'Sep', '2013VAFB', 'SLC-4E1.1CASSIOPEFirst', 'flight', 'of', 'version', '1.1', 'rocket.Success51', 'Mar', '2013CCAFS', 'SLC-401.0DragonCRS-2,', 'Resupply', 'of', 'ISS.Success47', 'Oct', '2012CCAFS', 'SLC-401.0DragonCRS-1,', 'Resupply', 'of', 'ISS.Success322', 'May', '2012CCAFS', 'SLC-401.0DragonCOTS-2+,', 'First', 'Dragon', 'berthing', 'with', 'ISS.Success28', 'Dec', '2010CCAFS', 'SLC-401.0DragonCOTS-1,', 'First', 'flight', 'of', 'Dragon', 'Capsule.Success14', 'Jun', '2010CCAFS', 'SLC-401.0---Test', 'flight', 'of', 'Falcon', '9', 'rocket.SuccessNOTES:CCAFS', 'SLC-40', '=', 'Cape', 'Canaveral', 'Air', 'Force', 'Station,', 'Space', 'Launch', 'Complex', '40.VAFB', 'SLC-4E', '=', 'Vandenberg', 'Air', 'Force', 'Base,', 'Space', 'Launch', 'Complex', '4E.KSC', 'LC-39A', '=', 'Kennedy', 'Space', 'Center,', 'Space', 'Launch', 'Complex', '39A.For', 'more', 'information', 'about', 'Falcon', '9', 'and', 'Dragon,', 'visit', 'theSpaceX', 'website.Falcon', 'HeavySpaceX', 'Falcon', 'Heavy', 'and', 'Space', 'Shuttle', 'comparison.(View', 'Larger', 'Version)The', 'Falcon', 'Heavy', 'is', 'a', 'heavy-lift', 'launch', 'vehicle', 'based', 'on', 'Falcon', '9', 'technology.', 'The', 'rocket', 'features', 'a', 'modified', 'Falcon', '9', 'first', 'stage,', 'with', 'two', 'additional', 'stages', 'used', 'as', 'strap-on', 'boosters.', 'The', 'second', 'stage', 'and', 'fairing', 'is', 'similar', 'to', 'those', 'used', 'on', 'the', 'existing', 'Falcon', '9.For', 'most', 'payloads,', 'the', 'three', 'booster', 'stages', 'will', 'be', 'recoverable.First', 'Test', 'FlightThe', 'first', 'Falcon', 'Heavy', 'test', 'flight', 'was', 'flown', 'on', '6', 'Feb', '2018.', 'The', 'successful', 'mission', 'was', 'launched', 'from', 'pad', '39A', 'at', 'Kennedy', 'Space', 'Center', 'and', 'placed', 'the', 'payload,', 'a', 'Tesla', 'roadster,', 'into', 'a', 'heliocentric', 'orbit', 'with', 'an', 'aphelion', 'beyond', 'the', 'orbit', 'of', 'Mars.', 'Attempts', 'were', 'made', 'to', 'recover', 'all', 'three', 'boosters.', 'Each', 'of', 'the', 'side', 'boosters', 'returned', 'to', 'successful', 'landings', 'at', 'Cape', 'Canaveral.', 'The', 'planned', 'core', 'stage', 'landing,', 'on', 'a', 'barge', 'at', 'sea,', 'failed.', 'Both', 'side', 'boosters', 'were', 'making', 'their', '2nd', 'flight,', 'each', 'having', 'launched', 'payloads', 'on', 'previous', 'missions.Future', 'UsesFuture', 'payloads', 'may', 'include', 'large', 'communications', 'satellites,', 'Department', 'of', 'Defense', 'payloads,', 'and', 'interplanetary', 'missions.Images', 'byRichard', 'Kruseare', 'licensed', 'under', 'aCreative', 'Commons', 'Attribution-Noncommercial', '3.0', 'United', 'States', 'License.function', 'ajaxGetJson()', '{', 'var', 'selection', '=', '\"https://historicspacecraft.com/JSON/right_side_\"', '+', 'Math.floor(Math.random', '()', '*', '12)', '+', '\".json\";', '//', 'console.log(selection);', 'var', 'myJsonData', '=', 'new', 'XMLHttpRequest();', 'myJsonData.open(\"GET\",', 'selection,', 'true);', 'myJsonData.onreadystatechange', '=', 'function()', '{', 'if(myJsonData.readyState', '==', '4', '&&', 'myJsonData.status', '==', '200)', '{', 'var', 'myData', '=', 'JSON.parse(myJsonData.responseText);', '//', 'console.log(\"Here:', '\"', '+', 'myData);', 'document.getElementById(\"right_side_stuff\").innerHTML', '=', 'myData[\"data\"];', '}', '}', 'myJsonData.send(null);', '}', 'ajaxGetJson();']\n"
          ]
        }
      ]
    },
    {
      "cell_type": "markdown",
      "source": [
        "- The above code splits the text into tokens.\n",
        "- Each individual word is called as token."
      ],
      "metadata": {
        "id": "gdTD3KgmFcWY"
      }
    },
    {
      "cell_type": "code",
      "source": [
        "#code block 5\n",
        "\n",
        "#remove the simple repetitive english words using stopwords\n",
        "sr = stopwords.words('english')\n",
        "for token in tokens:\n",
        "  if token in stopwords.words('english'):\n",
        "     clean_tokens.remove(token)\n",
        "freq = nltk.FreqDist(clean_tokens)\n",
        "#del_tokens = freq.copy()"
      ],
      "metadata": {
        "id": "t9FxkwHlDq5P"
      },
      "execution_count": 21,
      "outputs": []
    },
    {
      "cell_type": "markdown",
      "source": [
        "- The above code is to remove all the repetitive words which are called stopwords."
      ],
      "metadata": {
        "id": "TIsc5IZiFOY5"
      }
    },
    {
      "cell_type": "code",
      "source": [
        "#code block 6\n",
        "#print and plot the 10 tokens with  high frequency\n",
        "for key,val in freq.items():\n",
        "    print (str(key) + ':' + str(val))\n",
        "freq.plot(10,cumulative=False)"
      ],
      "metadata": {
        "colab": {
          "base_uri": "https://localhost:8080/",
          "height": 1000
        },
        "id": "PXrIrnhoDsW_",
        "outputId": "8f9bd4a9-4aa3-40e5-d717-cbca7f76b203"
      },
      "execution_count": 22,
      "outputs": [
        {
          "output_type": "stream",
          "name": "stdout",
          "text": [
            "window.dataLayer:2\n",
            "=:9\n",
            "||:1\n",
            "[];:1\n",
            "function:1\n",
            "gtag(){dataLayer.push(arguments);}:1\n",
            "gtag('js',:1\n",
            "new:3\n",
            "Date());:1\n",
            "gtag('config',:1\n",
            "'UA-756578-3');SpaceX:1\n",
            "Falcon:27\n",
            "Rockets:1\n",
            "|:1\n",
            "Historic:1\n",
            "SpacecraftSite:1\n",
            "NavigationHomeTopicsSpacecraftApollo:1\n",
            "CapsulesCommercialGeminiLunar:1\n",
            "ModuleMercuryMilitary:1\n",
            "SpacecraftShenzhouSoyuzSpace:1\n",
            "ShuttleVostok:1\n",
            "&:3\n",
            "VoskhodSpace:1\n",
            "StationsInternational:1\n",
            "Space:14\n",
            "StationMirSkylabU.S.:1\n",
            "RocketsAtlasDelta:1\n",
            "/:6\n",
            "ThorJupiterOrbitalRedstoneSaturn:1\n",
            "I:2\n",
            "IBSaturn:1\n",
            "5SpaceXTitanUpper:1\n",
            "StagesOther:1\n",
            "RocketsOther:1\n",
            "Nations:1\n",
            "RocketsChineseEuropeanIndianJapaneseRussianV-2:1\n",
            "(A-4)Other:1\n",
            "NationsRocket:1\n",
            "EnginesLiquid:1\n",
            "FueledSolid:1\n",
            "FueledSpace:1\n",
            "ProbesAsteroid:1\n",
            "CometDiscoveryLunar:1\n",
            "MissionsOuter:1\n",
            "PlanetsMarinerMarsPioneerTelescopesVenus:1\n",
            "ProbesOther:1\n",
            "TopicsSpace:1\n",
            "SuitsLaunch:1\n",
            "PadsMisc.:1\n",
            "PhotosInteractive:1\n",
            "FeaturesISS:1\n",
            "VehiclesReferenceSpaceflight:1\n",
            "LinksShuttle:1\n",
            "FlightsMaster:1\n",
            "IndexTimelineAcronymsQuotesOther:1\n",
            "StuffStoreArchivesGraphicsWallpapersAboutContact:1\n",
            "InformationEmail:1\n",
            "RichardHistoric:1\n",
            "SpacecraftPO:1\n",
            "Box:1\n",
            "704Jackson,:1\n",
            "MI:1\n",
            "49204Rockets:1\n",
            "SpaceXSpaceXSpaceX:1\n",
            "Rockets(View:1\n",
            "Larger:3\n",
            "Version)SpaceX:2\n",
            "space:3\n",
            "transportation:1\n",
            "company:4\n",
            "founded:1\n",
            "2002:1\n",
            "Elon:1\n",
            "Musk.SpaceX:1\n",
            "headquarters,:1\n",
            "well:1\n",
            "production:2\n",
            "facilities:2\n",
            "mission:6\n",
            "control,:1\n",
            "located:2\n",
            "Hawthorne,:2\n",
            "California.:2\n",
            "The:15\n",
            "operates:2\n",
            "rocket:11\n",
            "testing:1\n",
            "near:3\n",
            "McGregor,:2\n",
            "Texas:1\n",
            "Brownsville,:1\n",
            "Texas.:1\n",
            "SpaceX:3\n",
            "currently:2\n",
            "launch:7\n",
            "pads:1\n",
            "Kennedy:4\n",
            "Center,:3\n",
            "Cape:7\n",
            "Canaveral:5\n",
            "Vandenberg:4\n",
            "Air:7\n",
            "Force:7\n",
            "base.:1\n",
            "Early:1\n",
            "1:5\n",
            "test:7\n",
            "flights:3\n",
            "occurred:4\n",
            "Kwajalein:2\n",
            "Atoll:2\n",
            "Pacific:2\n",
            "Ocean.In:1\n",
            "addition:1\n",
            "vehicles,:2\n",
            "developed:6\n",
            "Dragon:11\n",
            "station:1\n",
            "re-supply:1\n",
            "vehicle.:1\n",
            "contract:1\n",
            "NASA:1\n",
            "periodically:1\n",
            "fly:1\n",
            "supplies:1\n",
            "International:4\n",
            "Station.SpaceX:1\n",
            "three-core:1\n",
            "known:3\n",
            "Heavy.:1\n",
            "large:2\n",
            "includes:1\n",
            "three:4\n",
            "modified:3\n",
            "9:25\n",
            "first:16\n",
            "stages:5\n",
            "one:1\n",
            "powerful:1\n",
            "rockets:5\n",
            "service.The:1\n",
            "also:2\n",
            "crewed:3\n",
            "spacecraft,:1\n",
            "Crew:6\n",
            "Dragon.:1\n",
            "part:2\n",
            "NASA'sCommercial:3\n",
            "Development:2\n",
            "(CCDev)program:2\n",
            "used:5\n",
            "transport:2\n",
            "astronauts:2\n",
            "Station.For:1\n",
            "information,:1\n",
            "visit:2\n",
            "theSpaceX:2\n",
            "website.Left:1\n",
            "right:Falcon:1\n",
            "1,Falcon:1\n",
            "9,Falcon:1\n",
            "v1.1,Falcon:1\n",
            "v1.1:1\n",
            "Dragon,Falcon:3\n",
            "FT:3\n",
            "payload:3\n",
            "fairing,Falcon:2\n",
            "Block-5:3\n",
            "Heavy,:1\n",
            "Human:1\n",
            "figure:1\n",
            "scale:1\n",
            "(1.8m:1\n",
            "tall),Grasshopper:1\n",
            "vehicle,Falcon:2\n",
            "9R:1\n",
            "recovered:1\n",
            "stage.Falcon:2\n",
            "1The:1\n",
            "two-stage:1\n",
            "RP-1:2\n",
            "LOX:1\n",
            "propellants.:1\n",
            "A:4\n",
            "single:2\n",
            "Merlin:3\n",
            "engine:4\n",
            "powered:2\n",
            "stage,:2\n",
            "Kestral:1\n",
            "second:4\n",
            "stage.:2\n",
            "Both:3\n",
            "engines:4\n",
            "designed:2\n",
            "built:2\n",
            "SpaceX.Five:1\n",
            "launched:6\n",
            "2006:1\n",
            "2009.:1\n",
            "ended:1\n",
            "failure,:1\n",
            "last:1\n",
            "two:5\n",
            "successful.:1\n",
            "All:1\n",
            "Ocean.Falcon:1\n",
            "9Falcon:1\n",
            "stage:12\n",
            "vehicle:3\n",
            "SpaceX.:1\n",
            "fueled:1\n",
            "kerosene:1\n",
            "liquid:1\n",
            "oxygen.:1\n",
            "propelled:1\n",
            "nine:1\n",
            "engines,:2\n",
            "uses:2\n",
            "use:2\n",
            "upper:1\n",
            "stage.SpaceX:1\n",
            "builds:1\n",
            "in-house:1\n",
            "facility:3\n",
            "Stages:1\n",
            "test-fired:1\n",
            "Texas,:1\n",
            "shipping:1\n",
            "base:1\n",
            "launch.The:1\n",
            "orbital:2\n",
            "flown:5\n",
            "June:4\n",
            "2010.SpaceX:1\n",
            "developing:1\n",
            "technology:1\n",
            "allow:1\n",
            "reuse:2\n",
            "stages.Falcon:1\n",
            "v1.1First:1\n",
            "September,:1\n",
            "2013,:1\n",
            "version:3\n",
            "1.1:3\n",
            "(right):1\n",
            "featured:1\n",
            "significantly:1\n",
            "improved:3\n",
            "performance.:1\n",
            "Upgrades:1\n",
            "included:1\n",
            "lengthened:1\n",
            "propellant:1\n",
            "tanks,:1\n",
            "upgraded:1\n",
            "thrust:1\n",
            "structure.:1\n",
            "perform:1\n",
            "controlled:1\n",
            "reentry:1\n",
            "propulsive:3\n",
            "landing:11\n",
            "completing:1\n",
            "mission.The:1\n",
            "arrangement:1\n",
            "changed:1\n",
            "three-by-three:1\n",
            "grid:2\n",
            "layout:2\n",
            "circular:1\n",
            "eight:1\n",
            "surrounding:1\n",
            "center:1\n",
            "engine.Fifteen:1\n",
            "flew:1\n",
            "beign:1\n",
            "replaced:1\n",
            "FT.Falcon:1\n",
            "FTThe:1\n",
            "FT,:1\n",
            "sometimes:1\n",
            "referred:1\n",
            "\"Full:1\n",
            "Thrust\":1\n",
            "1.2,:1\n",
            "December:2\n",
            "2015.:1\n",
            "Fuel:1\n",
            "capacity:1\n",
            "increased:1\n",
            "densified:1\n",
            "propellants:1\n",
            "slightly:1\n",
            "stretched:1\n",
            "upgrade:1\n",
            "incorporated:2\n",
            "uprated:1\n",
            "legs.Falcon:1\n",
            "Block-5First:1\n",
            "May,:2\n",
            "2018,:1\n",
            "modifications:1\n",
            "allowing:1\n",
            "easier:1\n",
            "re-use:1\n",
            "First:4\n",
            "Stage:2\n",
            "Recovery:2\n",
            "TestingFirst:1\n",
            "TestsLeft:1\n",
            "right,:1\n",
            "Grasshopper,:1\n",
            "9R,:1\n",
            "9FT:1\n",
            "configuration:1\n",
            "recovery.(View:1\n",
            "always:1\n",
            "believed:1\n",
            "important:1\n",
            "achieving:1\n",
            "future:1\n",
            "goals.:1\n",
            "When:1\n",
            "experiments:1\n",
            "using:1\n",
            "parachute:1\n",
            "aided:1\n",
            "recovery,:2\n",
            "conducted:3\n",
            "early:1\n",
            "missions,:2\n",
            "successful,:1\n",
            "plans:1\n",
            "made:2\n",
            "investigate:1\n",
            "landing.To:1\n",
            "conduct:2\n",
            "experiments,:2\n",
            "pair:1\n",
            "asGrasshopperandFalcon:1\n",
            "9Rwhere:1\n",
            "tested:1\n",
            "McGregor:1\n",
            "Texas.The:1\n",
            "successful:4\n",
            "operational:2\n",
            "mission,:2\n",
            "2015:1\n",
            "Station.Boost:1\n",
            "Back:1\n",
            "BurnOn:1\n",
            "missions:2\n",
            "attempting:1\n",
            "return:3\n",
            "site,:1\n",
            "boost:1\n",
            "back:2\n",
            "burn:5\n",
            "performed.:1\n",
            "After:1\n",
            "separation,:1\n",
            "gas:1\n",
            "jets:1\n",
            "flip:1\n",
            "over,:1\n",
            "orienting:1\n",
            "toward:3\n",
            "site.:1\n",
            "main:1\n",
            "cancel:1\n",
            "downrange:2\n",
            "momentum:1\n",
            "propel:1\n",
            "planned:2\n",
            "site.Reentry:1\n",
            "BurnAs:1\n",
            "falls:1\n",
            "atmosphere,:1\n",
            "reorientates:1\n",
            "point:1\n",
            "direction:1\n",
            "flight.:1\n",
            "slow:2\n",
            "descent,:1\n",
            "reducing:1\n",
            "atmospheric:1\n",
            "heating.:1\n",
            "As:2\n",
            "denser:1\n",
            "atmosphere:1\n",
            "encountered,:1\n",
            "four:2\n",
            "fins,:1\n",
            "interstage,:1\n",
            "help:1\n",
            "control:1\n",
            "attitude:1\n",
            "trajectory.Landing:1\n",
            "BurnThe:1\n",
            "free-fall:1\n",
            "descent:1\n",
            "atmosphere.:1\n",
            "site:2\n",
            "neared,:1\n",
            "final:1\n",
            "initiated:1\n",
            "rocket.:1\n",
            "Seconds:1\n",
            "touchdown,:1\n",
            "legs:1\n",
            "deployed.Landing:1\n",
            "SitesWhen:1\n",
            "fuel:2\n",
            "margins:2\n",
            "sufficient,:1\n",
            "boost-back:2\n",
            "possible.:1\n",
            "However:1\n",
            "launching:1\n",
            "heavy:1\n",
            "GTO:2\n",
            "payloads,:3\n",
            "may:3\n",
            "insufficient:1\n",
            "burn.:1\n",
            "In:1\n",
            "cases,:1\n",
            "recovery:1\n",
            "accomplished:1\n",
            "specially:1\n",
            "constructed:1\n",
            "drone:3\n",
            "ships:1\n",
            "sea.Early:1\n",
            "boosters,:1\n",
            "sea.:1\n",
            "Either:1\n",
            "open:1\n",
            "ocean,:1\n",
            "ships.:1\n",
            "land:1\n",
            "Landing:1\n",
            "Zone:1\n",
            "Canaveral.The:1\n",
            "East:1\n",
            "coast:1\n",
            "ship,:1\n",
            "servicing:1\n",
            "Station:1\n",
            "named:1\n",
            "\"Of:1\n",
            "Course:1\n",
            "Still:1\n",
            "Love:1\n",
            "You\".On:1\n",
            "West:1\n",
            "coast,:1\n",
            "\"Just:1\n",
            "Read:1\n",
            "Instructions\":1\n",
            "supports:1\n",
            "lunched:1\n",
            "Base.SpaceX:1\n",
            "SpacecraftDragon:1\n",
            "SpacecraftA:1\n",
            "frequent:1\n",
            "spacecraft.:1\n",
            "Developed:1\n",
            "conjunction:1\n",
            "Orbital:1\n",
            "Transportation:1\n",
            "Services:1\n",
            "(COTS)program,:1\n",
            "capsule:1\n",
            "capable:1\n",
            "carrying:1\n",
            "pressurized:2\n",
            "unpressurized:1\n",
            "cargo:2\n",
            "Station.:1\n",
            "At:1\n",
            "end:1\n",
            "spacecraft:1\n",
            "Earth.SpaceX:1\n",
            "SpacecraftCrew:2\n",
            "Station.An:1\n",
            "flight,:2\n",
            "including:1\n",
            "docking:1\n",
            "ISS,:2\n",
            "successfully:2\n",
            "completed:1\n",
            "March,:1\n",
            "2019.:1\n",
            "SpX-DM2,:1\n",
            "2020.SpaceX:1\n",
            "LaunchesFlightLaunchDateLaunchSiteVer.PrimaryPayloadMissionLauncher:1\n",
            "Results933:1\n",
            "Sept:1\n",
            "2020KSC:6\n",
            "LC-39AB5StarlinkLaunch:4\n",
            "60:9\n",
            "Starlink:12\n",
            "comsats.Success9230:1\n",
            "Aug:9\n",
            "2020CCAFS:10\n",
            "SLC-40B5SAOCOM:1\n",
            "1BLaunch:1\n",
            "ArgentineEarth:1\n",
            "observation:2\n",
            "satellite.Success9118:1\n",
            "SLC-40B5StarlinkLaunch:8\n",
            "58:2\n",
            "comsatsand:3\n",
            "secondary:3\n",
            "payloads.Success907:1\n",
            "57:1\n",
            "payloads.Success8920:1\n",
            "July:1\n",
            "SLC-40B5ANASIS-IILaunch:1\n",
            "South:1\n",
            "Koreanmilitary:1\n",
            "satellite.Success8830:1\n",
            "SLC-40B5GPS:2\n",
            "IIIGPS:2\n",
            "satellite:2\n",
            "deployment.Success8713:1\n",
            "payloads.Success863:1\n",
            "comsats.Success8530:1\n",
            "May:10\n",
            "LC-39AB5Crew:3\n",
            "DragonSpX-DM2,:1\n",
            "flight:6\n",
            "2.Success8422:1\n",
            "Apr:7\n",
            "comsats.Success8318:1\n",
            "Mar:10\n",
            "comsats.Success827:1\n",
            "SLC-40B5DragonCRS-20,:1\n",
            "Resupply:19\n",
            "ISS.Success8117:1\n",
            "Feb:6\n",
            "comsats.Success8029:1\n",
            "Jan:10\n",
            "comsats.Success7919:1\n",
            "DragonIn-flight:1\n",
            "abort:1\n",
            "test.Suborbital.Success787:1\n",
            "comsats.Success7717:1\n",
            "Dec:10\n",
            "2019CCAFS:8\n",
            "SLC-40B5JCSat-18:1\n",
            "Kacific:1\n",
            "1GTO:1\n",
            "mission.Success765:1\n",
            "SLC-40B5DragonCRS-19,:1\n",
            "ISS.Success7511:1\n",
            "Nov:2\n",
            "comsats.Success746:1\n",
            "SLC-40B5AMOS-17GTO:1\n",
            "mission.Success7325:1\n",
            "Jul:6\n",
            "SLC-40B5DragonCRS-18,:1\n",
            "ISS.Success7212:1\n",
            "Jun:9\n",
            "2019VAFB:2\n",
            "SLC-4EB5RADARSATLaunch:1\n",
            "3:1\n",
            "satellites.Success7124:1\n",
            "comsats.Success704:1\n",
            "SLC-40B5DragonCRS-17,:1\n",
            "ISS.Success692:1\n",
            "2019KSC:1\n",
            "DragonSpX-DM1,:1\n",
            "Test:2\n",
            "crew:1\n",
            "capsule.Success6822:1\n",
            "SLC-40B5Nusantara:1\n",
            "SatuBeresheetLaunch:1\n",
            "Indonesian:1\n",
            "comsatand:1\n",
            "Moon:1\n",
            "lander.Success6711:1\n",
            "SLC-4EB5Iridium:2\n",
            "NEXTLaunch:7\n",
            "10:2\n",
            "Iridium:8\n",
            "comsats.Success6623:1\n",
            "2018CCAFS:12\n",
            "deployment.Success655:1\n",
            "SLC-40B5DragonCRS-16,:1\n",
            "ISS.Success643:1\n",
            "2018VAFB:6\n",
            "SLC-4EB5SSO-A:1\n",
            "(SmallSat:1\n",
            "Express)Deployment:1\n",
            "64:1\n",
            "small:1\n",
            "satellites.Success6315:1\n",
            "2018KSC:2\n",
            "LC-39AB5Es'hail:1\n",
            "2GTO:1\n",
            "mission.Success627:1\n",
            "Oct:5\n",
            "SLC-4EB5SAOCOM:1\n",
            "1ASSO:1\n",
            "mission.Success6110:1\n",
            "Sep:6\n",
            "SLC-40B5Telstar:2\n",
            "18VGTO:1\n",
            "mission.Success607:1\n",
            "SLC-40B5Merah:1\n",
            "PutihGTO:1\n",
            "mission.Success5925:1\n",
            "comsats.Success5822:1\n",
            "19VGTO:1\n",
            "mission.Success5729:1\n",
            "SLC-40FTDragonCRS-15,:1\n",
            "ISS.Success564:1\n",
            "SLC-40FTSES-12GTO:1\n",
            "mission.Success5522:1\n",
            "SLC-4EFTIridium:6\n",
            "NEXTGRACE-FOLaunch:1\n",
            "five:1\n",
            "comsats:1\n",
            "andand:1\n",
            "GRACE:1\n",
            "satellites.Success5411:1\n",
            "LC-39AB5Bangabandhu-1GTO:1\n",
            "mission.Success5318:1\n",
            "SLC-40FTTESSLaunch:1\n",
            "exoplanet:1\n",
            "survey:1\n",
            "satellite.Success522:1\n",
            "SLC-40FTDragonCRS-14,:1\n",
            "ISS.Success5130:1\n",
            "ten:5\n",
            "comsats.Success506:1\n",
            "SLC-40FTHispasat:1\n",
            "30W-6GTO:1\n",
            "mission.Success4922:1\n",
            "SLC-4EFTPaz:1\n",
            "Tintin:1\n",
            "BLEO:1\n",
            "mission.Success4831:1\n",
            "SLC-40FTGovSat-1:1\n",
            "SES-16GTO:1\n",
            "mission.Success478:1\n",
            "SLC-40FTZumaClassified:1\n",
            "mission.Success4623:1\n",
            "2017VAFB:5\n",
            "comsats.Success4515:1\n",
            "2017CCAFS:1\n",
            "SLC-40FTDragonCRS-13,:1\n",
            "ISS.Success4430:1\n",
            "2017KSC:12\n",
            "LC-39AFTKoreasat:1\n",
            "5AGTO:1\n",
            "mission.Success4311:1\n",
            "LC-39AFTSES-11:1\n",
            "EchoStar:1\n",
            "105GTO:1\n",
            "mission.Success429:1\n",
            "comsats.Success417:1\n",
            "LC-39AFTX-37BLaunch:1\n",
            "OTV-5.Success4024:1\n",
            "SLC-4EFTFORMOSAT-5Launch:1\n",
            "remote:1\n",
            "sensing:1\n",
            "satellite.Success3914:1\n",
            "LC-39AFTDragonCRS-12,:1\n",
            "ISS.Success385:1\n",
            "LC-39AFTIntelsat:1\n",
            "35eGTO:1\n",
            "mission.Success3725:1\n",
            "comsats.Success3623:1\n",
            "LC-39AFTBulgariaSat-1GTO:1\n",
            "mission.Success353:1\n",
            "LC-39AFTDragonCRS-11,:1\n",
            "ISS.Success3415:1\n",
            "LC-39AFTInmarsat-5:1\n",
            "F4GTO:1\n",
            "mission.Success331:1\n",
            "LC-39AFTNROL-76Classified:1\n",
            "NRO:1\n",
            "mission.Success3230:1\n",
            "LC-39AFTSES-10GTO:1\n",
            "mission.Success3116:1\n",
            "LC-39AFTEchoStar:1\n",
            "23GTO:1\n",
            "mission.Success3019:1\n",
            "LC-39AFTDragonCRS-10,:1\n",
            "ISS.Success2914:1\n",
            "comsats.Success-------------CCAFS:1\n",
            "SLC-40FTAmos-6GTO:1\n",
            "mission.Failure:1\n",
            "pre-flighttesting:1\n",
            "2016.2814:1\n",
            "2016CCAFS:7\n",
            "SLC-40FTJCSAT-16GTO:1\n",
            "mission.Success2718:1\n",
            "SLC-40FTDragonCRS-9,:1\n",
            "ISS.Success2615:1\n",
            "SLC-40FTABS-2AEutelsat:1\n",
            "117GTO:1\n",
            "mission.Success2527:1\n",
            "SLC-40FTThaicom-8GTO:1\n",
            "mission.Success246:1\n",
            "SLC-40FTJCSAT-14GTO:1\n",
            "mission.Success238:1\n",
            "SLC-40FTDragonCRS-8,:1\n",
            "ISS.Success224:1\n",
            "SLC-40FTSES-9GTO:1\n",
            "mission.Success2117:1\n",
            "2016VAFB:1\n",
            "SLC-4E1.1Jason-3Launch:1\n",
            "LEO:1\n",
            "Earth:1\n",
            "spacecraft.Success2021:1\n",
            "2015CCAFS:7\n",
            "SLC-40FTOG2:1\n",
            "(11)Launch:1\n",
            "eleven:1\n",
            "ORBCOMM:2\n",
            "comsats.First:1\n",
            "landed:1\n",
            "CCAFS.Success1928:1\n",
            "SLC-401.1DragonCRS-7,:1\n",
            "Attempted:1\n",
            "ISS:1\n",
            "resupply:1\n",
            "mission.Launch:1\n",
            "failure.1827:1\n",
            "SLC-401.1TurkmenAlem:1\n",
            "52EGTO:1\n",
            "mission.Success1714:1\n",
            "SLC-401.1DragonCRS-6,:1\n",
            "ISS.Success161:1\n",
            "SLC-401.1ABS-3AEutelsat:1\n",
            "115Launch:1\n",
            "communicationsatellites:2\n",
            "GTO.Success1511:1\n",
            "SLC-401.1DSCOVRLaunch:1\n",
            "Deep:1\n",
            "Climate:1\n",
            "Observatory.Success1410:1\n",
            "SLC-401.1DragonCRS-5,:1\n",
            "ISS.Success1321:1\n",
            "2014CCAFS:6\n",
            "SLC-401.1DragonCRS-4,:1\n",
            "ISS.Success127:1\n",
            "SLC-401.1AsiaSat:2\n",
            "6GTO:1\n",
            "mission.Success115:1\n",
            "8GTO:1\n",
            "mission.Success1014:1\n",
            "SLC-401.1OG2:1\n",
            "(6)Launch:1\n",
            "six:1\n",
            "LEO.Success918:1\n",
            "SLC-401.1DragonCRS-3,:1\n",
            "ISS.Success86:1\n",
            "SLC-401.1Thaicom-6GTO:1\n",
            "mission.Success73:1\n",
            "2013CCAFS:2\n",
            "SLC-401.1SES-8First:1\n",
            "SpaceX.Success629:1\n",
            "2013VAFB:1\n",
            "SLC-4E1.1CASSIOPEFirst:1\n",
            "rocket.Success51:1\n",
            "SLC-401.0DragonCRS-2,:1\n",
            "ISS.Success47:1\n",
            "2012CCAFS:2\n",
            "SLC-401.0DragonCRS-1,:1\n",
            "ISS.Success322:1\n",
            "SLC-401.0DragonCOTS-2+,:1\n",
            "berthing:1\n",
            "ISS.Success28:1\n",
            "2010CCAFS:2\n",
            "SLC-401.0DragonCOTS-1,:1\n",
            "Capsule.Success14:1\n",
            "SLC-401.0---Test:1\n",
            "rocket.SuccessNOTES:CCAFS:1\n",
            "SLC-40:1\n",
            "Station,:1\n",
            "Launch:3\n",
            "Complex:3\n",
            "40.VAFB:1\n",
            "SLC-4E:1\n",
            "Base,:1\n",
            "4E.KSC:1\n",
            "LC-39A:1\n",
            "39A.For:1\n",
            "information:1\n",
            "Dragon,:1\n",
            "website.Falcon:1\n",
            "HeavySpaceX:1\n",
            "Heavy:3\n",
            "Shuttle:1\n",
            "comparison.(View:1\n",
            "Version)The:1\n",
            "heavy-lift:1\n",
            "based:1\n",
            "technology.:1\n",
            "features:1\n",
            "additional:1\n",
            "strap-on:1\n",
            "boosters.:2\n",
            "fairing:1\n",
            "similar:1\n",
            "existing:1\n",
            "9.For:1\n",
            "booster:1\n",
            "recoverable.First:1\n",
            "FlightThe:1\n",
            "6:1\n",
            "2018.:1\n",
            "pad:1\n",
            "39A:1\n",
            "Center:1\n",
            "placed:1\n",
            "payload,:1\n",
            "Tesla:1\n",
            "roadster,:1\n",
            "heliocentric:1\n",
            "orbit:2\n",
            "aphelion:1\n",
            "beyond:1\n",
            "Mars.:1\n",
            "Attempts:1\n",
            "recover:1\n",
            "Each:1\n",
            "side:2\n",
            "boosters:2\n",
            "returned:1\n",
            "landings:1\n",
            "Canaveral.:1\n",
            "core:1\n",
            "landing,:1\n",
            "barge:1\n",
            "sea,:1\n",
            "failed.:1\n",
            "making:1\n",
            "2nd:1\n",
            "payloads:2\n",
            "previous:1\n",
            "missions.Future:1\n",
            "UsesFuture:1\n",
            "include:1\n",
            "communications:1\n",
            "satellites,:1\n",
            "Department:1\n",
            "Defense:1\n",
            "interplanetary:1\n",
            "missions.Images:1\n",
            "byRichard:1\n",
            "Kruseare:1\n",
            "licensed:1\n",
            "aCreative:1\n",
            "Commons:1\n",
            "Attribution-Noncommercial:1\n",
            "3.0:1\n",
            "United:1\n",
            "States:1\n",
            "License.function:1\n",
            "ajaxGetJson():1\n",
            "{:3\n",
            "var:3\n",
            "selection:1\n",
            "\"https://historicspacecraft.com/JSON/right_side_\":1\n",
            "+:3\n",
            "Math.floor(Math.random:1\n",
            "():1\n",
            "*:1\n",
            "12):1\n",
            "\".json\";:1\n",
            "//:2\n",
            "console.log(selection);:1\n",
            "myJsonData:1\n",
            "XMLHttpRequest();:1\n",
            "myJsonData.open(\"GET\",:1\n",
            "selection,:1\n",
            "true);:1\n",
            "myJsonData.onreadystatechange:1\n",
            "function():1\n",
            "if(myJsonData.readyState:1\n",
            "==:2\n",
            "4:1\n",
            "&&:1\n",
            "myJsonData.status:1\n",
            "200):1\n",
            "myData:1\n",
            "JSON.parse(myJsonData.responseText);:1\n",
            "console.log(\"Here::1\n",
            "\":1\n",
            "myData);:1\n",
            "document.getElementById(\"right_side_stuff\").innerHTML:1\n",
            "myData[\"data\"];:1\n",
            "}:3\n",
            "myJsonData.send(null);:1\n",
            "ajaxGetJson();:1\n"
          ]
        },
        {
          "output_type": "display_data",
          "data": {
            "text/plain": [
              "<Figure size 640x480 with 1 Axes>"
            ],
            "image/png": "[encoded data removed]"
          },
          "metadata": {}
        },
        {
          "output_type": "execute_result",
          "data": {
            "text/plain": [
              "<Axes: xlabel='Samples', ylabel='Counts'>"
            ]
          },
          "metadata": {},
          "execution_count": 22
        }
      ]
    },
    {
      "cell_type": "markdown",
      "source": [
        "- Above is the key value pair for all words and the number of times the word occurred on the webpage."
      ],
      "metadata": {
        "id": "VBb0ZSJJE_Q4"
      }
    },
    {
      "cell_type": "code",
      "source": [
        "top_10_words = [word for word, _ in freq.most_common(10)]\n",
        "top_10_frequencies = [freq[word] for word in top_10_words]\n",
        "\n",
        "# Print and plot the top 10 tokens with high frequency\n",
        "for key, val in zip(top_10_words, top_10_frequencies):\n",
        "    print(str(key) + ':' + str(val))"
      ],
      "metadata": {
        "colab": {
          "base_uri": "https://localhost:8080/"
        },
        "id": "hFQ9_fI-H7xt",
        "outputId": "2f734c97-85ed-4b7f-a217-a7c07333a3a0"
      },
      "execution_count": 23,
      "outputs": [
        {
          "output_type": "stream",
          "name": "stdout",
          "text": [
            "Falcon:27\n",
            "9:25\n",
            "Resupply:19\n",
            "first:16\n",
            "The:15\n",
            "Space:14\n",
            "stage:12\n",
            "Starlink:12\n",
            "2018CCAFS:12\n",
            "2017KSC:12\n"
          ]
        }
      ]
    },
    {
      "cell_type": "markdown",
      "source": [
        "- Store and print the top 10 most frequently occurring words on the webpage."
      ],
      "metadata": {
        "id": "TUvKH4rCEt9l"
      }
    },
    {
      "cell_type": "code",
      "source": [
        "import seaborn as sns\n",
        "import matplotlib.pyplot as plt\n",
        "\n",
        "# Heatmap, Boxplot, and Line Graph for the top 10 word frequency distribution\n",
        "plt.figure(figsize=(18, 8))\n",
        "\n",
        "# Heatmap\n",
        "plt.subplot(1, 3, 1)\n",
        "sns.heatmap([[freq[word] for word in top_10_words]], cmap='YlGnBu', annot=True, xticklabels=top_10_words)\n",
        "plt.title('Heatmappo')\n",
        "\n",
        "# Boxplot\n",
        "plt.subplot(1, 3, 2)\n",
        "sns.boxplot(top_10_frequencies, orient='v')\n",
        "plt.title('Boxplot')\n",
        "plt.ylabel('Frequency')\n",
        "\n",
        "# Line Graph\n",
        "plt.subplot(1, 3, 3)\n",
        "plt.plot(top_10_words, top_10_frequencies, marker='o')\n",
        "plt.title('Line Graph')\n",
        "plt.xlabel('Words')\n",
        "plt.ylabel('Frequency')\n",
        "\n",
        "plt.tight_layout()\n",
        "plt.show()"
      ],
      "metadata": {
        "colab": {
          "base_uri": "https://localhost:8080/",
          "height": 529
        },
        "id": "lZPSOgOfJxtl",
        "outputId": "c7ee6eea-3ec5-4697-cccf-25ec789f6247"
      },
      "execution_count": 24,
      "outputs": [
        {
          "output_type": "display_data",
          "data": {
            "text/plain": [
              "<Figure size 1800x800 with 4 Axes>"
            ],
            "image/png": "[encoded data removed]"
          },
          "metadata": {}
        }
      ]
    },
    {
      "cell_type": "markdown",
      "source": [
        "- Above is the Heatmap, Boxplot, and Scatter Plot for the top 10 most frequently occurring words in the website."
      ],
      "metadata": {
        "id": "xbkz_bil6YYZ"
      }
    },
    {
      "cell_type": "markdown",
      "source": [
        "#What do you understand by the tutorial. Explain briefly?\n",
        "-->"
      ],
      "metadata": {
        "id": "-Q6V4dzOXgKn"
      }
    },
    {
      "cell_type": "markdown",
      "source": [
        "- Natural Language Processing is making a machine/computer understand human language.\n",
        "- To do that we need to structure the language.\n",
        "- Converting Unstructured data to structured is called Natural Language Understanding.\n",
        "- Converting the data from structured to unstructured is referred to as Natural Language Generation.\n",
        "- Breaking down the text into words is called tokenization and each word is referred to as a token.\n",
        "- The first thing that we do in NLP is tokenization.\n",
        "- We can use Open Source Libraries like Spacy for Tokenization and Lemmantization.\n",
        "- Lemmantization is taking the words and understanding the dictionary meaning, then deriving its root/LEM.\n",
        "- NLTK also known as Natural Language Toolkit is a library used in Natural Language Processing for text processing.\n",
        "- NLTK can be used to generate tokens. Tokens can be each word or tokens can be every sentence.\n",
        "- Gensim is an open-source library that is used to handle large amounts of data efficiently to recognize complex patterns in them.\n",
        "- Beautiful soap is another library that is used to extract information/text from HTML/XML documents by providing different methods that can identify tags and remove them.\n",
        "- Stopwords are common English words like 'is', 'to', 'for', etc. These words occur frequently, so to improve the efficiency stopwords are removed.\n",
        "- After removing the StopWords and calculating the frequency of each word we can also plot the frequencies using different visualizations like line graphs, box plots, scatter plots, pie charts, etc.\n",
        "\n"
      ],
      "metadata": {
        "id": "3X8_ZXet6ZWa"
      }
    }
  ]
}