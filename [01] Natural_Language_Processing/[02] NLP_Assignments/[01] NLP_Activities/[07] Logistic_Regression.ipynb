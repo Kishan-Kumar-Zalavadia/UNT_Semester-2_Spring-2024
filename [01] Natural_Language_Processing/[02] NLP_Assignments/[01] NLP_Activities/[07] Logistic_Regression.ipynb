{
  "cells": [
    {
      "cell_type": "markdown",
      "metadata": {
        "id": "nQTwsx_9GZEh"
      },
      "source": [
        "#Logistic regression\n"
      ]
    },
    {
      "cell_type": "markdown",
      "source": [
        "• Logistic regression is one of the most popular Machine Learning algorithms, which comes under the Supervised Learning technique.\n",
        "\n",
        "• It is used for predicting the categorical dependent variable using a given set of independent variables.\n",
        "\n",
        "• Logistic regression predicts the output of a categorical dependent variable.\n",
        "\n",
        "• Therefore the outcome must be a categorical or discrete value.\n",
        "\n",
        "• It can be either Yes or No, 0 or 1, true or False, etc. but instead of giving the exact value as 0 and 1, it gives the probabilistic values which lie between 0 and 1."
      ],
      "metadata": {
        "id": "0zRNAXjH-BHu"
      }
    },
    {
      "cell_type": "code",
      "execution_count": 16,
      "metadata": {
        "collapsed": true,
        "id": "bhBrEHPHGZEj"
      },
      "outputs": [],
      "source": [
        "%matplotlib inline"
      ]
    },
    {
      "cell_type": "code",
      "execution_count": 17,
      "metadata": {
        "collapsed": true,
        "id": "lhVepxxzGZEk"
      },
      "outputs": [],
      "source": [
        "import io\n",
        "import matplotlib.pyplot as plt\n",
        "import pandas as pd\n",
        "import numpy as np\n",
        "import scipy.stats\n",
        "import scipy.special\n",
        "import seaborn as sns\n",
        "sns.set_style('white')\n",
        "sns.set_context('notebook')"
      ]
    },
    {
      "cell_type": "markdown",
      "metadata": {
        "id": "JxiFmIKYGZEk"
      },
      "source": [
        "Spider data from *Suzuki et al. (2006)*:"
      ]
    },
    {
      "cell_type": "code",
      "execution_count": 18,
      "metadata": {
        "colab": {
          "base_uri": "https://localhost:8080/"
        },
        "id": "JVr9K83BGZEk",
        "outputId": "4c978e3d-12f6-490e-b844-26140ff51a7e"
      },
      "outputs": [
        {
          "output_type": "stream",
          "name": "stdout",
          "text": [
            "   Grain size (mm)  Spiders\n",
            "0            0.245   absent\n",
            "1            0.247   absent\n",
            "2            0.285  present\n",
            "3            0.299  present\n",
            "4            0.327  present\n"
          ]
        }
      ],
      "source": [
        "df = pd.read_csv(\"logreg.csv\")\n",
        "print(df.head())\n"
      ]
    },
    {
      "cell_type": "markdown",
      "source": [
        "This code will display the first few rows of your DataFrame, giving you a glimpse of the data structure and the values it contains."
      ],
      "metadata": {
        "id": "g4KYNogLVbui"
      }
    },
    {
      "cell_type": "code",
      "execution_count": 19,
      "metadata": {
        "colab": {
          "base_uri": "https://localhost:8080/",
          "height": 458
        },
        "id": "3dMnzPUiGZEl",
        "outputId": "de01d198-d8fa-490a-a7a9-8aed1f0bb700"
      },
      "outputs": [
        {
          "output_type": "display_data",
          "data": {
            "text/plain": [
              "<Figure size 640x480 with 1 Axes>"
            ],
            "image/png": "[encoded data removed]"
          },
          "metadata": {}
        }
      ],
      "source": [
        "df.plot.scatter(x='Grain size (mm)', y='Spiders')\n",
        "plt.ylabel('Spiders present?')\n",
        "sns.despine()\n"
      ]
    },
    {
      "cell_type": "markdown",
      "metadata": {
        "id": "rTtw-ECDGZEl"
      },
      "source": [
        "This code snippet creates a scatter plot to visualize the relationship between the 'Grain size (mm)' feature and the presence of spiders. It utilizes the plot.scatter() function from pandas DataFrame to generate the scatter plot, with 'Grain size (mm)' on the x-axis and 'Spiders' on the y-axis. The plt.ylabel() function from Matplotlib is used to label the y-axis as 'Spiders present?'. Additionally, the sns.despine() function from Seaborn is called to remove the top and right spines from the plot, resulting in a cleaner visualization. This plot aids in understanding any potential correlation or pattern between the grain size and the presence of spiders in the dataset."
      ]
    },
    {
      "cell_type": "code",
      "execution_count": 20,
      "metadata": {
        "collapsed": true,
        "id": "5JxGUN1QGZEl"
      },
      "outputs": [],
      "source": [
        "import sklearn.linear_model"
      ]
    },
    {
      "cell_type": "markdown",
      "metadata": {
        "id": "NJ-5X_0VGZEm"
      },
      "source": [
        "scikit-learn has a logisitic regression classifier which uses regularization. To eliminate regularization, we set the regularization parameter `C` to $10^{12}$."
      ]
    },
    {
      "cell_type": "code",
      "source": [
        "import sklearn\n",
        "from sklearn.linear_model import LogisticRegression\n",
        "\n",
        "clf = LogisticRegression(C=1e12, random_state=0)\n",
        "\n",
        "X = df['Grain size (mm)'].values.reshape(-1, 1)\n",
        "\n",
        "clf.fit(X, df['Spiders'])\n",
        "print(clf.intercept_, clf.coef_)\n"
      ],
      "metadata": {
        "colab": {
          "base_uri": "https://localhost:8080/"
        },
        "id": "_qEFR7brO_sZ",
        "outputId": "8b3329cb-851c-4f2d-ffa4-f8d285808cc4"
      },
      "execution_count": 21,
      "outputs": [
        {
          "output_type": "stream",
          "name": "stdout",
          "text": [
            "[-1.64761964] [[5.12153717]]\n"
          ]
        }
      ]
    },
    {
      "cell_type": "markdown",
      "source": [
        "\n",
        "In this code snippet, scikit-learn's logistic regression model (LogisticRegression) is employed to predict the presence of spiders based on a single feature, namely the 'Grain size (mm)'. First, the logistic regression model is instantiated with a large regularization strength (C=1e12) to minimize regularization effects, and a random state is set for reproducibility (random_state=0). Subsequently, the predictor variable X is prepared by extracting the 'Grain size (mm)' column from the DataFrame df and reshaping it into a 2D array to conform to scikit-learn's input requirements. The model is then trained using the fit method, where 'Grain size (mm)' serves as the predictor and the 'Spiders' column from the DataFrame is designated as the target variable. Finally, the intercept and coefficients of the trained logistic regression model are printed to the console, providing insights into the intercept (bias) and the impact of the 'Grain size (mm)' feature on the probability of spiders being present."
      ],
      "metadata": {
        "id": "DXxeWFppV8sL"
      }
    },
    {
      "cell_type": "markdown",
      "metadata": {
        "id": "B0tE4_tOGZEm"
      },
      "source": [
        "This is in agreement with the equation John reports:\n",
        "$$\n",
        "probability of spider presence = \\frac{e^{-1.6476+5.1215(grain \\; size)}}{(1+e^{-1.6476+5.1215(grain \\; size)}}\n",
        "$$"
      ]
    },
    {
      "cell_type": "markdown",
      "source": [
        "\n",
        "probability of spider presence\n",
        "​\n",
        "  represents the probability of spiders being present.\n",
        "Grain size\n",
        "Grain size represents the predictor variable, specifically the 'Grain size (mm)' feature.\n",
        "The coefficients are as follows: the intercept term is -1.6476, and the coefficient for the 'Grain size (mm)' feature is 5.1215.\n",
        "The logistic regression model predicts the probability of spiders being present based on the grain size feature. The exponential function 𝑒x (e power X)\n",
        "  is used to transform the linear combination of the intercept and the product of the coefficient and the predictor variable into a probability value between 0 and 1, as required by logistic regression."
      ],
      "metadata": {
        "id": "OhGknhBMWO91"
      }
    },
    {
      "cell_type": "code",
      "execution_count": 22,
      "metadata": {
        "collapsed": true,
        "id": "1PRxvO3mGZEm"
      },
      "outputs": [],
      "source": [
        "def plot_log_reg(x, y, data, clf, xmin=None, xmax=None, alpha=1, ax=None):\n",
        "    if ax is None:\n",
        "        fig, ax = plt.subplots()\n",
        "    else:\n",
        "        fig = ax.figure\n",
        "    ax.scatter(data[x], data[y], color='black', zorder=20, alpha=alpha)\n",
        "    if xmin is None:\n",
        "        xmin = x.min()\n",
        "    if xmax is None:\n",
        "        xmax = x.max()\n",
        "    X_test = np.linspace(xmin, xmax, 300)\n",
        "\n",
        "    loss = scipy.special.expit(X_test * clf.coef_ + clf.intercept_).ravel()\n",
        "    ax.plot(X_test, loss, linewidth=3)\n",
        "\n",
        "    ax.set_xlabel(x)\n",
        "    ax.set_ylabel(y)\n",
        "    fig.tight_layout()\n",
        "    sns.despine()\n",
        "    return fig, ax"
      ]
    },
    {
      "cell_type": "markdown",
      "source": [
        "\n",
        "The plot_log_reg function facilitates the visualization of a logistic regression model's decision boundary in conjunction with a scatter plot of the data. Firstly, it accepts parameters such as the names of the predictor and target variables (x and y, respectively), the dataset (data), the trained logistic regression classifier (clf), and optional parameters for the range of predictor variable values (xmin and xmax). If an axis is not provided, it generates a new one.\n",
        "\n",
        "The function then plots the data points as a scatter plot, using the specified predictor and target variables. It assigns a color of black to the data points with adjustable transparency (alpha). Next, it computes the logistic function, also known as the sigmoid function, which represents the decision boundary of the logistic regression model. This is achieved by applying the logistic function to a range of predictor variable values (X_test). The resulting curve is plotted on the same axis as the scatter plot.\n",
        "\n",
        "Following this, the function sets appropriate labels for the x-axis and y-axis based on the predictor and target variable names. It also adjusts the layout of the figure for improved presentation and removes the spines from the plot to enhance clarity.\n",
        "\n",
        "Finally, the function returns the figure and axis objects, allowing for further customization or additional plotting if needed. Overall, this function provides a concise and effective way to visualize the decision boundary of a logistic regression model and the distribution of the data points in a single plot."
      ],
      "metadata": {
        "id": "sFJ8GDCbW4lu"
      }
    },
    {
      "cell_type": "code",
      "execution_count": 23,
      "metadata": {
        "id": "P3okIQZrGZEm",
        "colab": {
          "base_uri": "https://localhost:8080/",
          "height": 480
        },
        "outputId": "5c619189-9d2e-4ba9-f771-c9c120294796"
      },
      "outputs": [
        {
          "output_type": "display_data",
          "data": {
            "text/plain": [
              "<Figure size 640x480 with 1 Axes>"
            ],
            "image/png": "[encoded data removed]"
          },
          "metadata": {}
        }
      ],
      "source": [
        "plot_log_reg(x='Grain size (mm)', y='Spiders', data=df, clf=clf, xmin=0, xmax=1.5);"
      ]
    },
    {
      "cell_type": "markdown",
      "source": [
        "The function call plots the decision boundary of the logistic regression model along with the scatter plot of the data points, using the specified predictor and target variables from the DataFrame df. The decision boundary visually represents the threshold at which the logistic regression model classifies instances into the two classes based on the predictor variable 'Grain size (mm)'.\n",
        "\n",
        "\n",
        "\n",
        "\n",
        "\n"
      ],
      "metadata": {
        "id": "aFZWT1hAXGp-"
      }
    },
    {
      "cell_type": "markdown",
      "metadata": {
        "id": "4A9Gg6toGZEm"
      },
      "source": [
        "# Hypothesis testing\n",
        "\n",
        "To test if *Grain size* is a significant factor, we use the [**likelihood ratio test**](https://en.wikipedia.org/wiki/Logistic_regression#Evaluating_goodness_of_fit).\n",
        "\n",
        "We calculate the likelihood of the model with the grain size (the alternative model):"
      ]
    },
    {
      "cell_type": "code",
      "execution_count": 24,
      "metadata": {
        "id": "thCBe4XpGZEm"
      },
      "outputs": [],
      "source": [
        "def log_reg_null_model(y):\n",
        "    clf = sklearn.linear_model.LogisticRegression(C=1e12)\n",
        "    clf.fit(np.zeros_like(y).reshape(-1, 1), y)\n",
        "    return clf\n",
        "\n",
        "clf0 = log_reg_null_model(df['Spiders'])"
      ]
    },
    {
      "cell_type": "markdown",
      "metadata": {
        "id": "K2wTR96pGZEn"
      },
      "source": [
        "The likelihood ratio test operates by calculating the test statistic $D$ from the likelihoods of the null and alternative models:\n",
        "$$\n",
        "D = -2 \\log{ \\frac{L(H_0)}{L(H_1)} }\n",
        "$$\n",
        "The test statistic is then approximately chisquare distributed.\n",
        "\n",
        "*scikit-learn* has a log-loss function that can help us do that.\n",
        "The log-loss is defined as the negative log-likelihood, so we can rewrite:\n",
        "$$\n",
        "D = 2 (-\\log{L(H_0)} + \\log{L(H_1)}) \\Rightarrow \\\\\n",
        "D = 2 (logloss(H_0) - logloss(H_1))\n",
        "$$"
      ]
    },
    {
      "cell_type": "code",
      "execution_count": 25,
      "metadata": {
        "collapsed": true,
        "id": "TU8hXqinGZEn"
      },
      "outputs": [],
      "source": [
        "import sklearn.metrics\n",
        "from sklearn.preprocessing import LabelEncoder\n"
      ]
    },
    {
      "cell_type": "code",
      "source": [
        "def log_reg_lik_ratio_test(X, Y, clf0, clf1, df=1):\n",
        "    if X.ndim == 1:\n",
        "        X = X.reshape(-1, 1)\n",
        "    y_prob0 = clf0.predict_proba(X)\n",
        "    loss0 = sklearn.metrics.log_loss(Y, y_prob0, normalize=False)\n",
        "    y_prob1 = clf1.predict_proba(X)\n",
        "    loss1 = sklearn.metrics.log_loss(Y, y_prob1, normalize=False)\n",
        "    D = 2 * (loss0 - loss1)\n",
        "    return scipy.stats.distributions.chi2.sf(D, df=df)\n"
      ],
      "metadata": {
        "id": "WnDNKOAQQILb"
      },
      "execution_count": 26,
      "outputs": []
    },
    {
      "cell_type": "markdown",
      "source": [
        "The function log_reg_lik_ratio_test performs a likelihood ratio test to compare the goodness-of-fit between two logistic regression models. It takes as input the predictor variables (X), target variable (Y), and two trained logistic regression classifiers (clf0 and clf1) representing the models being compared. The function calculates the log loss of each model when predicting the target variable from the provided predictor variables. The difference in log loss between the two models is then used to compute a test statistic, which follows a chi-squared distribution with degrees of freedom specified by the df parameter. Finally, the function computes the p-value of the likelihood ratio test using the chi-squared survival function from SciPy. This p-value indicates the probability of observing a test statistic as extreme as the computed value under the null hypothesis that the two models are equally good fits to the data. Thus, the function enables statistical evaluation of the relative performance of two logistic regression models in terms of their ability to predict the target variable based on the provided predictor variables."
      ],
      "metadata": {
        "id": "9gCCzI0SXY9-"
      }
    },
    {
      "cell_type": "code",
      "source": [
        "label_encoder = LabelEncoder()\n",
        "df['Spiders_encoded'] = label_encoder.fit_transform(df['Spiders'])\n"
      ],
      "metadata": {
        "id": "o15EiM_7R90C"
      },
      "execution_count": 27,
      "outputs": []
    },
    {
      "cell_type": "code",
      "source": [
        "X = df['Grain size (mm)'].values.reshape(-1, 1)\n",
        "log_reg_lik_ratio_test(X, df['Spiders_encoded'], clf0, clf)"
      ],
      "metadata": {
        "colab": {
          "base_uri": "https://localhost:8080/"
        },
        "id": "mSQpom2DTiQI",
        "outputId": "b0368c3a-0de0-48d4-920e-2c261bbaecac"
      },
      "execution_count": 28,
      "outputs": [
        {
          "output_type": "execute_result",
          "data": {
            "text/plain": [
              "0.03324376680911948"
            ]
          },
          "metadata": {},
          "execution_count": 28
        }
      ]
    },
    {
      "cell_type": "markdown",
      "source": [
        "\n",
        "In this code snippet, you're preparing the predictor variable X by extracting the 'Grain size (mm)' column from the DataFrame df and reshaping it into a 2D array to fit the requirements of scikit-learn's logistic regression model. Then, you're calling the log_reg_lik_ratio_test function to perform a likelihood ratio test to compare the goodness-of-fit between two logistic regression models."
      ],
      "metadata": {
        "id": "LF5X_0pbXijb"
      }
    },
    {
      "cell_type": "markdown",
      "metadata": {
        "id": "MU6g5SDHGZEn"
      },
      "source": [
        "John indeed reports 0.033.\n",
        "\n",
        "Note that the log-loss calculation in equivalent to:"
      ]
    },
    {
      "cell_type": "code",
      "source": [
        "probabilities = clf.predict_proba(df['Grain size (mm)'].values.reshape(-1, 1))\n",
        "\n",
        "df['prob_absent'], df['prob_present'] = probabilities[:, 0], probabilities[:, 1]\n",
        "\n",
        "df['Spiders'] = df['Spiders'] == 'present'\n",
        "\n",
        "likelihood = (df.loc[df['Spiders'], 'prob_present'].prod() *\n",
        "              df.loc[~df['Spiders'], 'prob_absent'].prod())\n",
        "\n",
        "labels = [True, False]\n",
        "log_loss_value = sklearn.metrics.log_loss(\n",
        "    df['Spiders'],\n",
        "    probabilities,\n",
        "    labels=labels,\n",
        "    normalize=False\n",
        ")\n",
        "\n",
        "print(-np.log(likelihood), log_loss_value)"
      ],
      "metadata": {
        "colab": {
          "base_uri": "https://localhost:8080/"
        },
        "id": "VNvV8sUlUlRq",
        "outputId": "2a95bb4b-eb0c-4f5e-f6f2-6edbdd61d2c9"
      },
      "execution_count": 29,
      "outputs": [
        {
          "output_type": "stream",
          "name": "stdout",
          "text": [
            "15.315773911383223 15.315773911383223\n"
          ]
        }
      ]
    },
    {
      "cell_type": "markdown",
      "source": [
        "This code computes the probabilities and evaluates the performance of a logistic regression model predicting spider presence based on grain size. It assigns probabilities to DataFrame columns, encodes the target variable, calculates likelihood, and computes log loss. Finally, it prints the negative log-likelihood and log loss values. This analysis assesses the model's ability to predict spider presence accurately."
      ],
      "metadata": {
        "id": "MLFw-8fHX4rP"
      }
    },
    {
      "cell_type": "markdown",
      "metadata": {
        "id": "MKdTxCj2GZEn"
      },
      "source": [
        "## Second example"
      ]
    },
    {
      "cell_type": "code",
      "execution_count": 30,
      "metadata": {
        "id": "XRXW7iSIGZEn",
        "colab": {
          "base_uri": "https://localhost:8080/",
          "height": 206
        },
        "outputId": "c11fdc84-1d0d-4efc-f723-184dc13867d1"
      },
      "outputs": [
        {
          "output_type": "execute_result",
          "data": {
            "text/plain": [
              "            Location  Latitude  Mpi90  Mpi100  p, Mpi100\n",
              "0  Port Townsend, WA      48.1     47     139      0.748\n",
              "1       Neskowin, OR      45.2    177     241      0.577\n",
              "2     Siuslaw R., OR      44.0   1087    1183      0.521\n",
              "3      Umpqua R., OR      43.7    187     175      0.483\n",
              "4       Coos Bay, OR      43.5    397     671      0.628"
            ],
            "text/html": [
              "\n",
              "  <div id=\"df-d7b85611-0f81-4309-8ae3-ab7dc688701a\" class=\"colab-df-container\">\n",
              "    <div>\n",
              "<style scoped>\n",
              "    .dataframe tbody tr th:only-of-type {\n",
              "        vertical-align: middle;\n",
              "    }\n",
              "\n",
              "    .dataframe tbody tr th {\n",
              "        vertical-align: top;\n",
              "    }\n",
              "\n",
              "    .dataframe thead th {\n",
              "        text-align: right;\n",
              "    }\n",
              "</style>\n",
              "<table border=\"1\" class=\"dataframe\">\n",
              "  <thead>\n",
              "    <tr style=\"text-align: right;\">\n",
              "      <th></th>\n",
              "      <th>Location</th>\n",
              "      <th>Latitude</th>\n",
              "      <th>Mpi90</th>\n",
              "      <th>Mpi100</th>\n",
              "      <th>p, Mpi100</th>\n",
              "    </tr>\n",
              "  </thead>\n",
              "  <tbody>\n",
              "    <tr>\n",
              "      <th>0</th>\n",
              "      <td>Port Townsend, WA</td>\n",
              "      <td>48.1</td>\n",
              "      <td>47</td>\n",
              "      <td>139</td>\n",
              "      <td>0.748</td>\n",
              "    </tr>\n",
              "    <tr>\n",
              "      <th>1</th>\n",
              "      <td>Neskowin, OR</td>\n",
              "      <td>45.2</td>\n",
              "      <td>177</td>\n",
              "      <td>241</td>\n",
              "      <td>0.577</td>\n",
              "    </tr>\n",
              "    <tr>\n",
              "      <th>2</th>\n",
              "      <td>Siuslaw R., OR</td>\n",
              "      <td>44.0</td>\n",
              "      <td>1087</td>\n",
              "      <td>1183</td>\n",
              "      <td>0.521</td>\n",
              "    </tr>\n",
              "    <tr>\n",
              "      <th>3</th>\n",
              "      <td>Umpqua R., OR</td>\n",
              "      <td>43.7</td>\n",
              "      <td>187</td>\n",
              "      <td>175</td>\n",
              "      <td>0.483</td>\n",
              "    </tr>\n",
              "    <tr>\n",
              "      <th>4</th>\n",
              "      <td>Coos Bay, OR</td>\n",
              "      <td>43.5</td>\n",
              "      <td>397</td>\n",
              "      <td>671</td>\n",
              "      <td>0.628</td>\n",
              "    </tr>\n",
              "  </tbody>\n",
              "</table>\n",
              "</div>\n",
              "    <div class=\"colab-df-buttons\">\n",
              "\n",
              "  <div class=\"colab-df-container\">\n",
              "    <button class=\"colab-df-convert\" onclick=\"convertToInteractive('df-d7b85611-0f81-4309-8ae3-ab7dc688701a')\"\n",
              "            title=\"Convert this dataframe to an interactive table.\"\n",
              "            style=\"display:none;\">\n",
              "\n",
              "  <svg xmlns=\"http://www.w3.org/2000/svg\" height=\"24px\" viewBox=\"0 -960 960 960\">\n",
              "    <path d=\"M120-120v-720h720v720H120Zm60-500h600v-160H180v160Zm220 220h160v-160H400v160Zm0 220h160v-160H400v160ZM180-400h160v-160H180v160Zm440 0h160v-160H620v160ZM180-180h160v-160H180v160Zm440 0h160v-160H620v160Z\"/>\n",
              "  </svg>\n",
              "    </button>\n",
              "\n",
              "  <style>\n",
              "    .colab-df-container {\n",
              "      display:flex;\n",
              "      gap: 12px;\n",
              "    }\n",
              "\n",
              "    .colab-df-convert {\n",
              "      background-color: #E8F0FE;\n",
              "      border: none;\n",
              "      border-radius: 50%;\n",
              "      cursor: pointer;\n",
              "      display: none;\n",
              "      fill: #1967D2;\n",
              "      height: 32px;\n",
              "      padding: 0 0 0 0;\n",
              "      width: 32px;\n",
              "    }\n",
              "\n",
              "    .colab-df-convert:hover {\n",
              "      background-color: #E2EBFA;\n",
              "      box-shadow: 0px 1px 2px rgba(60, 64, 67, 0.3), 0px 1px 3px 1px rgba(60, 64, 67, 0.15);\n",
              "      fill: #174EA6;\n",
              "    }\n",
              "\n",
              "    .colab-df-buttons div {\n",
              "      margin-bottom: 4px;\n",
              "    }\n",
              "\n",
              "    [theme=dark] .colab-df-convert {\n",
              "      background-color: #3B4455;\n",
              "      fill: #D2E3FC;\n",
              "    }\n",
              "\n",
              "    [theme=dark] .colab-df-convert:hover {\n",
              "      background-color: #434B5C;\n",
              "      box-shadow: 0px 1px 3px 1px rgba(0, 0, 0, 0.15);\n",
              "      filter: drop-shadow(0px 1px 2px rgba(0, 0, 0, 0.3));\n",
              "      fill: #FFFFFF;\n",
              "    }\n",
              "  </style>\n",
              "\n",
              "    <script>\n",
              "      const buttonEl =\n",
              "        document.querySelector('#df-d7b85611-0f81-4309-8ae3-ab7dc688701a button.colab-df-convert');\n",
              "      buttonEl.style.display =\n",
              "        google.colab.kernel.accessAllowed ? 'block' : 'none';\n",
              "\n",
              "      async function convertToInteractive(key) {\n",
              "        const element = document.querySelector('#df-d7b85611-0f81-4309-8ae3-ab7dc688701a');\n",
              "        const dataTable =\n",
              "          await google.colab.kernel.invokeFunction('convertToInteractive',\n",
              "                                                    [key], {});\n",
              "        if (!dataTable) return;\n",
              "\n",
              "        const docLinkHtml = 'Like what you see? Visit the ' +\n",
              "          '<a target=\"_blank\" href=https://colab.research.google.com/notebooks/data_table.ipynb>data table notebook</a>'\n",
              "          + ' to learn more about interactive tables.';\n",
              "        element.innerHTML = '';\n",
              "        dataTable['output_type'] = 'display_data';\n",
              "        await google.colab.output.renderOutput(dataTable, element);\n",
              "        const docLink = document.createElement('div');\n",
              "        docLink.innerHTML = docLinkHtml;\n",
              "        element.appendChild(docLink);\n",
              "      }\n",
              "    </script>\n",
              "  </div>\n",
              "\n",
              "\n",
              "<div id=\"df-2120c74a-e05e-45b0-a468-a52757cf6ff9\">\n",
              "  <button class=\"colab-df-quickchart\" onclick=\"quickchart('df-2120c74a-e05e-45b0-a468-a52757cf6ff9')\"\n",
              "            title=\"Suggest charts\"\n",
              "            style=\"display:none;\">\n",
              "\n",
              "<svg xmlns=\"http://www.w3.org/2000/svg\" height=\"24px\"viewBox=\"0 0 24 24\"\n",
              "     width=\"24px\">\n",
              "    <g>\n",
              "        <path d=\"M19 3H5c-1.1 0-2 .9-2 2v14c0 1.1.9 2 2 2h14c1.1 0 2-.9 2-2V5c0-1.1-.9-2-2-2zM9 17H7v-7h2v7zm4 0h-2V7h2v10zm4 0h-2v-4h2v4z\"/>\n",
              "    </g>\n",
              "</svg>\n",
              "  </button>\n",
              "\n",
              "<style>\n",
              "  .colab-df-quickchart {\n",
              "      --bg-color: #E8F0FE;\n",
              "      --fill-color: #1967D2;\n",
              "      --hover-bg-color: #E2EBFA;\n",
              "      --hover-fill-color: #174EA6;\n",
              "      --disabled-fill-color: #AAA;\n",
              "      --disabled-bg-color: #DDD;\n",
              "  }\n",
              "\n",
              "  [theme=dark] .colab-df-quickchart {\n",
              "      --bg-color: #3B4455;\n",
              "      --fill-color: #D2E3FC;\n",
              "      --hover-bg-color: #434B5C;\n",
              "      --hover-fill-color: #FFFFFF;\n",
              "      --disabled-bg-color: #3B4455;\n",
              "      --disabled-fill-color: #666;\n",
              "  }\n",
              "\n",
              "  .colab-df-quickchart {\n",
              "    background-color: var(--bg-color);\n",
              "    border: none;\n",
              "    border-radius: 50%;\n",
              "    cursor: pointer;\n",
              "    display: none;\n",
              "    fill: var(--fill-color);\n",
              "    height: 32px;\n",
              "    padding: 0;\n",
              "    width: 32px;\n",
              "  }\n",
              "\n",
              "  .colab-df-quickchart:hover {\n",
              "    background-color: var(--hover-bg-color);\n",
              "    box-shadow: 0 1px 2px rgba(60, 64, 67, 0.3), 0 1px 3px 1px rgba(60, 64, 67, 0.15);\n",
              "    fill: var(--button-hover-fill-color);\n",
              "  }\n",
              "\n",
              "  .colab-df-quickchart-complete:disabled,\n",
              "  .colab-df-quickchart-complete:disabled:hover {\n",
              "    background-color: var(--disabled-bg-color);\n",
              "    fill: var(--disabled-fill-color);\n",
              "    box-shadow: none;\n",
              "  }\n",
              "\n",
              "  .colab-df-spinner {\n",
              "    border: 2px solid var(--fill-color);\n",
              "    border-color: transparent;\n",
              "    border-bottom-color: var(--fill-color);\n",
              "    animation:\n",
              "      spin 1s steps(1) infinite;\n",
              "  }\n",
              "\n",
              "  @keyframes spin {\n",
              "    0% {\n",
              "      border-color: transparent;\n",
              "      border-bottom-color: var(--fill-color);\n",
              "      border-left-color: var(--fill-color);\n",
              "    }\n",
              "    20% {\n",
              "      border-color: transparent;\n",
              "      border-left-color: var(--fill-color);\n",
              "      border-top-color: var(--fill-color);\n",
              "    }\n",
              "    30% {\n",
              "      border-color: transparent;\n",
              "      border-left-color: var(--fill-color);\n",
              "      border-top-color: var(--fill-color);\n",
              "      border-right-color: var(--fill-color);\n",
              "    }\n",
              "    40% {\n",
              "      border-color: transparent;\n",
              "      border-right-color: var(--fill-color);\n",
              "      border-top-color: var(--fill-color);\n",
              "    }\n",
              "    60% {\n",
              "      border-color: transparent;\n",
              "      border-right-color: var(--fill-color);\n",
              "    }\n",
              "    80% {\n",
              "      border-color: transparent;\n",
              "      border-right-color: var(--fill-color);\n",
              "      border-bottom-color: var(--fill-color);\n",
              "    }\n",
              "    90% {\n",
              "      border-color: transparent;\n",
              "      border-bottom-color: var(--fill-color);\n",
              "    }\n",
              "  }\n",
              "</style>\n",
              "\n",
              "  <script>\n",
              "    async function quickchart(key) {\n",
              "      const quickchartButtonEl =\n",
              "        document.querySelector('#' + key + ' button');\n",
              "      quickchartButtonEl.disabled = true;  // To prevent multiple clicks.\n",
              "      quickchartButtonEl.classList.add('colab-df-spinner');\n",
              "      try {\n",
              "        const charts = await google.colab.kernel.invokeFunction(\n",
              "            'suggestCharts', [key], {});\n",
              "      } catch (error) {\n",
              "        console.error('Error during call to suggestCharts:', error);\n",
              "      }\n",
              "      quickchartButtonEl.classList.remove('colab-df-spinner');\n",
              "      quickchartButtonEl.classList.add('colab-df-quickchart-complete');\n",
              "    }\n",
              "    (() => {\n",
              "      let quickchartButtonEl =\n",
              "        document.querySelector('#df-2120c74a-e05e-45b0-a468-a52757cf6ff9 button');\n",
              "      quickchartButtonEl.style.display =\n",
              "        google.colab.kernel.accessAllowed ? 'block' : 'none';\n",
              "    })();\n",
              "  </script>\n",
              "</div>\n",
              "\n",
              "    </div>\n",
              "  </div>\n"
            ],
            "application/vnd.google.colaboratory.intrinsic+json": {
              "type": "dataframe",
              "variable_name": "df",
              "summary": "{\n  \"name\": \"df\",\n  \"rows\": 8,\n  \"fields\": [\n    {\n      \"column\": \"Location\",\n      \"properties\": {\n        \"dtype\": \"string\",\n        \"num_unique_values\": 8,\n        \"samples\": [\n          \"Neskowin, OR\",\n          \"San Francisco, CA\",\n          \"Port Townsend, WA\"\n        ],\n        \"semantic_type\": \"\",\n        \"description\": \"\"\n      }\n    },\n    {\n      \"column\": \"Latitude\",\n      \"properties\": {\n        \"dtype\": \"number\",\n        \"std\": 4.806245936279168,\n        \"min\": 34.3,\n        \"max\": 48.1,\n        \"num_unique_values\": 8,\n        \"samples\": [\n          45.2,\n          37.8,\n          48.1\n        ],\n        \"semantic_type\": \"\",\n        \"description\": \"\"\n      }\n    },\n    {\n      \"column\": \"Mpi90\",\n      \"properties\": {\n        \"dtype\": \"number\",\n        \"std\": 360,\n        \"min\": 30,\n        \"max\": 1087,\n        \"num_unique_values\": 8,\n        \"samples\": [\n          177,\n          40,\n          47\n        ],\n        \"semantic_type\": \"\",\n        \"description\": \"\"\n      }\n    },\n    {\n      \"column\": \"Mpi100\",\n      \"properties\": {\n        \"dtype\": \"number\",\n        \"std\": 416,\n        \"min\": 0,\n        \"max\": 1183,\n        \"num_unique_values\": 8,\n        \"samples\": [\n          241,\n          14,\n          139\n        ],\n        \"semantic_type\": \"\",\n        \"description\": \"\"\n      }\n    },\n    {\n      \"column\": \"p, Mpi100\",\n      \"properties\": {\n        \"dtype\": \"number\",\n        \"std\": 0.2397153073364915,\n        \"min\": 0.0,\n        \"max\": 0.748,\n        \"num_unique_values\": 8,\n        \"samples\": [\n          0.577,\n          0.259,\n          0.748\n        ],\n        \"semantic_type\": \"\",\n        \"description\": \"\"\n      }\n    }\n  ]\n}"
            }
          },
          "metadata": {},
          "execution_count": 30
        }
      ],
      "source": [
        "data = \"\"\"Location\tLatitude\tMpi90\tMpi100\tp, Mpi100\n",
        "Port Townsend, WA\t48.1\t47\t139\t0.748\n",
        "Neskowin, OR\t45.2\t177\t241\t0.577\n",
        "Siuslaw R., OR\t44\t1087\t1183\t0.521\n",
        "Umpqua R., OR\t43.7\t187\t175\t0.483\n",
        "Coos Bay, OR\t43.5\t397\t671\t0.628\n",
        "San Francisco, CA\t37.8\t40\t14\t0.259\n",
        "Carmel, CA\t36.6\t39\t17\t0.304\n",
        "Santa Barbara, CA\t34.3\t30\t0\t0\n",
        "\"\"\"\n",
        "df = pd.read_table(io.StringIO(data))\n",
        "df.head()"
      ]
    },
    {
      "cell_type": "code",
      "execution_count": 31,
      "metadata": {
        "id": "2YLwHeE9GZEn",
        "colab": {
          "base_uri": "https://localhost:8080/",
          "height": 458
        },
        "outputId": "65b8a371-7b8a-436b-8470-aefcb0f07429"
      },
      "outputs": [
        {
          "output_type": "display_data",
          "data": {
            "text/plain": [
              "<Figure size 640x480 with 1 Axes>"
            ],
            "image/png": "[encoded data removed]"
          },
          "metadata": {}
        }
      ],
      "source": [
        "df.sort_values('Latitude').plot('Latitude', 'p, Mpi100', ls='', marker='o')\n",
        "plt.ylabel('Mpi100 proportion')\n",
        "plt.legend().set_visible(False)\n",
        "plt.xlim(30, 50)\n",
        "plt.ylim(-0.1, 1.1)\n",
        "sns.despine()"
      ]
    },
    {
      "cell_type": "code",
      "execution_count": 32,
      "metadata": {
        "id": "rie6K_5NGZEn",
        "colab": {
          "base_uri": "https://localhost:8080/",
          "height": 206
        },
        "outputId": "af8d05bb-904a-4b49-aa31-92854e49485e"
      },
      "outputs": [
        {
          "output_type": "execute_result",
          "data": {
            "text/plain": [
              "            Location  Latitude  Allele\n",
              "0  Port Townsend, WA      48.1       0\n",
              "1  Port Townsend, WA      48.1       0\n",
              "2  Port Townsend, WA      48.1       0\n",
              "3  Port Townsend, WA      48.1       0\n",
              "4  Port Townsend, WA      48.1       0"
            ],
            "text/html": [
              "\n",
              "  <div id=\"df-302a0293-ff1c-4542-bfce-5ec4edd13239\" class=\"colab-df-container\">\n",
              "    <div>\n",
              "<style scoped>\n",
              "    .dataframe tbody tr th:only-of-type {\n",
              "        vertical-align: middle;\n",
              "    }\n",
              "\n",
              "    .dataframe tbody tr th {\n",
              "        vertical-align: top;\n",
              "    }\n",
              "\n",
              "    .dataframe thead th {\n",
              "        text-align: right;\n",
              "    }\n",
              "</style>\n",
              "<table border=\"1\" class=\"dataframe\">\n",
              "  <thead>\n",
              "    <tr style=\"text-align: right;\">\n",
              "      <th></th>\n",
              "      <th>Location</th>\n",
              "      <th>Latitude</th>\n",
              "      <th>Allele</th>\n",
              "    </tr>\n",
              "  </thead>\n",
              "  <tbody>\n",
              "    <tr>\n",
              "      <th>0</th>\n",
              "      <td>Port Townsend, WA</td>\n",
              "      <td>48.1</td>\n",
              "      <td>0</td>\n",
              "    </tr>\n",
              "    <tr>\n",
              "      <th>1</th>\n",
              "      <td>Port Townsend, WA</td>\n",
              "      <td>48.1</td>\n",
              "      <td>0</td>\n",
              "    </tr>\n",
              "    <tr>\n",
              "      <th>2</th>\n",
              "      <td>Port Townsend, WA</td>\n",
              "      <td>48.1</td>\n",
              "      <td>0</td>\n",
              "    </tr>\n",
              "    <tr>\n",
              "      <th>3</th>\n",
              "      <td>Port Townsend, WA</td>\n",
              "      <td>48.1</td>\n",
              "      <td>0</td>\n",
              "    </tr>\n",
              "    <tr>\n",
              "      <th>4</th>\n",
              "      <td>Port Townsend, WA</td>\n",
              "      <td>48.1</td>\n",
              "      <td>0</td>\n",
              "    </tr>\n",
              "  </tbody>\n",
              "</table>\n",
              "</div>\n",
              "    <div class=\"colab-df-buttons\">\n",
              "\n",
              "  <div class=\"colab-df-container\">\n",
              "    <button class=\"colab-df-convert\" onclick=\"convertToInteractive('df-302a0293-ff1c-4542-bfce-5ec4edd13239')\"\n",
              "            title=\"Convert this dataframe to an interactive table.\"\n",
              "            style=\"display:none;\">\n",
              "\n",
              "  <svg xmlns=\"http://www.w3.org/2000/svg\" height=\"24px\" viewBox=\"0 -960 960 960\">\n",
              "    <path d=\"M120-120v-720h720v720H120Zm60-500h600v-160H180v160Zm220 220h160v-160H400v160Zm0 220h160v-160H400v160ZM180-400h160v-160H180v160Zm440 0h160v-160H620v160ZM180-180h160v-160H180v160Zm440 0h160v-160H620v160Z\"/>\n",
              "  </svg>\n",
              "    </button>\n",
              "\n",
              "  <style>\n",
              "    .colab-df-container {\n",
              "      display:flex;\n",
              "      gap: 12px;\n",
              "    }\n",
              "\n",
              "    .colab-df-convert {\n",
              "      background-color: #E8F0FE;\n",
              "      border: none;\n",
              "      border-radius: 50%;\n",
              "      cursor: pointer;\n",
              "      display: none;\n",
              "      fill: #1967D2;\n",
              "      height: 32px;\n",
              "      padding: 0 0 0 0;\n",
              "      width: 32px;\n",
              "    }\n",
              "\n",
              "    .colab-df-convert:hover {\n",
              "      background-color: #E2EBFA;\n",
              "      box-shadow: 0px 1px 2px rgba(60, 64, 67, 0.3), 0px 1px 3px 1px rgba(60, 64, 67, 0.15);\n",
              "      fill: #174EA6;\n",
              "    }\n",
              "\n",
              "    .colab-df-buttons div {\n",
              "      margin-bottom: 4px;\n",
              "    }\n",
              "\n",
              "    [theme=dark] .colab-df-convert {\n",
              "      background-color: #3B4455;\n",
              "      fill: #D2E3FC;\n",
              "    }\n",
              "\n",
              "    [theme=dark] .colab-df-convert:hover {\n",
              "      background-color: #434B5C;\n",
              "      box-shadow: 0px 1px 3px 1px rgba(0, 0, 0, 0.15);\n",
              "      filter: drop-shadow(0px 1px 2px rgba(0, 0, 0, 0.3));\n",
              "      fill: #FFFFFF;\n",
              "    }\n",
              "  </style>\n",
              "\n",
              "    <script>\n",
              "      const buttonEl =\n",
              "        document.querySelector('#df-302a0293-ff1c-4542-bfce-5ec4edd13239 button.colab-df-convert');\n",
              "      buttonEl.style.display =\n",
              "        google.colab.kernel.accessAllowed ? 'block' : 'none';\n",
              "\n",
              "      async function convertToInteractive(key) {\n",
              "        const element = document.querySelector('#df-302a0293-ff1c-4542-bfce-5ec4edd13239');\n",
              "        const dataTable =\n",
              "          await google.colab.kernel.invokeFunction('convertToInteractive',\n",
              "                                                    [key], {});\n",
              "        if (!dataTable) return;\n",
              "\n",
              "        const docLinkHtml = 'Like what you see? Visit the ' +\n",
              "          '<a target=\"_blank\" href=https://colab.research.google.com/notebooks/data_table.ipynb>data table notebook</a>'\n",
              "          + ' to learn more about interactive tables.';\n",
              "        element.innerHTML = '';\n",
              "        dataTable['output_type'] = 'display_data';\n",
              "        await google.colab.output.renderOutput(dataTable, element);\n",
              "        const docLink = document.createElement('div');\n",
              "        docLink.innerHTML = docLinkHtml;\n",
              "        element.appendChild(docLink);\n",
              "      }\n",
              "    </script>\n",
              "  </div>\n",
              "\n",
              "\n",
              "<div id=\"df-4396ce54-e3a1-4d56-a4a6-4b5aed636c31\">\n",
              "  <button class=\"colab-df-quickchart\" onclick=\"quickchart('df-4396ce54-e3a1-4d56-a4a6-4b5aed636c31')\"\n",
              "            title=\"Suggest charts\"\n",
              "            style=\"display:none;\">\n",
              "\n",
              "<svg xmlns=\"http://www.w3.org/2000/svg\" height=\"24px\"viewBox=\"0 0 24 24\"\n",
              "     width=\"24px\">\n",
              "    <g>\n",
              "        <path d=\"M19 3H5c-1.1 0-2 .9-2 2v14c0 1.1.9 2 2 2h14c1.1 0 2-.9 2-2V5c0-1.1-.9-2-2-2zM9 17H7v-7h2v7zm4 0h-2V7h2v10zm4 0h-2v-4h2v4z\"/>\n",
              "    </g>\n",
              "</svg>\n",
              "  </button>\n",
              "\n",
              "<style>\n",
              "  .colab-df-quickchart {\n",
              "      --bg-color: #E8F0FE;\n",
              "      --fill-color: #1967D2;\n",
              "      --hover-bg-color: #E2EBFA;\n",
              "      --hover-fill-color: #174EA6;\n",
              "      --disabled-fill-color: #AAA;\n",
              "      --disabled-bg-color: #DDD;\n",
              "  }\n",
              "\n",
              "  [theme=dark] .colab-df-quickchart {\n",
              "      --bg-color: #3B4455;\n",
              "      --fill-color: #D2E3FC;\n",
              "      --hover-bg-color: #434B5C;\n",
              "      --hover-fill-color: #FFFFFF;\n",
              "      --disabled-bg-color: #3B4455;\n",
              "      --disabled-fill-color: #666;\n",
              "  }\n",
              "\n",
              "  .colab-df-quickchart {\n",
              "    background-color: var(--bg-color);\n",
              "    border: none;\n",
              "    border-radius: 50%;\n",
              "    cursor: pointer;\n",
              "    display: none;\n",
              "    fill: var(--fill-color);\n",
              "    height: 32px;\n",
              "    padding: 0;\n",
              "    width: 32px;\n",
              "  }\n",
              "\n",
              "  .colab-df-quickchart:hover {\n",
              "    background-color: var(--hover-bg-color);\n",
              "    box-shadow: 0 1px 2px rgba(60, 64, 67, 0.3), 0 1px 3px 1px rgba(60, 64, 67, 0.15);\n",
              "    fill: var(--button-hover-fill-color);\n",
              "  }\n",
              "\n",
              "  .colab-df-quickchart-complete:disabled,\n",
              "  .colab-df-quickchart-complete:disabled:hover {\n",
              "    background-color: var(--disabled-bg-color);\n",
              "    fill: var(--disabled-fill-color);\n",
              "    box-shadow: none;\n",
              "  }\n",
              "\n",
              "  .colab-df-spinner {\n",
              "    border: 2px solid var(--fill-color);\n",
              "    border-color: transparent;\n",
              "    border-bottom-color: var(--fill-color);\n",
              "    animation:\n",
              "      spin 1s steps(1) infinite;\n",
              "  }\n",
              "\n",
              "  @keyframes spin {\n",
              "    0% {\n",
              "      border-color: transparent;\n",
              "      border-bottom-color: var(--fill-color);\n",
              "      border-left-color: var(--fill-color);\n",
              "    }\n",
              "    20% {\n",
              "      border-color: transparent;\n",
              "      border-left-color: var(--fill-color);\n",
              "      border-top-color: var(--fill-color);\n",
              "    }\n",
              "    30% {\n",
              "      border-color: transparent;\n",
              "      border-left-color: var(--fill-color);\n",
              "      border-top-color: var(--fill-color);\n",
              "      border-right-color: var(--fill-color);\n",
              "    }\n",
              "    40% {\n",
              "      border-color: transparent;\n",
              "      border-right-color: var(--fill-color);\n",
              "      border-top-color: var(--fill-color);\n",
              "    }\n",
              "    60% {\n",
              "      border-color: transparent;\n",
              "      border-right-color: var(--fill-color);\n",
              "    }\n",
              "    80% {\n",
              "      border-color: transparent;\n",
              "      border-right-color: var(--fill-color);\n",
              "      border-bottom-color: var(--fill-color);\n",
              "    }\n",
              "    90% {\n",
              "      border-color: transparent;\n",
              "      border-bottom-color: var(--fill-color);\n",
              "    }\n",
              "  }\n",
              "</style>\n",
              "\n",
              "  <script>\n",
              "    async function quickchart(key) {\n",
              "      const quickchartButtonEl =\n",
              "        document.querySelector('#' + key + ' button');\n",
              "      quickchartButtonEl.disabled = true;  // To prevent multiple clicks.\n",
              "      quickchartButtonEl.classList.add('colab-df-spinner');\n",
              "      try {\n",
              "        const charts = await google.colab.kernel.invokeFunction(\n",
              "            'suggestCharts', [key], {});\n",
              "      } catch (error) {\n",
              "        console.error('Error during call to suggestCharts:', error);\n",
              "      }\n",
              "      quickchartButtonEl.classList.remove('colab-df-spinner');\n",
              "      quickchartButtonEl.classList.add('colab-df-quickchart-complete');\n",
              "    }\n",
              "    (() => {\n",
              "      let quickchartButtonEl =\n",
              "        document.querySelector('#df-4396ce54-e3a1-4d56-a4a6-4b5aed636c31 button');\n",
              "      quickchartButtonEl.style.display =\n",
              "        google.colab.kernel.accessAllowed ? 'block' : 'none';\n",
              "    })();\n",
              "  </script>\n",
              "</div>\n",
              "\n",
              "    </div>\n",
              "  </div>\n"
            ],
            "application/vnd.google.colaboratory.intrinsic+json": {
              "type": "dataframe",
              "variable_name": "raw_df",
              "summary": "{\n  \"name\": \"raw_df\",\n  \"rows\": 4444,\n  \"fields\": [\n    {\n      \"column\": \"Location\",\n      \"properties\": {\n        \"dtype\": \"category\",\n        \"num_unique_values\": 8,\n        \"samples\": [\n          \"Neskowin, OR\",\n          \"San Francisco, CA\",\n          \"Port Townsend, WA\"\n        ],\n        \"semantic_type\": \"\",\n        \"description\": \"\"\n      }\n    },\n    {\n      \"column\": \"Latitude\",\n      \"properties\": {\n        \"dtype\": \"number\",\n        \"std\": 1.6402646739993252,\n        \"min\": 34.3,\n        \"max\": 48.1,\n        \"num_unique_values\": 8,\n        \"samples\": [\n          45.2,\n          37.8,\n          48.1\n        ],\n        \"semantic_type\": \"\",\n        \"description\": \"\"\n      }\n    },\n    {\n      \"column\": \"Allele\",\n      \"properties\": {\n        \"dtype\": \"number\",\n        \"std\": 0,\n        \"min\": 0,\n        \"max\": 1,\n        \"num_unique_values\": 2,\n        \"samples\": [\n          1,\n          0\n        ],\n        \"semantic_type\": \"\",\n        \"description\": \"\"\n      }\n    }\n  ]\n}"
            }
          },
          "metadata": {},
          "execution_count": 32
        }
      ],
      "source": [
        "rows = []\n",
        "for i, row in df.iterrows():\n",
        "    for _ in range(row['Mpi90']):\n",
        "        rows.append({'Location':row['Location'], 'Latitude': row['Latitude'], 'Allele': 0})\n",
        "    for _ in range(row['Mpi100']):\n",
        "        rows.append({'Location':row['Location'], 'Latitude': row['Latitude'], 'Allele': 1})\n",
        "raw_df = pd.DataFrame(rows)\n",
        "raw_df.head()"
      ]
    },
    {
      "cell_type": "markdown",
      "source": [
        "\n",
        "This code snippet iterates over each row in the DataFrame df and generates new rows based on the values of the columns 'Mpi90' and 'Mpi100'. For each row, it creates multiple rows in a new DataFrame raw_df, where the number of rows generated depends on the values of 'Mpi90' and 'Mpi100'. Specifically, it generates rows with 'Allele' values of 0 and 1, with the number of rows for each allele determined by the corresponding values in 'Mpi90' and 'Mpi100'. The new DataFrame raw_df contains the expanded rows with additional columns for 'Location', 'Latitude', and 'Allele'. This process effectively expands the dataset to represent each allele count individually."
      ],
      "metadata": {
        "id": "Uxn1OeYgYPIi"
      }
    },
    {
      "cell_type": "code",
      "execution_count": 33,
      "metadata": {
        "id": "djdi66beGZEn",
        "colab": {
          "base_uri": "https://localhost:8080/"
        },
        "outputId": "8131d493-3c1d-40e8-a973-b54757604ca3"
      },
      "outputs": [
        {
          "output_type": "stream",
          "name": "stdout",
          "text": [
            "[-7.64686599] [[0.17863979]]\n"
          ]
        }
      ],
      "source": [
        "X = raw_df['Latitude'].values.reshape(-1, 1)\n",
        "clf.fit(X, raw_df['Allele'])\n",
        "print(clf.intercept_, clf.coef_)"
      ]
    },
    {
      "cell_type": "markdown",
      "metadata": {
        "id": "qs_nZF5gGZEo"
      },
      "source": [
        "which is very close to McDonald's intercept of -7.6469 and slope of 0.1786."
      ]
    },
    {
      "cell_type": "code",
      "execution_count": 34,
      "metadata": {
        "id": "dn1woI0_GZEo",
        "colab": {
          "base_uri": "https://localhost:8080/",
          "height": 498
        },
        "outputId": "f9a1b7c3-270c-4608-cc6d-2c9c178b616a"
      },
      "outputs": [
        {
          "output_type": "execute_result",
          "data": {
            "text/plain": [
              "<Axes: xlabel='Latitude', ylabel='Allele'>"
            ]
          },
          "metadata": {},
          "execution_count": 34
        },
        {
          "output_type": "display_data",
          "data": {
            "text/plain": [
              "<Figure size 640x480 with 1 Axes>"
            ],
            "image/png": "[encoded data removed]"
          },
          "metadata": {}
        }
      ],
      "source": [
        "fig, ax = plot_log_reg(x='Latitude', y='Allele', data=raw_df, clf=clf, xmin=30, xmax=50, alpha=0.02)\n",
        "df.sort_values('Latitude').plot('Latitude', 'p, Mpi100', ls='', marker='o', ax=ax)"
      ]
    },
    {
      "cell_type": "markdown",
      "source": [
        "This code provides a comprehensive visualization of the logistic regression model's decision boundary and the distribution of data points, aiding in the interpretation and evaluation of the model's performance."
      ],
      "metadata": {
        "id": "klFrxpGhYXAx"
      }
    },
    {
      "cell_type": "code",
      "execution_count": 35,
      "metadata": {
        "id": "tTJsDE-fGZEo",
        "colab": {
          "base_uri": "https://localhost:8080/"
        },
        "outputId": "f7169367-9f7b-4760-c166-9389257f5adb"
      },
      "outputs": [
        {
          "output_type": "stream",
          "name": "stdout",
          "text": [
            "[0.19685285] [[0.]]\n"
          ]
        }
      ],
      "source": [
        "clf0 = log_reg_null_model(raw_df['Allele'])\n",
        "print(clf0.intercept_, clf0.coef_)"
      ]
    },
    {
      "cell_type": "markdown",
      "source": [
        "\n",
        "This code initializes a logistic regression model clf0, termed as a null model, which serves as a baseline for comparison with more complex models. The null model is established using the log_reg_null_model function, with the predictor variable being raw_df['Allele'], implying that the model might solely consider the 'Allele' feature. Following initialization, the code prints the intercept and coefficients of the null model. These parameters provide insights into the model's baseline characteristics: the intercept represents the bias term, while the coefficients indicate the relationship between the predictor variable(s) and the target variable. By establishing this null model, the code sets a foundation for evaluating the significance and performance of more elaborate models in explaining the variation in the target variable."
      ],
      "metadata": {
        "id": "xxXDR3AZYky3"
      }
    },
    {
      "cell_type": "code",
      "execution_count": 36,
      "metadata": {
        "id": "gRjq4H9oGZEo",
        "colab": {
          "base_uri": "https://localhost:8080/"
        },
        "outputId": "da43382a-8e93-4294-d3af-e328a8c20e3a"
      },
      "outputs": [
        {
          "output_type": "execute_result",
          "data": {
            "text/plain": [
              "7.047578882585389e-20"
            ]
          },
          "metadata": {},
          "execution_count": 36
        }
      ],
      "source": [
        "X = raw_df['Latitude'].values.reshape(-1, 1)\n",
        "log_reg_lik_ratio_test(X, raw_df['Allele'], clf0, clf)"
      ]
    },
    {
      "cell_type": "markdown",
      "source": [
        "This code segment conducts a likelihood ratio test to evaluate the improvement in model fit achieved by including the 'Latitude' feature in a logistic regression model compared to a null model. Firstly, it prepares the predictor variable 'Latitude' by extracting it from the DataFrame raw_df and reshaping it into a suitable format for analysis. Subsequently, the likelihood ratio test is initiated by invoking the log_reg_lik_ratio_test function with the predictor variable, the target variable 'Allele', and the two logistic regression classifiers: clf0, representing the null model, and clf, representing the model incorporating the 'Latitude' feature. This function computes a p-value indicating the significance of the difference in model fit between the two models. A low p-value suggests that the model with the additional 'Latitude' feature significantly improves fit over the null model. Thus, this test aids in determining the relevance and contribution of the 'Latitude' feature in explaining variation in the target variable 'Allele' within the logistic regression framework."
      ],
      "metadata": {
        "id": "DzmkhvrIYyEQ"
      }
    }
  ],
  "metadata": {
    "kernelspec": {
      "display_name": "Python 3",
      "name": "python3"
    },
    "language_info": {
      "codemirror_mode": {
        "name": "ipython",
        "version": 3
      },
      "file_extension": ".py",
      "mimetype": "text/x-python",
      "name": "python",
      "nbconvert_exporter": "python",
      "pygments_lexer": "ipython3",
      "version": "3.5.2"
    },
    "colab": {
      "provenance": []
    }
  },
  "nbformat": 4,
  "nbformat_minor": 0
}